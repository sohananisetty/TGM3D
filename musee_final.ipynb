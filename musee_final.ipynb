{
 "cells": [
  {
   "cell_type": "code",
   "execution_count": 1,
   "id": "de4d976f-3c5f-419c-9da2-7ff710bb6cd3",
   "metadata": {},
   "outputs": [
    {
     "name": "stdout",
     "output_type": "stream",
     "text": [
      "Using device: cuda\n",
      "\n",
      "NVIDIA GeForce RTX 2080 Ti\n",
      "Memory Usage:\n",
      "Allocated: 0.0 GB\n",
      "Cached:    0.0 GB\n"
     ]
    }
   ],
   "source": [
    "# setting device on GPU if available, else CPU\n",
    "import torch\n",
    "device = torch.device('cuda' if torch.cuda.is_available() else 'cpu')\n",
    "print('Using device:', device)\n",
    "print()\n",
    "\n",
    "#Additional Info when using cuda\n",
    "if device.type == 'cuda':\n",
    "    print(torch.cuda.get_device_name(0))\n",
    "    print('Memory Usage:')\n",
    "    print('Allocated:', round(torch.cuda.memory_allocated(0)/1024**3,1), 'GB')\n",
    "    print('Cached:   ', round(torch.cuda.memory_reserved(0)/1024**3,1), 'GB')\n"
   ]
  },
  {
   "cell_type": "code",
   "execution_count": 2,
   "id": "6631f1b4-6fc9-4793-a29a-c9bab15bea2c",
   "metadata": {},
   "outputs": [],
   "source": [
    "%load_ext autoreload\n",
    "%autoreload 2\n",
    "%matplotlib inline"
   ]
  },
  {
   "cell_type": "code",
   "execution_count": 3,
   "id": "ddc69043-d557-4237-8ec7-48ab7e41eb25",
   "metadata": {},
   "outputs": [],
   "source": [
    "import wandb\n",
    "\n",
    "import torch\n",
    "import torch.nn.functional as F\n",
    "import torch.nn as nn\n",
    "from torch.utils.data import DataLoader\n",
    "\n",
    "from torch.utils import data\n",
    "\n",
    "\n",
    "import copy\n",
    "import os\n",
    "import random\n",
    "import cv2\n",
    "import numpy as np\n",
    "from PIL import Image\n",
    "import pandas as pd\n",
    "import matplotlib.pyplot as plt\n",
    "from glob import glob\n",
    "import functools\n",
    "from tqdm import tqdm\n",
    "from datetime import datetime\n",
    "import numpy as np\n",
    "# from core.datasets.vqa_motion_dataset import VQMotionDataset,DATALoader,VQVarLenMotionDataset,MotionCollator\n",
    "from einops import rearrange, reduce, pack, unpack\n",
    "import sys"
   ]
  },
  {
   "cell_type": "code",
   "execution_count": 15,
   "id": "35df607b-200f-43c9-be0f-c10105aa6f2d",
   "metadata": {},
   "outputs": [
    {
     "name": "stdout",
     "output_type": "stream",
     "text": [
      "loading config from: /srv/hays-lab/scratch/sanisetty3/music_motion/TGM3D/checkpoints/bert_12_768/bert_12_768.yaml\n"
     ]
    }
   ],
   "source": [
    "from core.datasets.dataset_loading_utils import load_dataset_bert\n",
    "from core.datasets.motion_bert_dataset import BERTMotionDataset, DATALoader\n",
    "from core.models.BERT import BERT, BERTParams\n",
    "from core.optimizer import get_optimizer\n",
    "from torch.utils.data import DataLoader\n",
    "from configs.config import get_cfg_defaults\n",
    "\n",
    "path = \"/srv/hays-lab/scratch/sanisetty3/music_motion/TGM3D/checkpoints/bert_12_768/bert_12_768.yaml\"\n",
    "cfg = get_cfg_defaults()\n",
    "print(\"loading config from:\", path)\n",
    "cfg.merge_from_file(path)\n",
    "cfg.freeze()"
   ]
  },
  {
   "cell_type": "code",
   "execution_count": 21,
   "id": "69a3167d-404a-4f69-9a9a-74c1567b177d",
   "metadata": {},
   "outputs": [
    {
     "name": "stderr",
     "output_type": "stream",
     "text": [
      "100%|████████████████████████████████████████████████████████████████████████████████████████████████████████████████████████████████████████| 23384/23384 [00:22<00:00, 1027.84it/s]"
     ]
    },
    {
     "name": "stdout",
     "output_type": "stream",
     "text": [
      "Total number of motions 23384\n"
     ]
    },
    {
     "name": "stderr",
     "output_type": "stream",
     "text": [
      "\n"
     ]
    }
   ],
   "source": [
    "ds = BERTMotionDataset(\"t2m\" , \"/srv/hays-lab/scratch/sanisetty3/music_motion/HumanMotionIndices\" , 0 , 128 , mask_prob = 0.3 )"
   ]
  },
  {
   "cell_type": "code",
   "execution_count": 22,
   "id": "ef51a31e-3f7b-44a3-8b26-459e9e83112e",
   "metadata": {},
   "outputs": [],
   "source": [
    "from core.models.text_encoders import T5\n",
    "t5 = T5(128)\n"
   ]
  },
  {
   "cell_type": "code",
   "execution_count": 33,
   "id": "748388b8-f4a2-4a31-84ae-dffc71d8ebbd",
   "metadata": {},
   "outputs": [],
   "source": [
    "dl = DATALoader(ds , 4 , t5)"
   ]
  },
  {
   "cell_type": "code",
   "execution_count": 34,
   "id": "4ac205dd-ce00-4a97-93a4-c6403643bbd8",
   "metadata": {},
   "outputs": [],
   "source": [
    "for batch in dl:\n",
    "    break"
   ]
  },
  {
   "cell_type": "code",
   "execution_count": 37,
   "id": "19e82a40-1a56-42bf-b2c7-5e6d9e8c2b0b",
   "metadata": {},
   "outputs": [
    {
     "data": {
      "text/plain": [
       "torch.bool"
      ]
     },
     "execution_count": 37,
     "metadata": {},
     "output_type": "execute_result"
    }
   ],
   "source": [
    "batch[\"mask\"].dtype"
   ]
  },
  {
   "cell_type": "code",
   "execution_count": null,
   "id": "a93636f2-4d7c-4592-b77d-cb137ae0850b",
   "metadata": {},
   "outputs": [],
   "source": []
  },
  {
   "cell_type": "code",
   "execution_count": 29,
   "id": "8a383f76-fefe-4b40-b1e9-4a9ad28e5eeb",
   "metadata": {},
   "outputs": [],
   "source": [
    "params = BERTParams()\n",
    "bert = BERT(params).cuda()"
   ]
  },
  {
   "cell_type": "code",
   "execution_count": 42,
   "id": "687c798e-6404-461c-8e7d-0726cdf38cf7",
   "metadata": {},
   "outputs": [],
   "source": [
    "mlm_loss_fnc = torch.nn.CrossEntropyLoss(ignore_index=bert.pad_index)"
   ]
  },
  {
   "cell_type": "code",
   "execution_count": 39,
   "id": "00259b4b-61ee-4a02-9332-2b078460b878",
   "metadata": {},
   "outputs": [],
   "source": [
    "mask_lm_output , out = bert.forward(\n",
    "                    batch[\"bert_input\"].cuda(), batch[\"mask\"].cuda()\n",
    "                )"
   ]
  },
  {
   "cell_type": "code",
   "execution_count": 40,
   "id": "0561e292-e19a-4e17-ac29-cbf97eb20d83",
   "metadata": {},
   "outputs": [
    {
     "data": {
      "text/plain": [
       "torch.Size([4, 127, 1027])"
      ]
     },
     "execution_count": 40,
     "metadata": {},
     "output_type": "execute_result"
    }
   ],
   "source": [
    "mask_lm_output.shape"
   ]
  },
  {
   "cell_type": "code",
   "execution_count": 41,
   "id": "62d46a70-c26a-4d78-9230-e9eed9410aeb",
   "metadata": {},
   "outputs": [
    {
     "data": {
      "text/plain": [
       "torch.Size([4, 768])"
      ]
     },
     "execution_count": 41,
     "metadata": {},
     "output_type": "execute_result"
    }
   ],
   "source": [
    "out.shape"
   ]
  },
  {
   "cell_type": "code",
   "execution_count": 55,
   "id": "36336450-05d5-4dc9-92c2-b112875876e5",
   "metadata": {},
   "outputs": [],
   "source": [
    "context_embed = torch.max(batch[\"context_embed\"] , 1).values"
   ]
  },
  {
   "cell_type": "code",
   "execution_count": null,
   "id": "2bf28bba-72ae-4fa2-ac97-0f3ade1d89f8",
   "metadata": {},
   "outputs": [],
   "source": []
  },
  {
   "cell_type": "code",
   "execution_count": 48,
   "id": "f33be9d1-b102-42b9-87c5-9c87051f3d7e",
   "metadata": {},
   "outputs": [
    {
     "data": {
      "text/plain": [
       "tensor(6.9230, device='cuda:0', grad_fn=<NllLoss2DBackward0>)"
      ]
     },
     "execution_count": 48,
     "metadata": {},
     "output_type": "execute_result"
    }
   ],
   "source": [
    "mask_loss = mlm_loss_fnc(mask_lm_output.transpose(1, 2), batch[\"bert_label\"][:,1:].cuda())\n",
    "mask_loss"
   ]
  },
  {
   "cell_type": "code",
   "execution_count": null,
   "id": "4ceccb82-9a92-4135-8309-82e2c4d084f2",
   "metadata": {},
   "outputs": [],
   "source": []
  },
  {
   "cell_type": "code",
   "execution_count": null,
   "id": "3007183e-fdd8-48ad-b28d-332405fb7f92",
   "metadata": {},
   "outputs": [],
   "source": []
  }
 ],
 "metadata": {
  "kernelspec": {
   "display_name": "Python 3 (ipykernel)",
   "language": "python",
   "name": "python3"
  },
  "language_info": {
   "codemirror_mode": {
    "name": "ipython",
    "version": 3
   },
   "file_extension": ".py",
   "mimetype": "text/x-python",
   "name": "python",
   "nbconvert_exporter": "python",
   "pygments_lexer": "ipython3",
   "version": "3.9.17"
  }
 },
 "nbformat": 4,
 "nbformat_minor": 5
}
