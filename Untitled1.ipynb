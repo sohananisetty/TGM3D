{
 "cells": [
  {
   "cell_type": "code",
   "execution_count": 1,
   "id": "36c9f935-d3f8-4666-a872-068b4caa4d31",
   "metadata": {},
   "outputs": [
    {
     "name": "stdout",
     "output_type": "stream",
     "text": [
      "Using device: cuda\n",
      "\n",
      "NVIDIA GeForce RTX 2080 Ti\n",
      "Memory Usage:\n",
      "Allocated: 0.0 GB\n",
      "Cached:    0.0 GB\n"
     ]
    }
   ],
   "source": [
    "# setting device on GPU if available, else CPU\n",
    "import torch\n",
    "device = torch.device('cuda' if torch.cuda.is_available() else 'cpu')\n",
    "print('Using device:', device)\n",
    "print()\n",
    "\n",
    "#Additional Info when using cuda\n",
    "if device.type == 'cuda':\n",
    "    print(torch.cuda.get_device_name(0))\n",
    "    print('Memory Usage:')\n",
    "    print('Allocated:', round(torch.cuda.memory_allocated(0)/1024**3,1), 'GB')\n",
    "    print('Cached:   ', round(torch.cuda.memory_reserved(0)/1024**3,1), 'GB')\n"
   ]
  },
  {
   "cell_type": "code",
   "execution_count": 2,
   "id": "19841b06-6a3e-467c-9374-cdbf031f8b29",
   "metadata": {},
   "outputs": [],
   "source": [
    "%load_ext autoreload\n",
    "%autoreload 2\n",
    "%matplotlib inline"
   ]
  },
  {
   "cell_type": "code",
   "execution_count": 3,
   "id": "5eefbadd-92d3-4ec6-aea8-d92b72c2d354",
   "metadata": {},
   "outputs": [],
   "source": [
    "import os\n",
    "import random\n",
    "from typing import Callable, Dict, List, Optional, Tuple\n",
    "\n",
    "import numpy as np\n",
    "import torch\n",
    "import torch.nn as nn\n",
    "from torch.utils import data\n",
    "from tqdm import tqdm\n",
    "\n",
    "from glob import glob\n",
    "\n",
    "\n"
   ]
  },
  {
   "cell_type": "code",
   "execution_count": 36,
   "id": "a4c9c4f4-37e2-411c-8ebe-b63257b9bbc7",
   "metadata": {},
   "outputs": [],
   "source": [
    "from configs.config import get_cfg_defaults\n",
    "from core.datasets.dataset_loading_utils import load_dataset\n",
    "from core.datasets.vq_dataset import DATALoader\n",
    "from utils.vis_utils import plot_3d_global\n",
    "from core.models.conformer_vqvae import ConformerVQMotionModel, Encoder\n",
    "from torch.utils import data\n",
    "from einops import pack, rearrange, reduce, repeat, unpack\n",
    "from torch.utils.data import DataLoader\n",
    "\n",
    "\n",
    "from core.models.BERT import BERT, BERTLM, BERTParams\n",
    "from core.datasets.motion_bert_dataset import BERTMotionDataset, DATALoader\n",
    "from core.models.muse.attend import AttentionParams\n",
    "from core.models.muse.positional_embeddings import PositionalEmbeddingParams, PositionalEmbeddingType"
   ]
  },
  {
   "cell_type": "code",
   "execution_count": null,
   "id": "60c49716-80c8-458d-a2e4-a7d67c6d1fae",
   "metadata": {},
   "outputs": [],
   "source": []
  },
  {
   "cell_type": "code",
   "execution_count": 5,
   "id": "43022899-f29c-4a3b-bd78-a266deeb3759",
   "metadata": {},
   "outputs": [
    {
     "name": "stderr",
     "output_type": "stream",
     "text": [
      "100%|█████████████████████████████████████████████████████████████████████████████████████████████████| 39408/39408 [00:20<00:00, 1951.57it/s]"
     ]
    },
    {
     "name": "stdout",
     "output_type": "stream",
     "text": [
      "Total number of motions 39408\n"
     ]
    },
    {
     "name": "stderr",
     "output_type": "stream",
     "text": [
      "\n"
     ]
    }
   ],
   "source": [
    "train_dataset = BERTMotionDataset(\"t2m\", \"/srv/hays-lab/scratch/sanisetty3/music_motion/HumanMotionSMPLIndices/\" , )\n"
   ]
  },
  {
   "cell_type": "code",
   "execution_count": 6,
   "id": "c5dd6d80-829b-4676-a76a-e35b17d03e61",
   "metadata": {},
   "outputs": [],
   "source": [
    "train_data_loader = DataLoader(train_dataset, batch_size=4, num_workers=0)\n"
   ]
  },
  {
   "cell_type": "code",
   "execution_count": null,
   "id": "db106688-e87f-4b7e-bbbb-4e6c7ed8d5e3",
   "metadata": {},
   "outputs": [],
   "source": []
  },
  {
   "cell_type": "code",
   "execution_count": 7,
   "id": "f0199326-9d71-400d-ae49-226ebb817fb4",
   "metadata": {},
   "outputs": [],
   "source": [
    "for batch in train_data_loader:\n",
    "    break"
   ]
  },
  {
   "cell_type": "code",
   "execution_count": 8,
   "id": "9701ee19-e768-4bb4-aafd-9108894b4a0e",
   "metadata": {},
   "outputs": [
    {
     "data": {
      "text/plain": [
       "tensor([[1, 1, 1,  ..., 0, 0, 0],\n",
       "        [1, 1, 1,  ..., 0, 0, 0],\n",
       "        [1, 1, 1,  ..., 0, 0, 0],\n",
       "        [1, 1, 1,  ..., 0, 0, 0]])"
      ]
     },
     "execution_count": 8,
     "metadata": {},
     "output_type": "execute_result"
    }
   ],
   "source": [
    "batch[\"segment_label\"]"
   ]
  },
  {
   "cell_type": "code",
   "execution_count": null,
   "id": "252583ed-c943-49c2-bbb0-5657b9546c3f",
   "metadata": {},
   "outputs": [],
   "source": []
  },
  {
   "cell_type": "code",
   "execution_count": 9,
   "id": "684a57bf-3235-4b65-b327-e07ad521dcc3",
   "metadata": {},
   "outputs": [
    {
     "data": {
      "text/plain": [
       "torch.Size([4, 512])"
      ]
     },
     "execution_count": 9,
     "metadata": {},
     "output_type": "execute_result"
    }
   ],
   "source": [
    " batch[\"segment_label\"].shape"
   ]
  },
  {
   "cell_type": "code",
   "execution_count": null,
   "id": "2e4f312a-a199-4f60-bacf-f43a93c7ce78",
   "metadata": {},
   "outputs": [],
   "source": []
  },
  {
   "cell_type": "code",
   "execution_count": 40,
   "id": "a00013b4-9ecd-42ad-ad9c-41aae3a52a86",
   "metadata": {},
   "outputs": [],
   "source": [
    "from core.models.BERT import BERT, BERTLM, BERTParams\n",
    "\n",
    "params = BERTParams()\n",
    "bert = BERT(params)\n",
    "bertlm = BERTLM(bert , 1024)"
   ]
  },
  {
   "cell_type": "code",
   "execution_count": 41,
   "id": "29b79c1d-9f48-4817-b6fa-108e65351887",
   "metadata": {},
   "outputs": [
    {
     "name": "stdout",
     "output_type": "stream",
     "text": [
      "torch.Size([4, 512, 768])\n"
     ]
    }
   ],
   "source": [
    "next_sent_output, mask_lm_output = bertlm(batch[\"bert_input\"], batch[\"segment_label\"])"
   ]
  },
  {
   "cell_type": "code",
   "execution_count": 42,
   "id": "42c2928d-61d2-4f9c-ac8e-71ff51036185",
   "metadata": {},
   "outputs": [
    {
     "data": {
      "text/plain": [
       "torch.Size([4, 2])"
      ]
     },
     "execution_count": 42,
     "metadata": {},
     "output_type": "execute_result"
    }
   ],
   "source": [
    "next_sent_output.shape"
   ]
  },
  {
   "cell_type": "code",
   "execution_count": 43,
   "id": "d74e6e85-2817-495f-b54f-b7b5b2b0d96b",
   "metadata": {},
   "outputs": [
    {
     "data": {
      "text/plain": [
       "torch.Size([4, 512, 1024])"
      ]
     },
     "execution_count": 43,
     "metadata": {},
     "output_type": "execute_result"
    }
   ],
   "source": [
    "mask_lm_output.shape"
   ]
  },
  {
   "cell_type": "code",
   "execution_count": null,
   "id": "72f07cbd-719a-4221-b090-8c2a50330127",
   "metadata": {},
   "outputs": [],
   "source": [
    "criterion = nn.NLLLoss(ignore_index=0)\n",
    "ext_loss = criterion(next_sent_output, batch[\"is_next\"])\n",
    "mask_loss = criterion(mask_lm_output.transpose(1, 2), batch[\"bert_label\"])"
   ]
  }
 ],
 "metadata": {
  "kernelspec": {
   "display_name": "Python 3 (ipykernel)",
   "language": "python",
   "name": "python3"
  },
  "language_info": {
   "codemirror_mode": {
    "name": "ipython",
    "version": 3
   },
   "file_extension": ".py",
   "mimetype": "text/x-python",
   "name": "python",
   "nbconvert_exporter": "python",
   "pygments_lexer": "ipython3",
   "version": "3.9.17"
  }
 },
 "nbformat": 4,
 "nbformat_minor": 5
}
