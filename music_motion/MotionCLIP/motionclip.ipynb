{
 "cells": [
  {
   "cell_type": "code",
   "execution_count": 1,
   "id": "89af8d38-33d0-4969-9058-578fe592d327",
   "metadata": {},
   "outputs": [
    {
     "name": "stdout",
     "output_type": "stream",
     "text": [
      "Using device: cuda\n",
      "\n",
      "NVIDIA GeForce RTX 2080 Ti\n",
      "Memory Usage:\n",
      "Allocated: 0.0 GB\n",
      "Cached:    0.0 GB\n"
     ]
    }
   ],
   "source": [
    "# setting device on GPU if available, else CPU\n",
    "import torch\n",
    "device = torch.device('cuda' if torch.cuda.is_available() else 'cpu')\n",
    "print('Using device:', device)\n",
    "print()\n",
    "\n",
    "#Additional Info when using cuda\n",
    "if device.type == 'cuda':\n",
    "    print(torch.cuda.get_device_name(0))\n",
    "    print('Memory Usage:')\n",
    "    print('Allocated:', round(torch.cuda.memory_allocated(0)/1024**3,1), 'GB')\n",
    "    print('Cached:   ', round(torch.cuda.memory_reserved(0)/1024**3,1), 'GB')\n"
   ]
  },
  {
   "cell_type": "code",
   "execution_count": 2,
   "id": "749ae671-0832-4f72-b723-afe2671869b9",
   "metadata": {},
   "outputs": [],
   "source": [
    "%load_ext autoreload\n",
    "%autoreload 2\n",
    "%matplotlib inline"
   ]
  },
  {
   "cell_type": "code",
   "execution_count": 3,
   "id": "311ffad3-6b7a-4d93-9f7f-5205834a1777",
   "metadata": {},
   "outputs": [],
   "source": [
    "from src.datasets.amass_parser import read_data, get_babel_labels"
   ]
  },
  {
   "cell_type": "code",
   "execution_count": 4,
   "id": "a7728b1c-a36a-42aa-91e3-1b1945e60045",
   "metadata": {},
   "outputs": [],
   "source": [
    "import joblib\n",
    "import argparse\n",
    "from tqdm import tqdm\n",
    "import json\n",
    "import os.path as osp\n",
    "import os\n",
    "import sys\n",
    "sys.path.append('.')\n",
    "\n",
    "import torch\n",
    "from human_body_prior.tools.omni_tools import copy2cpu as c2c\n",
    "from human_body_prior.body_model.body_model import BodyModel\n",
    "from src.datasets import smpl_utils\n",
    "from src import config\n",
    "import numpy as np\n",
    "from PIL import Image"
   ]
  },
  {
   "cell_type": "code",
   "execution_count": null,
   "id": "a8fc0cd5-be39-4799-adb6-c8636eabb353",
   "metadata": {},
   "outputs": [],
   "source": []
  },
  {
   "cell_type": "code",
   "execution_count": null,
   "id": "a69e8e96-bad8-439d-89a1-bcecd20fcccc",
   "metadata": {},
   "outputs": [],
   "source": []
  },
  {
   "cell_type": "code",
   "execution_count": null,
   "id": "7d78251e-371b-482d-ad2c-4cd756c320ff",
   "metadata": {},
   "outputs": [],
   "source": []
  },
  {
   "cell_type": "code",
   "execution_count": null,
   "id": "4a25469b-7459-457a-b71b-df90e0b77733",
   "metadata": {},
   "outputs": [],
   "source": []
  },
  {
   "cell_type": "code",
   "execution_count": 5,
   "id": "9e38baa2-4075-4cce-a95f-6d984c7602f7",
   "metadata": {},
   "outputs": [
    {
     "name": "stdout",
     "output_type": "stream",
     "text": [
      "Loading Body Models\n",
      "DONE! - Loading Body Models\n"
     ]
    }
   ],
   "source": [
    "print(\"Loading Body Models\")\n",
    "body_models = {\n",
    "    \"neutral\": BodyModel(\n",
    "        \"/srv/hays-lab/scratch/sanisetty3/music_motion/motion_vqvae/body_models/smplh/neutral/model.npz\",\n",
    "        num_betas=config.NUM_BETAS,\n",
    "    ).to(device),\n",
    "}\n",
    "print(\"DONE! - Loading Body Models\")\n"
   ]
  },
  {
   "cell_type": "code",
   "execution_count": 6,
   "id": "6123eddd-f4d1-43fe-bba9-8d2bc5938ffc",
   "metadata": {},
   "outputs": [],
   "source": [
    "clip_images_path = \"./render/\""
   ]
  },
  {
   "cell_type": "code",
   "execution_count": 7,
   "id": "4b0ca446-8815-44ae-895e-177d1f8643a7",
   "metadata": {},
   "outputs": [],
   "source": [
    "# results_dict = read_single_sequence(\n",
    "#             \"test\",\n",
    "#             \"amass\",\n",
    "#             \"../HumanML3D/amass_data/ACCAD/\",\n",
    "#             \"ACCAD\",\n",
    "#             body_models,\n",
    "#             20,\n",
    "#             5,\n",
    "#             joints_to_use = get_joints_to_use(),\n",
    "#             quick_run =False,\n",
    "#             clip_images_path = clip_images_path,\n",
    "#             fname_to_babel = [\"\"],\n",
    "#         )"
   ]
  },
  {
   "cell_type": "code",
   "execution_count": null,
   "id": "9e40fde2-1f0c-4bae-8a8e-31286e429f38",
   "metadata": {},
   "outputs": [],
   "source": []
  },
  {
   "cell_type": "code",
   "execution_count": null,
   "id": "2dc2bfa1-93f9-4bc3-a478-df2a9b9545ea",
   "metadata": {},
   "outputs": [],
   "source": []
  },
  {
   "cell_type": "code",
   "execution_count": 8,
   "id": "96121ff4-7083-46b2-94e8-1e0751e42a15",
   "metadata": {},
   "outputs": [],
   "source": [
    "def get_joints_to_use():\n",
    "    joints_to_use = np.array([\n",
    "        0, 1, 2, 3, 4, 5, 6, 7, 8, 9, 10,\n",
    "        11, 12, 13, 14, 15, 16, 17, 18, 19,\n",
    "        20, 21, 22, 37\n",
    "    ])  # 23 joints + global_orient # 21 base joints + left_index1(22) + right_index1 (37)\n",
    "    return np.arange(0, len(smpl_utils.SMPLH_JOINT_NAMES) * 3).reshape((-1, 3))[joints_to_use].reshape(-1)\n"
   ]
  },
  {
   "cell_type": "code",
   "execution_count": 9,
   "id": "d6c4661f-ada5-4eff-8ac9-90cf96870b13",
   "metadata": {},
   "outputs": [],
   "source": [
    "from src.datasets.amass_parser import read_data, get_babel_labels"
   ]
  },
  {
   "cell_type": "code",
   "execution_count": 10,
   "id": "cd26ed8a-ae9f-4d2f-a2b3-43b9292934e8",
   "metadata": {},
   "outputs": [
    {
     "name": "stdout",
     "output_type": "stream",
     "text": [
      "Loading babel labels\n",
      "DONE! - Loading babel labels\n"
     ]
    }
   ],
   "source": [
    "fname_to_babel = get_babel_labels(\"./data/babel_v1.0_release/\")"
   ]
  },
  {
   "cell_type": "code",
   "execution_count": 6,
   "id": "18596d84-56b7-4708-9508-e586fda5ff9c",
   "metadata": {
    "scrolled": true
   },
   "outputs": [],
   "source": [
    "# fname_to_babel['BioMotionLab_NTroje/rub055/0020_lifting_heavy2_poses.npz']"
   ]
  },
  {
   "cell_type": "code",
   "execution_count": null,
   "id": "9f96c598-e307-4b40-8553-de18f2cae510",
   "metadata": {},
   "outputs": [],
   "source": []
  },
  {
   "cell_type": "code",
   "execution_count": 7,
   "id": "11a7b6c5-122a-4286-8d3a-c8918b7fab17",
   "metadata": {},
   "outputs": [],
   "source": [
    "from src.datasets.amass import AMASS\n",
    "import clip\n",
    "from PIL import Image\n",
    "from glob import glob\n",
    "from src.utils.tensors import collate\n",
    "from torch.utils.data import DataLoader\n",
    "import matplotlib.pyplot as plt\n",
    "from src.parser.training import parser, add_training_options\n",
    "from src.parser.base import add_misc_options, add_cuda_options, adding_cuda, ArgumentParser\n",
    "from src.parser.dataset import add_dataset_options\n",
    "from src.parser.model import add_model_options, parse_modelname"
   ]
  },
  {
   "cell_type": "code",
   "execution_count": 12,
   "id": "1ac2327b-a966-42d7-ae52-877ca85cc74d",
   "metadata": {},
   "outputs": [],
   "source": [
    "clip_model, clip_preprocess = clip.load(\"ViT-B/32\", device=device, jit=False)  # Must set jit=False for training\n",
    "clip.model.convert_weights(clip_model)  # Actually this line is unnecessary since clip by default already on float16\n"
   ]
  },
  {
   "cell_type": "code",
   "execution_count": 117,
   "id": "bc092804-f0e7-4262-9ff1-c0407b134744",
   "metadata": {},
   "outputs": [
    {
     "name": "stdout",
     "output_type": "stream",
     "text": [
      "/coc/scratch/sanisetty3/music_motion/TGM3D\n"
     ]
    }
   ],
   "source": [
    "cd ../TGM3D/"
   ]
  },
  {
   "cell_type": "code",
   "execution_count": 121,
   "id": "581ec15a-aded-4ae4-88e2-6c7e7c816df1",
   "metadata": {},
   "outputs": [
    {
     "data": {
      "text/plain": [
       "<All keys matched successfully>"
      ]
     },
     "execution_count": 121,
     "metadata": {},
     "output_type": "execute_result"
    }
   ],
   "source": [
    "from core.models.motion_clip.motion_clip import MotionClipEncoder\n",
    "\n",
    "ckpt = torch.load(\"/srv/hays-lab/scratch/sanisetty3/music_motion/TGM3D/core/models/motion_clip/MotionClipEncoder.pt\", map_location=\"cpu\")\n",
    "enc = MotionClipEncoder().eval().to(device)\n",
    "enc.load_state_dict(ckpt)"
   ]
  },
  {
   "cell_type": "code",
   "execution_count": 119,
   "id": "61366bdb-4a1f-4c26-8af1-e223f4ee2180",
   "metadata": {},
   "outputs": [
    {
     "name": "stdout",
     "output_type": "stream",
     "text": [
      "/coc/scratch/sanisetty3/music_motion/MotionCLIP\n"
     ]
    }
   ],
   "source": [
    "cd ../MotionCLIP/"
   ]
  },
  {
   "cell_type": "code",
   "execution_count": null,
   "id": "ff8ae4cf-361a-4b6d-9ac9-a8ea43d5956f",
   "metadata": {},
   "outputs": [],
   "source": []
  },
  {
   "cell_type": "code",
   "execution_count": 41,
   "id": "6bcb50c6-8485-4363-9ca4-3ecc89524e62",
   "metadata": {},
   "outputs": [
    {
     "name": "stdout",
     "output_type": "stream",
     "text": [
      "/srv/hays-lab/scratch/sanisetty3/music_motion/MotionCLIP/data/amass_db/amass_30fps_vald.pt\n",
      "datapath used by amass is [/srv/hays-lab/scratch/sanisetty3/music_motion/MotionCLIP/data/amass_db/amass_30fps_vald.pt]\n",
      "100\n",
      "100\n",
      "Restore weights..\n",
      "Visualization of the epoch 100\n",
      "Generate the videos..\n",
      "Render the generated samples: 100%|#############| 24/24 [01:49<00:00,  4.57s/it]\n",
      "Load the generated samples: 100%|#################| 6/6 [00:01<00:00,  4.30it/s]\n",
      "Stacking frames..\n",
      "100%|##########################################| 65/65 [00:00<00:00, 249.24it/s]\n",
      "Writing video [./exps/paper-model/clip_text_paper_texts_fig_100.gif]\n"
     ]
    }
   ],
   "source": [
    "!python -m src.visualize.text2motion ./exps/paper-model/checkpoint_0100.pth.tar --input_file assets/paper_texts.txt --cuda "
   ]
  },
  {
   "cell_type": "code",
   "execution_count": 13,
   "id": "cffff2b9-8de4-4741-a1f6-df4806267c58",
   "metadata": {},
   "outputs": [],
   "source": [
    "from glob import glob\n",
    "import codecs as cs\n",
    "from scipy.spatial.transform import Rotation as R\n",
    "def get_caption(path):\n",
    "    text_data = []\n",
    "    captions = []\n",
    "    flag = False\n",
    "    with cs.open(path) as f:\n",
    "        for line in f.readlines():\n",
    "            text_dict = {}\n",
    "            line_split = line.strip().split('#')\n",
    "            caption = line_split[0]\n",
    "            captions.append(caption)\n",
    "            tokens = line_split[1].split(' ')\n",
    "            f_tag = float(line_split[2])\n",
    "            to_tag = float(line_split[3])\n",
    "            f_tag = 0.0 if np.isnan(f_tag) else f_tag\n",
    "            to_tag = 0.0 if np.isnan(to_tag) else to_tag\n",
    "    \n",
    "            text_dict['caption'] = caption\n",
    "            text_dict['tokens'] = tokens\n",
    "            if f_tag == 0.0 and to_tag == 0.0:\n",
    "                flag = True\n",
    "                text_data.append(text_dict)\n",
    "            else:\n",
    "                try:\n",
    "                    n_motion = motion[int(f_tag*fps) : int(to_tag*fps)]\n",
    "                    if (len(n_motion)) < min_motion_len or (len(n_motion) >= 200):\n",
    "                        continue\n",
    "                    new_name = random.choice('ABCDEFGHIJKLMNOPQRSTUVW') + '_' + name\n",
    "                    while new_name in data_dict:\n",
    "                        new_name = random.choice('ABCDEFGHIJKLMNOPQRSTUVW') + '_' + name\n",
    "                    data_dict[new_name] = {'motion': n_motion,\n",
    "                                           'length': len(n_motion),\n",
    "                                           'text':[text_dict]}\n",
    "                    new_name_list.append(new_name)\n",
    "                    length_list.append(len(n_motion))\n",
    "                except:\n",
    "                    print(line_split)\n",
    "                    print(line_split[2], line_split[3], f_tag, to_tag, name)\n",
    "                    # break\n",
    "    return captions"
   ]
  },
  {
   "cell_type": "code",
   "execution_count": 14,
   "id": "1aae59c7-c0bc-45bf-b043-19d2160cdfd5",
   "metadata": {},
   "outputs": [],
   "source": [
    "def process_for_clip(motion):\n",
    "\n",
    "    if motion.shape[-1] == 135:\n",
    "        trans = motion[:, :3]\n",
    "        trans = torch.cat([trans , torch.zeros(trans.shape[0], 3)] , 1)\n",
    "        rots = motion[:, 3:]\n",
    "        rots = torch.cat([rots , torch.zeros(rots.shape[0], 12)] , 1)\n",
    "        \n",
    "        new_mot = torch.cat([rots , trans] , 1)\n",
    "    new_mot = new_mot.reshape(1, motion.shape[0] , 25, 6).permute(0,2,3,1)\n",
    "    return new_mot\n"
   ]
  },
  {
   "cell_type": "code",
   "execution_count": 15,
   "id": "f5787727-3ecb-4c8a-ade5-282d97032f90",
   "metadata": {},
   "outputs": [],
   "source": [
    "import shlex\n",
    "argString = '--clip_text_losses cosine --clip_image_losses cosine --pose_rep rot6d \\\n",
    "--lambda_vel 100 --lambda_rc 100 --lambda_rcxyz 100 \\\n",
    "--jointstype vertices --batch_size 20 --num_frames 60 --num_layers 8 \\\n",
    "--lr 0.0001 --glob --translation --no-vertstrans --latent_dim 512 --num_epochs 100 --snapshot 10 \\\n",
    "--device 0 \\\n",
    "--dataset amass \\\n",
    "--datapath /srv/hays-lab/scratch/sanisetty3/music_motion/MotionCLIP/data/amass_db/amass_30fps_test.pt \\\n",
    "--folder ./exps/my-paper-model'\n",
    "\n",
    "parameters = parser(shlex.split(argString))\n",
    "parameters['use_action_cat_as_text_labels'] = True\n",
    "parameters['only_60_classes'] = True"
   ]
  },
  {
   "cell_type": "code",
   "execution_count": 16,
   "id": "9b81ec19-2eaa-4ad2-a634-55c9bb9e8557",
   "metadata": {},
   "outputs": [],
   "source": []
  },
  {
   "cell_type": "code",
   "execution_count": 31,
   "id": "81f2b2e2-2e04-4737-8525-a6215b921388",
   "metadata": {},
   "outputs": [],
   "source": []
  },
  {
   "cell_type": "code",
   "execution_count": 32,
   "id": "b4a27026-96d0-4765-adce-bbf477749464",
   "metadata": {},
   "outputs": [
    {
     "name": "stdout",
     "output_type": "stream",
     "text": [
      "/srv/hays-lab/scratch/sanisetty3/music_motion/MotionCLIP/data/amass_db/amass_30fps_vald.pt\n",
      "datapath used by amass is [/srv/hays-lab/scratch/sanisetty3/music_motion/MotionCLIP/data/amass_db/amass_30fps_vald.pt]\n",
      "100\n",
      "100\n"
     ]
    }
   ],
   "source": [
    "from src.utils.misc import load_model_wo_clip\n",
    "from src.utils.get_model_and_data import get_model_and_data\n",
    "\n",
    "model, datasets = get_model_and_data(parameters, split='vald')\n",
    "\n",
    "state_dict = torch.load(\"./exps/paper-model/checkpoint_0100.pth.tar\", map_location=device)\n",
    "load_model_wo_clip(model, state_dict)"
   ]
  },
  {
   "cell_type": "code",
   "execution_count": 44,
   "id": "0df36d5f-44a8-4ac8-868a-cc701fe5f305",
   "metadata": {},
   "outputs": [],
   "source": []
  },
  {
   "cell_type": "code",
   "execution_count": 34,
   "id": "6495f183-a004-4eb1-83fd-6909d338e02f",
   "metadata": {},
   "outputs": [
    {
     "name": "stdout",
     "output_type": "stream",
     "text": [
      "/srv/hays-lab/scratch/sanisetty3/music_motion/MotionCLIP/data/amass_db/amass_30fps_vald.pt\n",
      "datapath used by amass is [/srv/hays-lab/scratch/sanisetty3/music_motion/MotionCLIP/data/amass_db/amass_30fps_vald.pt]\n"
     ]
    }
   ],
   "source": [
    "ds = AMASS( split = \"valid\" , clip_preprocess = clip_preprocess, **parameters )"
   ]
  },
  {
   "cell_type": "code",
   "execution_count": 39,
   "id": "4b2d9f61-7d33-4856-9717-83c50998b18a",
   "metadata": {},
   "outputs": [],
   "source": [
    "from src.utils.action_label_to_idx import action_label_to_idx\n",
    "train_iterator = DataLoader(datasets[\"train\"], batch_size=4,\n",
    "                                shuffle=True, num_workers=0, collate_fn=collate)\n",
    "\n"
   ]
  },
  {
   "cell_type": "code",
   "execution_count": null,
   "id": "c41ce4cc-635c-414a-8d65-c619ff0848d4",
   "metadata": {},
   "outputs": [],
   "source": []
  },
  {
   "cell_type": "code",
   "execution_count": 40,
   "id": "b796c3d1-42ee-430d-9196-5e2cd4764ac6",
   "metadata": {},
   "outputs": [
    {
     "name": "stdout",
     "output_type": "stream",
     "text": [
      "100\n",
      "100\n",
      "100\n",
      "100\n"
     ]
    }
   ],
   "source": [
    "for batch in train_iterator:\n",
    "    break\n",
    "for k,v in batch.items():\n",
    "    try:\n",
    "        batch[k] = v.to(device)\n",
    "    except:\n",
    "        continue"
   ]
  },
  {
   "cell_type": "code",
   "execution_count": 41,
   "id": "ed0aa83e-fdbe-4470-aa0c-132928a371bc",
   "metadata": {},
   "outputs": [
    {
     "data": {
      "text/plain": [
       "dict_keys(['x', 'y', 'mask', 'lengths', 'clip_images', 'clip_text', 'clip_path', 'all_categories'])"
      ]
     },
     "execution_count": 41,
     "metadata": {},
     "output_type": "execute_result"
    }
   ],
   "source": [
    "batch.keys()"
   ]
  },
  {
   "cell_type": "code",
   "execution_count": null,
   "id": "60056296-654d-4866-a899-04747403034d",
   "metadata": {},
   "outputs": [],
   "source": []
  },
  {
   "cell_type": "code",
   "execution_count": 42,
   "id": "78ce2691-bfae-45d9-bc23-0049b596c7e3",
   "metadata": {},
   "outputs": [
    {
     "data": {
      "text/plain": [
       "[['stand', 't pose', 'walk', 'backwards movement'], ['circular movement']]"
      ]
     },
     "execution_count": 42,
     "metadata": {},
     "output_type": "execute_result"
    }
   ],
   "source": [
    "batch[\"all_categories\"]"
   ]
  },
  {
   "cell_type": "code",
   "execution_count": 43,
   "id": "d9b3ba4e-77fa-40c9-adfe-a153b826b464",
   "metadata": {},
   "outputs": [
    {
     "data": {
      "text/plain": [
       "['walk', 'circular movement']"
      ]
     },
     "execution_count": 43,
     "metadata": {},
     "output_type": "execute_result"
    }
   ],
   "source": [
    "batch[\"clip_text\"]"
   ]
  },
  {
   "cell_type": "code",
   "execution_count": null,
   "id": "1d7947bd-ac22-4731-a828-126cbf4f2b73",
   "metadata": {},
   "outputs": [],
   "source": [
    "text = [\"\"]"
   ]
  },
  {
   "cell_type": "code",
   "execution_count": 140,
   "id": "c08b8920-e2d6-48b2-8b9b-2b9e7bb494a0",
   "metadata": {},
   "outputs": [
    {
     "data": {
      "text/plain": [
       "['a person punches with both hands as if they are fighting.',\n",
       " 'a person practicing boxing with the right and left',\n",
       " 'a person shifts their weight from foot to foot while making punching motions with one arm at a time.']"
      ]
     },
     "execution_count": 140,
     "metadata": {},
     "output_type": "execute_result"
    }
   ],
   "source": [
    "captions = get_caption( \"/srv/hays-lab/scratch/sanisetty3/music_motion/HumanMotionSMPL/HumanML3D_SMPL/texts/004061.txt\")\n",
    "captions"
   ]
  },
  {
   "cell_type": "code",
   "execution_count": 141,
   "id": "49af135c-5810-4860-b238-ba75a5001a95",
   "metadata": {},
   "outputs": [],
   "source": [
    "motionn = np.load(\"/srv/hays-lab/scratch/sanisetty3/music_motion/HumanMotionSMPL/HumanML3D_SMPL/new_joint_vecs/00_004061.npy\")\n",
    "motionn = torch.Tensor(motionn)[:,:135]"
   ]
  },
  {
   "cell_type": "code",
   "execution_count": 142,
   "id": "55ac2be6-3b2e-447e-9c25-b002f525b7fc",
   "metadata": {},
   "outputs": [],
   "source": [
    "pm = process_for_clip(motionn)[...,-60:].to(device)"
   ]
  },
  {
   "cell_type": "code",
   "execution_count": 144,
   "id": "2115b731-2165-4151-a70d-2a1d678fc17a",
   "metadata": {},
   "outputs": [],
   "source": [
    "mms = torch.cat([pm , batch[\"x\"] ] , 0)\n"
   ]
  },
  {
   "cell_type": "code",
   "execution_count": 177,
   "id": "68f33355-8d67-461d-aed5-bee89ca4f44c",
   "metadata": {
    "scrolled": true
   },
   "outputs": [],
   "source": [
    "m1 = pm/(pm.norm(dim=-1, keepdim=True) + 1e-8)\n",
    "m2 = batch[\"x\"][0]/(batch[\"x\"][0].norm(dim=-1, keepdim=True) + 1e-8)"
   ]
  },
  {
   "cell_type": "code",
   "execution_count": null,
   "id": "9de356aa-1a74-4452-a130-4d88a6ac5bfc",
   "metadata": {
    "scrolled": true
   },
   "outputs": [],
   "source": []
  },
  {
   "cell_type": "code",
   "execution_count": null,
   "id": "f34567e1-7513-4264-84b3-bcfdcd96ec44",
   "metadata": {
    "scrolled": true
   },
   "outputs": [],
   "source": []
  },
  {
   "cell_type": "code",
   "execution_count": 161,
   "id": "9e495283-4a97-4a2a-8931-cf1ae0bc2378",
   "metadata": {},
   "outputs": [
    {
     "data": {
      "text/plain": [
       "tensor(nan, device='cuda:0')"
      ]
     },
     "execution_count": 161,
     "metadata": {},
     "output_type": "execute_result"
    }
   ],
   "source": [
    "torch.nn.functional.mse_loss(m1[0],m2)"
   ]
  },
  {
   "cell_type": "code",
   "execution_count": 24,
   "id": "be6b9465-f4ca-418a-9a93-ffde72661270",
   "metadata": {},
   "outputs": [],
   "source": [
    "# emb = enc.encode_motions(batch[\"x\"]).to(device)\n",
    "emb = model.encoder(batch)[\"mu\"]\n",
    "emb /= emb.norm(dim=-1, keepdim=True)\n",
    "text_inputs = torch.cat([clip.tokenize(c) for c in batch[\"clip_text\"]]).to(device)\n",
    "text_features = model.clip_model.encode_text(text_inputs).float()\n",
    "text_features /= text_features.norm(dim=-1, keepdim=True)\n",
    "logit_scale = clip_model.logit_scale.exp()\n",
    "similarity = ((logit_scale * emb @ text_features.float().T).T).softmax(dim=-1)"
   ]
  },
  {
   "cell_type": "code",
   "execution_count": 205,
   "id": "2c865066-f777-41b9-a17a-24822c205a04",
   "metadata": {},
   "outputs": [
    {
     "data": {
      "text/plain": [
       "tensor([[0.6750, 0.6941, 0.7006, 0.6814],\n",
       "        [0.6826, 0.7179, 0.7277, 0.7001],\n",
       "        [0.6798, 0.7050, 0.7334, 0.6908],\n",
       "        [0.6743, 0.7046, 0.7388, 0.6901]], device='cuda:0',\n",
       "       grad_fn=<MmBackward0>)"
      ]
     },
     "execution_count": 205,
     "metadata": {},
     "output_type": "execute_result"
    }
   ],
   "source": [
    "emb @ text_features.float().T"
   ]
  },
  {
   "cell_type": "code",
   "execution_count": 26,
   "id": "dd17d462-ad2f-4964-a2c9-6df2b58fed7f",
   "metadata": {},
   "outputs": [
    {
     "data": {
      "text/plain": [
       "['turn left and walk forward',\n",
       " 'elbows to the opposite knee stretches and standing and transition',\n",
       " 't-pose and transition',\n",
       " 'pivots body 180 degrees and walks forward']"
      ]
     },
     "execution_count": 26,
     "metadata": {},
     "output_type": "execute_result"
    }
   ],
   "source": [
    "batch[\"clip_text\"]"
   ]
  },
  {
   "cell_type": "code",
   "execution_count": 25,
   "id": "bffd3555-de87-449c-a4ba-86affbf5e726",
   "metadata": {},
   "outputs": [
    {
     "name": "stdout",
     "output_type": "stream",
     "text": [
      "\n",
      "Top predictions:\n",
      "\n",
      "turn left and walk forward: 41.67%\n",
      "elbows to the opposite knee stretches and standing and transition: 6.50%\n",
      "t-pose and transition: 0.10%\n",
      "pivots body 180 degrees and walks forward: 51.73%\n"
     ]
    }
   ],
   "source": [
    "\n",
    "print(\"\\nTop predictions:\\n\")\n",
    "for index , value in enumerate(similarity[0]):\n",
    "    print(f\"{batch['clip_text'][index]}: {100 * value.item():.2f}%\")"
   ]
  },
  {
   "cell_type": "code",
   "execution_count": null,
   "id": "b0edade1-7171-43c6-84f5-1a91c2c50174",
   "metadata": {},
   "outputs": [],
   "source": []
  },
  {
   "cell_type": "code",
   "execution_count": 27,
   "id": "023839b6-984b-47e6-bebf-17f48be76e65",
   "metadata": {},
   "outputs": [
    {
     "name": "stdout",
     "output_type": "stream",
     "text": [
      "\n",
      "Top predictions:\n",
      "\n",
      "turn left and walk forward: 10.51%\n",
      "elbows to the opposite knee stretches and standing and transition: 72.67%\n",
      "t-pose and transition: 11.42%\n",
      "pivots body 180 degrees and walks forward: 5.40%\n"
     ]
    }
   ],
   "source": [
    "\n",
    "print(\"\\nTop predictions:\\n\")\n",
    "for index , value in enumerate(similarity[1]):\n",
    "    print(f\"{batch['clip_text'][index]}: {100 * value.item():.2f}%\")"
   ]
  },
  {
   "cell_type": "code",
   "execution_count": 28,
   "id": "41139a5a-94e9-42fa-ad8a-2e708269f5da",
   "metadata": {},
   "outputs": [
    {
     "name": "stdout",
     "output_type": "stream",
     "text": [
      "\n",
      "Top predictions:\n",
      "\n",
      "turn left and walk forward: 0.02%\n",
      "elbows to the opposite knee stretches and standing and transition: 0.06%\n",
      "t-pose and transition: 99.89%\n",
      "pivots body 180 degrees and walks forward: 0.03%\n"
     ]
    }
   ],
   "source": [
    "\n",
    "print(\"\\nTop predictions:\\n\")\n",
    "for index , value in enumerate(similarity[2]):\n",
    "    print(f\"{batch['clip_text'][index]}: {100 * value.item():.2f}%\")"
   ]
  },
  {
   "cell_type": "code",
   "execution_count": 29,
   "id": "4a8ed5e4-e454-4340-a307-704206dde422",
   "metadata": {},
   "outputs": [
    {
     "name": "stdout",
     "output_type": "stream",
     "text": [
      "\n",
      "Top predictions:\n",
      "\n",
      "turn left and walk forward: 0.02%\n",
      "elbows to the opposite knee stretches and standing and transition: 0.06%\n",
      "t-pose and transition: 99.89%\n",
      "pivots body 180 degrees and walks forward: 0.03%\n"
     ]
    }
   ],
   "source": [
    "\n",
    "print(\"\\nTop predictions:\\n\")\n",
    "for index , value in enumerate(similarity[2]):\n",
    "    print(f\"{batch['clip_text'][index]}: {100 * value.item():.2f}%\")"
   ]
  },
  {
   "cell_type": "code",
   "execution_count": 30,
   "id": "67121396-ba50-4703-a4ac-a7f925055cbd",
   "metadata": {},
   "outputs": [
    {
     "name": "stdout",
     "output_type": "stream",
     "text": [
      "\n",
      "Top predictions:\n",
      "\n",
      "turn left and walk forward: 23.85%\n",
      "elbows to the opposite knee stretches and standing and transition: 39.93%\n",
      "t-pose and transition: 1.86%\n",
      "pivots body 180 degrees and walks forward: 34.37%\n"
     ]
    }
   ],
   "source": [
    "\n",
    "print(\"\\nTop predictions:\\n\")\n",
    "for index , value in enumerate(similarity[3]):\n",
    "    print(f\"{batch['clip_text'][index]}: {100 * value.item():.2f}%\")"
   ]
  },
  {
   "cell_type": "code",
   "execution_count": 211,
   "id": "9293667a-4b44-4c6f-bec3-bc4a1b2ff619",
   "metadata": {},
   "outputs": [
    {
     "name": "stdout",
     "output_type": "stream",
     "text": [
      "\n",
      "Top predictions:\n",
      "\n",
      "jabbing: 8.04%\n",
      "jog 180 degrees right and transition: 52.23%\n",
      "look down and walk and transition and turn around: 20.65%\n",
      "carry: 19.08%\n"
     ]
    }
   ],
   "source": [
    "\n",
    "print(\"\\nTop predictions:\\n\")\n",
    "for index , value in enumerate(similarity[3]):\n",
    "    print(f\"{batch['clip_text'][index]}: {100 * value.item():.2f}%\")"
   ]
  },
  {
   "cell_type": "code",
   "execution_count": 73,
   "id": "b4a7fddf-0808-4f38-9e4d-41d4af75cdd5",
   "metadata": {},
   "outputs": [],
   "source": []
  },
  {
   "cell_type": "code",
   "execution_count": 71,
   "id": "13538b45-5ee0-4391-8398-4d59454ec760",
   "metadata": {},
   "outputs": [],
   "source": [
    "from glob import glob\n",
    "imgs = sorted(glob(\"/srv/hays-lab/scratch/sanisetty3/music_motion/MotionCLIP/data/render/*\"))"
   ]
  },
  {
   "cell_type": "code",
   "execution_count": 76,
   "id": "6885336c-f886-482f-9b1c-e4153d82ce7b",
   "metadata": {},
   "outputs": [
    {
     "data": {
      "text/plain": [
       "'/srv/hays-lab/scratch/sanisetty3/music_motion/MotionCLIP/data/render/ACCAD_Female1General_c3d_A12 - crawl backwards_poses_frame350.png'"
      ]
     },
     "execution_count": 76,
     "metadata": {},
     "output_type": "execute_result"
    }
   ],
   "source": [
    "imgs[10]"
   ]
  },
  {
   "cell_type": "code",
   "execution_count": 77,
   "id": "cab69544-54f7-452f-bdca-30fad7e1fdbd",
   "metadata": {},
   "outputs": [
    {
     "data": {
      "image/png": "[encoded data removed]",
      "text/plain": [
       "<PIL.PngImagePlugin.PngImageFile image mode=RGB size=224x224>"
      ]
     },
     "execution_count": 77,
     "metadata": {},
     "output_type": "execute_result"
    }
   ],
   "source": [
    "Image.open(imgs[10])"
   ]
  },
  {
   "cell_type": "markdown",
   "id": "294389c9-225b-477e-8e2c-bcd2e0e9415c",
   "metadata": {},
   "source": [
    "## Action"
   ]
  },
  {
   "cell_type": "code",
   "execution_count": null,
   "id": "d803b29f-438f-41d2-ac26-ca872e0509a9",
   "metadata": {},
   "outputs": [],
   "source": []
  },
  {
   "cell_type": "code",
   "execution_count": null,
   "id": "0684c439-94be-4791-bdb8-e06d8f075f52",
   "metadata": {},
   "outputs": [],
   "source": []
  },
  {
   "cell_type": "code",
   "execution_count": 8,
   "id": "00bc6747-18f7-4aa0-8e19-ae52757688d1",
   "metadata": {},
   "outputs": [],
   "source": [
    "import clip\n"
   ]
  },
  {
   "cell_type": "code",
   "execution_count": 9,
   "id": "3c5a47c5-991f-4340-a2a3-77da2972565e",
   "metadata": {},
   "outputs": [],
   "source": [
    "clip_model, clip_preprocess = clip.load(\"ViT-B/32\", device=device, jit=False)  # Must set jit=False for training\n",
    "clip.model.convert_weights(clip_model)  # Actually this line is unnecessary since clip by default already on float16\n"
   ]
  },
  {
   "cell_type": "code",
   "execution_count": 10,
   "id": "8370ca1c-36b8-4c2a-89bc-d35323fc101a",
   "metadata": {},
   "outputs": [],
   "source": [
    "from src.utils.misc import load_model_wo_clip\n",
    "from src.utils.get_model_and_data import get_model_and_data\n"
   ]
  },
  {
   "cell_type": "code",
   "execution_count": null,
   "id": "25a37c11-06cc-407c-ae0f-c30a6bda8227",
   "metadata": {},
   "outputs": [],
   "source": []
  },
  {
   "cell_type": "code",
   "execution_count": 11,
   "id": "d96689bd-c084-48d4-aed4-002051237423",
   "metadata": {},
   "outputs": [],
   "source": [
    "import shlex\n",
    "argString = '--clip_text_losses cosine --clip_image_losses cosine --pose_rep rot6d \\\n",
    "--lambda_vel 100 --lambda_rc 100 --lambda_rcxyz 100 \\\n",
    "--jointstype vertices --batch_size 20 --num_frames 60 --num_layers 8 \\\n",
    "--lr 0.0001 --glob --translation --no-vertstrans --latent_dim 512 --num_epochs 100 --snapshot 10 \\\n",
    "--device 0 \\\n",
    "--dataset amass \\\n",
    "--datapath /srv/hays-lab/scratch/sanisetty3/music_motion/MotionCLIP/data/amass_db/amass_30fps_test.pt \\\n",
    "--folder ./exps/my-paper-model'\n",
    "\n",
    "parameters = parser(shlex.split(argString))\n",
    "parameters['use_action_cat_as_text_labels'] = True\n",
    "parameters['only_60_classes'] = True"
   ]
  },
  {
   "cell_type": "code",
   "execution_count": 12,
   "id": "e42f6ffc-2a81-47af-97a2-7e05f078329f",
   "metadata": {},
   "outputs": [
    {
     "name": "stdout",
     "output_type": "stream",
     "text": [
      "/srv/hays-lab/scratch/sanisetty3/music_motion/MotionCLIP/data/amass_db/amass_30fps_vald.pt\n",
      "datapath used by amass is [/srv/hays-lab/scratch/sanisetty3/music_motion/MotionCLIP/data/amass_db/amass_30fps_vald.pt]\n",
      "100\n",
      "100\n"
     ]
    }
   ],
   "source": [
    "\n",
    "model, datasets = get_model_and_data(parameters, split='vald')\n",
    "\n",
    "state_dict = torch.load(\"./exps/classes-model/checkpoint_0200.pth.tar\", map_location=device)\n",
    "load_model_wo_clip(model, state_dict)"
   ]
  },
  {
   "cell_type": "code",
   "execution_count": null,
   "id": "19fd6854-30e6-44a8-b25a-fc9bac3497ca",
   "metadata": {},
   "outputs": [],
   "source": []
  },
  {
   "cell_type": "code",
   "execution_count": 13,
   "id": "7ad1d5bc-b160-4ecf-a747-9c97c15f0a33",
   "metadata": {},
   "outputs": [],
   "source": [
    "from src.utils.action_label_to_idx import action_label_to_idx\n",
    "train_iterator = DataLoader(datasets[\"train\"], batch_size=4,\n",
    "                                shuffle=True, num_workers=0, collate_fn=collate)\n"
   ]
  },
  {
   "cell_type": "code",
   "execution_count": 14,
   "id": "16ce10dd-35c8-4d9f-a4f8-ec7e36c63e5f",
   "metadata": {},
   "outputs": [
    {
     "name": "stdout",
     "output_type": "stream",
     "text": [
      "100\n",
      "100\n",
      "100\n",
      "100\n"
     ]
    }
   ],
   "source": [
    "\n",
    "for batch in train_iterator:\n",
    "    break\n",
    "for k,v in batch.items():\n",
    "    try:\n",
    "        batch[k] = v.to(device)\n",
    "    except:\n",
    "        continue"
   ]
  },
  {
   "cell_type": "code",
   "execution_count": 16,
   "id": "af6bbb77-932e-4ac7-8f33-290247dcc536",
   "metadata": {},
   "outputs": [],
   "source": [
    "action_text_labels = list(action_label_to_idx.keys())\n",
    "action_text_labels.sort(key=lambda x: action_label_to_idx[x])"
   ]
  },
  {
   "cell_type": "code",
   "execution_count": null,
   "id": "50b85580-76d7-45c5-9827-947b9c80cb64",
   "metadata": {},
   "outputs": [],
   "source": []
  },
  {
   "cell_type": "code",
   "execution_count": 17,
   "id": "701c322f-c9a3-4a7f-9698-41422d7aa9a1",
   "metadata": {},
   "outputs": [],
   "source": [
    "texts = clip.tokenize(action_text_labels[:60]).to(model.device)\n",
    "classes_text_emb = model.clip_model.encode_text(texts).float()"
   ]
  },
  {
   "cell_type": "code",
   "execution_count": 18,
   "id": "423c0552-8b0e-43f8-9807-371f6df66b42",
   "metadata": {},
   "outputs": [
    {
     "data": {
      "text/plain": [
       "[['stand', 't pose'],\n",
       " ['turn', 'walk'],\n",
       " ['dance'],\n",
       " ['gesture', 'hand movements', 'greet', 'wave']]"
      ]
     },
     "execution_count": 18,
     "metadata": {},
     "output_type": "execute_result"
    }
   ],
   "source": [
    "batch['all_categories']"
   ]
  },
  {
   "cell_type": "code",
   "execution_count": 19,
   "id": "d7a3a2dd-741d-490e-9298-ce263aedfa77",
   "metadata": {},
   "outputs": [
    {
     "data": {
      "text/plain": [
       "['t pose', 'walk', 'dance', 'greet']"
      ]
     },
     "execution_count": 19,
     "metadata": {},
     "output_type": "execute_result"
    }
   ],
   "source": [
    "batch['clip_text']"
   ]
  },
  {
   "cell_type": "code",
   "execution_count": 20,
   "id": "f8cfeb45-c0b9-4d38-96db-163ac1851eef",
   "metadata": {},
   "outputs": [
    {
     "ename": "NameError",
     "evalue": "name 'total_samples' is not defined",
     "output_type": "error",
     "traceback": [
      "\u001b[0;31m---------------------------------------------------------------------------\u001b[0m",
      "\u001b[0;31mNameError\u001b[0m                                 Traceback (most recent call last)",
      "Cell \u001b[0;32mIn[20], line 10\u001b[0m\n\u001b[1;32m      7\u001b[0m scores \u001b[38;5;241m=\u001b[39m motion_features_norm \u001b[38;5;241m@\u001b[39m classes_text_emb_norm\u001b[38;5;241m.\u001b[39mt()\n\u001b[1;32m      8\u001b[0m similarity \u001b[38;5;241m=\u001b[39m (\u001b[38;5;241m100.0\u001b[39m \u001b[38;5;241m*\u001b[39m motion_features_norm \u001b[38;5;241m@\u001b[39m classes_text_emb_norm\u001b[38;5;241m.\u001b[39mt())\u001b[38;5;241m.\u001b[39msoftmax(dim\u001b[38;5;241m=\u001b[39m\u001b[38;5;241m-\u001b[39m\u001b[38;5;241m1\u001b[39m)\n\u001b[0;32m---> 10\u001b[0m total_samples \u001b[38;5;241m+\u001b[39m\u001b[38;5;241m=\u001b[39m similarity\u001b[38;5;241m.\u001b[39mshape[\u001b[38;5;241m0\u001b[39m]\n\u001b[1;32m     11\u001b[0m \u001b[38;5;28;01mfor\u001b[39;00m i \u001b[38;5;129;01min\u001b[39;00m \u001b[38;5;28mrange\u001b[39m(similarity\u001b[38;5;241m.\u001b[39mshape[\u001b[38;5;241m0\u001b[39m]):\n\u001b[1;32m     12\u001b[0m     \u001b[38;5;28mprint\u001b[39m(\u001b[38;5;124m\"\u001b[39m\u001b[38;5;124mSimilarity for motion \u001b[39m\u001b[38;5;124m\"\u001b[39m, i , labels[i], batch[\u001b[38;5;124m'\u001b[39m\u001b[38;5;124mclip_text\u001b[39m\u001b[38;5;124m'\u001b[39m][i],   \u001b[38;5;124m\"\u001b[39m\u001b[38;5;130;01m\\n\u001b[39;00m\u001b[38;5;124m\"\u001b[39m)\n",
      "\u001b[0;31mNameError\u001b[0m: name 'total_samples' is not defined"
     ]
    }
   ],
   "source": [
    "batch = model(batch)\n",
    "texts = clip.tokenize(batch['clip_text']).to(model.device)\n",
    "batch['clip_text_embed'] = model.clip_model.encode_text(texts).float()\n",
    "labels = list(map(lambda x: [action_label_to_idx[cat] for cat in x], batch['all_categories']))\n",
    "classes_text_emb_norm = classes_text_emb / classes_text_emb.norm(dim=-1, keepdim=True)\n",
    "motion_features_norm = batch['z'] / batch['z'].norm(dim=-1, keepdim=True)\n",
    "scores = motion_features_norm @ classes_text_emb_norm.t()\n",
    "similarity = (100.0 * motion_features_norm @ classes_text_emb_norm.t()).softmax(dim=-1)\n",
    "\n",
    "total_samples += similarity.shape[0]\n",
    "for i in range(similarity.shape[0]):\n",
    "    print(\"Similarity for motion \", i , labels[i], batch['clip_text'][i],   \"\\n\")\n",
    "    values, indices = similarity[i].topk(5)\n",
    "    for index , value in zip(indices, values):\n",
    "        print(f\"{index} , {action_text_labels[:60][index]}: {100 * value.item():.2f}%\")\n",
    "    print(\"\\n\")"
   ]
  },
  {
   "cell_type": "code",
   "execution_count": 75,
   "id": "bab5725a-0dc4-49dc-b71d-60ef9320329b",
   "metadata": {},
   "outputs": [
    {
     "data": {
      "text/plain": [
       "[[14, 5], [34], [2], [6]]"
      ]
     },
     "execution_count": 75,
     "metadata": {},
     "output_type": "execute_result"
    }
   ],
   "source": [
    "labels"
   ]
  },
  {
   "cell_type": "code",
   "execution_count": null,
   "id": "bd511209-ca9b-441d-aaf0-4355312cb6d7",
   "metadata": {},
   "outputs": [],
   "source": []
  },
  {
   "cell_type": "code",
   "execution_count": 21,
   "id": "d980e51f-2bf0-4c33-ad8e-6f0f31d944a4",
   "metadata": {},
   "outputs": [
    {
     "name": "stderr",
     "output_type": "stream",
     "text": [
      "Computing batch: 3it [00:00, 22.85it/s]"
     ]
    },
    {
     "name": "stdout",
     "output_type": "stream",
     "text": [
      "100\n",
      "100\n",
      "100\n",
      "100\n",
      "100\n",
      "100\n",
      "100\n",
      "100\n",
      "100\n",
      "100\n",
      "100\n",
      "100\n",
      "100\n",
      "100\n",
      "100\n",
      "100\n",
      "100\n",
      "100\n",
      "100\n",
      "100\n"
     ]
    },
    {
     "name": "stderr",
     "output_type": "stream",
     "text": [
      "Computing batch: 9it [00:00, 23.11it/s]"
     ]
    },
    {
     "name": "stdout",
     "output_type": "stream",
     "text": [
      "100\n",
      "100\n",
      "100\n",
      "100\n",
      "100\n",
      "100\n",
      "100\n",
      "100\n",
      "100\n",
      "100\n",
      "100\n",
      "100\n",
      "100\n",
      "100\n",
      "100\n",
      "100\n",
      "100\n",
      "100\n",
      "100\n",
      "100\n"
     ]
    },
    {
     "name": "stderr",
     "output_type": "stream",
     "text": [
      "Computing batch: 12it [00:00, 23.12it/s]"
     ]
    },
    {
     "name": "stdout",
     "output_type": "stream",
     "text": [
      "100\n",
      "100\n",
      "100\n",
      "100\n",
      "100\n",
      "100\n",
      "100\n",
      "100\n",
      "100\n",
      "100\n",
      "100\n",
      "100\n",
      "100\n",
      "100\n",
      "100\n",
      "100\n",
      "100\n",
      "100\n",
      "100\n",
      "100\n"
     ]
    },
    {
     "name": "stderr",
     "output_type": "stream",
     "text": [
      "Computing batch: 18it [00:00, 23.32it/s]"
     ]
    },
    {
     "name": "stdout",
     "output_type": "stream",
     "text": [
      "100\n",
      "100\n",
      "100\n",
      "100\n",
      "100\n",
      "100\n",
      "100\n",
      "100\n",
      "100\n",
      "100\n",
      "100\n",
      "100\n",
      "100\n",
      "100\n",
      "100\n",
      "100\n",
      "100\n",
      "100\n",
      "100\n",
      "100\n"
     ]
    },
    {
     "name": "stderr",
     "output_type": "stream",
     "text": [
      "Computing batch: 24it [00:01, 23.39it/s]"
     ]
    },
    {
     "name": "stdout",
     "output_type": "stream",
     "text": [
      "100\n",
      "100\n",
      "100\n",
      "100\n",
      "100\n",
      "100\n",
      "100\n",
      "100\n",
      "100\n",
      "100\n",
      "100\n",
      "100\n",
      "100\n",
      "100\n",
      "100\n",
      "100\n",
      "100\n",
      "100\n",
      "100\n",
      "100\n"
     ]
    },
    {
     "name": "stderr",
     "output_type": "stream",
     "text": [
      "Computing batch: 30it [00:01, 23.94it/s]"
     ]
    },
    {
     "name": "stdout",
     "output_type": "stream",
     "text": [
      "100\n",
      "100\n",
      "100\n",
      "100\n",
      "100\n",
      "100\n",
      "100\n",
      "100\n",
      "100\n",
      "100\n",
      "100\n",
      "100\n",
      "100\n",
      "100\n",
      "100\n",
      "100\n",
      "100\n",
      "100\n",
      "100\n",
      "100\n"
     ]
    },
    {
     "name": "stderr",
     "output_type": "stream",
     "text": [
      "Computing batch: 33it [00:01, 24.12it/s]"
     ]
    },
    {
     "name": "stdout",
     "output_type": "stream",
     "text": [
      "100\n",
      "100\n",
      "100\n",
      "100\n",
      "100\n",
      "100\n",
      "100\n",
      "100\n",
      "100\n",
      "100\n",
      "100\n",
      "100\n",
      "100\n",
      "100\n",
      "100\n",
      "100\n",
      "100\n",
      "100\n",
      "100\n",
      "100\n"
     ]
    },
    {
     "name": "stderr",
     "output_type": "stream",
     "text": [
      "Computing batch: 39it [00:01, 23.93it/s]"
     ]
    },
    {
     "name": "stdout",
     "output_type": "stream",
     "text": [
      "100\n",
      "100\n",
      "100\n",
      "100\n",
      "100\n",
      "100\n",
      "100\n",
      "100\n",
      "100\n",
      "100\n",
      "100\n",
      "100\n",
      "100\n",
      "100\n",
      "100\n",
      "100\n",
      "100\n",
      "100\n",
      "100\n",
      "100\n"
     ]
    },
    {
     "name": "stderr",
     "output_type": "stream",
     "text": [
      "Computing batch: 42it [00:01, 23.87it/s]"
     ]
    },
    {
     "name": "stdout",
     "output_type": "stream",
     "text": [
      "100\n",
      "100\n",
      "100\n",
      "100\n",
      "100\n",
      "100\n",
      "100\n",
      "100\n",
      "100\n",
      "100\n",
      "100\n",
      "100\n",
      "100\n",
      "100\n",
      "100\n",
      "100\n",
      "100\n",
      "100\n",
      "100\n",
      "100\n"
     ]
    },
    {
     "name": "stderr",
     "output_type": "stream",
     "text": [
      "Computing batch: 48it [00:02, 24.60it/s]"
     ]
    },
    {
     "name": "stdout",
     "output_type": "stream",
     "text": [
      "100\n",
      "100\n",
      "100\n",
      "100\n",
      "100\n",
      "100\n",
      "100\n",
      "100\n",
      "100\n",
      "100\n",
      "100\n",
      "100\n",
      "100\n",
      "100\n",
      "100\n",
      "100\n",
      "100\n",
      "100\n",
      "100\n",
      "100\n"
     ]
    },
    {
     "name": "stderr",
     "output_type": "stream",
     "text": [
      "Computing batch: 54it [00:02, 24.37it/s]"
     ]
    },
    {
     "name": "stdout",
     "output_type": "stream",
     "text": [
      "100\n",
      "100\n",
      "100\n",
      "100\n",
      "100\n",
      "100\n",
      "100\n",
      "100\n",
      "100\n",
      "100\n",
      "100\n",
      "100\n",
      "100\n",
      "100\n",
      "100\n",
      "100\n",
      "100\n",
      "100\n",
      "100\n",
      "100\n"
     ]
    },
    {
     "name": "stderr",
     "output_type": "stream",
     "text": [
      "Computing batch: 57it [00:02, 23.86it/s]"
     ]
    },
    {
     "name": "stdout",
     "output_type": "stream",
     "text": [
      "100\n",
      "100\n",
      "100\n",
      "100\n",
      "100\n",
      "100\n",
      "100\n",
      "100\n",
      "100\n",
      "100\n",
      "100\n",
      "100\n",
      "100\n",
      "100\n",
      "100\n",
      "100\n",
      "100\n",
      "100\n",
      "100\n",
      "100\n"
     ]
    },
    {
     "name": "stderr",
     "output_type": "stream",
     "text": [
      "Computing batch: 63it [00:02, 23.50it/s]"
     ]
    },
    {
     "name": "stdout",
     "output_type": "stream",
     "text": [
      "100\n",
      "100\n",
      "100\n",
      "100\n",
      "100\n",
      "100\n",
      "100\n",
      "100\n",
      "100\n",
      "100\n",
      "100\n",
      "100\n",
      "100\n",
      "100\n",
      "100\n",
      "100\n",
      "100\n",
      "100\n",
      "100\n",
      "100\n"
     ]
    },
    {
     "name": "stderr",
     "output_type": "stream",
     "text": [
      "Computing batch: 69it [00:02, 24.06it/s]"
     ]
    },
    {
     "name": "stdout",
     "output_type": "stream",
     "text": [
      "100\n",
      "100\n",
      "100\n",
      "100\n",
      "100\n",
      "100\n",
      "100\n",
      "100\n",
      "100\n",
      "100\n",
      "100\n",
      "100\n",
      "100\n",
      "100\n",
      "100\n",
      "100\n",
      "100\n",
      "100\n",
      "100\n",
      "100\n"
     ]
    },
    {
     "name": "stderr",
     "output_type": "stream",
     "text": [
      "Computing batch: 75it [00:03, 24.36it/s]"
     ]
    },
    {
     "name": "stdout",
     "output_type": "stream",
     "text": [
      "100\n",
      "100\n",
      "100\n",
      "100\n",
      "100\n",
      "100\n",
      "100\n",
      "100\n",
      "100\n",
      "100\n",
      "100\n",
      "100\n",
      "100\n",
      "100\n",
      "100\n",
      "100\n",
      "100\n",
      "100\n",
      "100\n",
      "100\n",
      "100\n",
      "100\n"
     ]
    },
    {
     "name": "stderr",
     "output_type": "stream",
     "text": [
      "Computing batch: 78it [00:03, 24.36it/s]"
     ]
    },
    {
     "name": "stdout",
     "output_type": "stream",
     "text": [
      "100\n",
      "100\n",
      "100\n",
      "100\n",
      "100\n",
      "100\n",
      "100\n",
      "100\n",
      "100\n",
      "100\n",
      "100\n",
      "100\n",
      "100\n",
      "100\n",
      "100\n",
      "100\n",
      "100\n",
      "100\n"
     ]
    },
    {
     "name": "stderr",
     "output_type": "stream",
     "text": [
      "Computing batch: 84it [00:03, 24.36it/s]"
     ]
    },
    {
     "name": "stdout",
     "output_type": "stream",
     "text": [
      "100\n",
      "100\n",
      "100\n",
      "100\n",
      "100\n",
      "100\n",
      "100\n",
      "100\n",
      "100\n",
      "100\n",
      "100\n",
      "100\n",
      "100\n",
      "100\n",
      "100\n",
      "100\n",
      "100\n",
      "100\n",
      "100\n",
      "100\n"
     ]
    },
    {
     "name": "stderr",
     "output_type": "stream",
     "text": [
      "Computing batch: 90it [00:03, 24.47it/s]"
     ]
    },
    {
     "name": "stdout",
     "output_type": "stream",
     "text": [
      "100\n",
      "100\n",
      "100\n",
      "100\n",
      "100\n",
      "100\n",
      "100\n",
      "100\n",
      "100\n",
      "100\n",
      "100\n",
      "100\n",
      "100\n",
      "100\n",
      "100\n",
      "100\n",
      "100\n",
      "100\n",
      "100\n",
      "100\n",
      "100\n"
     ]
    },
    {
     "name": "stderr",
     "output_type": "stream",
     "text": [
      "Computing batch: 93it [00:03, 24.55it/s]"
     ]
    },
    {
     "name": "stdout",
     "output_type": "stream",
     "text": [
      "100\n",
      "100\n",
      "100\n",
      "100\n",
      "100\n",
      "100\n",
      "100\n",
      "100\n",
      "100\n",
      "100\n",
      "100\n",
      "100\n",
      "100\n",
      "100\n",
      "100\n",
      "100\n",
      "100\n",
      "100\n",
      "100\n"
     ]
    },
    {
     "name": "stderr",
     "output_type": "stream",
     "text": [
      "Computing batch: 99it [00:04, 23.75it/s]"
     ]
    },
    {
     "name": "stdout",
     "output_type": "stream",
     "text": [
      "100\n",
      "100\n",
      "100\n",
      "100\n",
      "100\n",
      "100\n",
      "100\n",
      "100\n",
      "100\n",
      "100\n",
      "100\n",
      "100\n",
      "100\n",
      "100\n",
      "100\n",
      "100\n",
      "100\n",
      "100\n",
      "100\n",
      "100\n"
     ]
    },
    {
     "name": "stderr",
     "output_type": "stream",
     "text": [
      "Computing batch: 102it [00:04, 23.40it/s]"
     ]
    },
    {
     "name": "stdout",
     "output_type": "stream",
     "text": [
      "100\n",
      "100\n",
      "100\n",
      "100\n",
      "100\n",
      "100\n",
      "100\n",
      "100\n",
      "100\n",
      "100\n",
      "100\n",
      "100\n",
      "100\n",
      "100\n",
      "100\n",
      "100\n",
      "100\n",
      "100\n",
      "100\n",
      "100\n"
     ]
    },
    {
     "name": "stderr",
     "output_type": "stream",
     "text": [
      "Computing batch: 108it [00:04, 23.69it/s]"
     ]
    },
    {
     "name": "stdout",
     "output_type": "stream",
     "text": [
      "100\n",
      "100\n",
      "100\n",
      "100\n",
      "100\n",
      "100\n",
      "100\n",
      "100\n",
      "100\n",
      "100\n",
      "100\n",
      "100\n",
      "100\n",
      "100\n",
      "100\n",
      "100\n",
      "100\n",
      "100\n",
      "100\n",
      "100\n"
     ]
    },
    {
     "name": "stderr",
     "output_type": "stream",
     "text": [
      "Computing batch: 114it [00:04, 24.10it/s]"
     ]
    },
    {
     "name": "stdout",
     "output_type": "stream",
     "text": [
      "100\n",
      "100\n",
      "100\n",
      "100\n",
      "100\n",
      "100\n",
      "100\n",
      "100\n",
      "100\n",
      "100\n",
      "100\n",
      "100\n",
      "100\n",
      "100\n",
      "100\n",
      "100\n",
      "100\n",
      "100\n",
      "100\n",
      "100\n"
     ]
    },
    {
     "name": "stderr",
     "output_type": "stream",
     "text": [
      "Computing batch: 117it [00:04, 24.41it/s]"
     ]
    },
    {
     "name": "stdout",
     "output_type": "stream",
     "text": [
      "100\n",
      "100\n",
      "100\n",
      "100\n",
      "100\n",
      "100\n",
      "100\n",
      "100\n",
      "100\n",
      "100\n",
      "100\n",
      "100\n",
      "100\n",
      "100\n",
      "100\n",
      "100\n",
      "100\n",
      "100\n",
      "100\n",
      "100\n"
     ]
    },
    {
     "name": "stderr",
     "output_type": "stream",
     "text": [
      "Computing batch: 123it [00:05, 23.96it/s]"
     ]
    },
    {
     "name": "stdout",
     "output_type": "stream",
     "text": [
      "100\n",
      "100\n",
      "100\n",
      "100\n",
      "100\n",
      "100\n",
      "100\n",
      "100\n",
      "100\n",
      "100\n",
      "100\n",
      "100\n",
      "100\n",
      "100\n",
      "100\n",
      "100\n",
      "100\n",
      "100\n",
      "100\n",
      "100\n"
     ]
    },
    {
     "name": "stderr",
     "output_type": "stream",
     "text": [
      "Computing batch: 129it [00:05, 23.95it/s]"
     ]
    },
    {
     "name": "stdout",
     "output_type": "stream",
     "text": [
      "100\n",
      "100\n",
      "100\n",
      "100\n",
      "100\n",
      "100\n",
      "100\n",
      "100\n",
      "100\n",
      "100\n",
      "100\n",
      "100\n",
      "100\n",
      "100\n",
      "100\n",
      "100\n",
      "100\n",
      "100\n",
      "100\n",
      "100\n"
     ]
    },
    {
     "name": "stderr",
     "output_type": "stream",
     "text": [
      "Computing batch: 132it [00:05, 23.77it/s]"
     ]
    },
    {
     "name": "stdout",
     "output_type": "stream",
     "text": [
      "100\n",
      "100\n",
      "100\n",
      "100\n",
      "100\n",
      "100\n",
      "100\n",
      "100\n",
      "100\n",
      "100\n",
      "100\n",
      "100\n",
      "100\n",
      "100\n",
      "100\n",
      "100\n",
      "100\n",
      "100\n",
      "100\n",
      "100\n"
     ]
    },
    {
     "name": "stderr",
     "output_type": "stream",
     "text": [
      "Computing batch: 138it [00:05, 24.18it/s]"
     ]
    },
    {
     "name": "stdout",
     "output_type": "stream",
     "text": [
      "100\n",
      "100\n",
      "100\n",
      "100\n",
      "100\n",
      "100\n",
      "100\n",
      "100\n",
      "100\n",
      "100\n",
      "100\n",
      "100\n",
      "100\n",
      "100\n",
      "100\n",
      "100\n",
      "100\n",
      "100\n",
      "100\n",
      "100\n"
     ]
    },
    {
     "name": "stderr",
     "output_type": "stream",
     "text": [
      "Computing batch: 144it [00:06, 24.01it/s]"
     ]
    },
    {
     "name": "stdout",
     "output_type": "stream",
     "text": [
      "100\n",
      "100\n",
      "100\n",
      "100\n",
      "100\n",
      "100\n",
      "100\n",
      "100\n",
      "100\n",
      "100\n",
      "100\n",
      "100\n",
      "100\n",
      "100\n",
      "100\n",
      "100\n",
      "100\n",
      "100\n",
      "100\n",
      "100\n"
     ]
    },
    {
     "name": "stderr",
     "output_type": "stream",
     "text": [
      "Computing batch: 147it [00:06, 23.80it/s]"
     ]
    },
    {
     "name": "stdout",
     "output_type": "stream",
     "text": [
      "100\n",
      "100\n",
      "100\n",
      "100\n",
      "100\n",
      "100\n",
      "100\n",
      "100\n",
      "100\n",
      "100\n",
      "100\n",
      "100\n",
      "100\n",
      "100\n",
      "100\n",
      "100\n",
      "100\n",
      "100\n",
      "100\n",
      "100\n"
     ]
    },
    {
     "name": "stderr",
     "output_type": "stream",
     "text": [
      "Computing batch: 153it [00:06, 24.06it/s]"
     ]
    },
    {
     "name": "stdout",
     "output_type": "stream",
     "text": [
      "100\n",
      "100\n",
      "100\n",
      "100\n",
      "100\n",
      "100\n",
      "100\n",
      "100\n",
      "100\n",
      "100\n",
      "100\n",
      "100\n",
      "100\n",
      "100\n",
      "100\n",
      "100\n",
      "100\n",
      "100\n",
      "100\n",
      "100\n"
     ]
    },
    {
     "name": "stderr",
     "output_type": "stream",
     "text": [
      "Computing batch: 159it [00:06, 24.17it/s]"
     ]
    },
    {
     "name": "stdout",
     "output_type": "stream",
     "text": [
      "100\n",
      "100\n",
      "100\n",
      "100\n",
      "100\n",
      "100\n",
      "100\n",
      "100\n",
      "100\n",
      "100\n",
      "100\n",
      "100\n",
      "100\n",
      "100\n",
      "100\n",
      "100\n",
      "100\n",
      "100\n",
      "100\n",
      "100\n"
     ]
    },
    {
     "name": "stderr",
     "output_type": "stream",
     "text": [
      "Computing batch: 162it [00:06, 24.27it/s]"
     ]
    },
    {
     "name": "stdout",
     "output_type": "stream",
     "text": [
      "100\n",
      "100\n",
      "100\n",
      "100\n",
      "100\n",
      "100\n",
      "100\n",
      "100\n",
      "100\n",
      "100\n",
      "100\n",
      "100\n",
      "100\n",
      "100\n",
      "100\n",
      "100\n",
      "100\n",
      "100\n",
      "100\n",
      "100\n"
     ]
    },
    {
     "name": "stderr",
     "output_type": "stream",
     "text": [
      "Computing batch: 168it [00:07, 24.19it/s]"
     ]
    },
    {
     "name": "stdout",
     "output_type": "stream",
     "text": [
      "100\n",
      "100\n",
      "100\n",
      "100\n",
      "100\n",
      "100\n",
      "100\n",
      "100\n",
      "100\n",
      "100\n",
      "100\n",
      "100\n",
      "100\n",
      "100\n",
      "100\n",
      "100\n",
      "100\n",
      "100\n",
      "100\n",
      "100\n"
     ]
    },
    {
     "name": "stderr",
     "output_type": "stream",
     "text": [
      "Computing batch: 174it [00:07, 23.84it/s]"
     ]
    },
    {
     "name": "stdout",
     "output_type": "stream",
     "text": [
      "100\n",
      "100\n",
      "100\n",
      "100\n",
      "100\n",
      "100\n",
      "100\n",
      "100\n",
      "100\n",
      "100\n",
      "100\n",
      "100\n",
      "100\n",
      "100\n",
      "100\n",
      "100\n",
      "100\n",
      "100\n",
      "100\n",
      "100\n"
     ]
    },
    {
     "name": "stderr",
     "output_type": "stream",
     "text": [
      "Computing batch: 177it [00:07, 23.56it/s]"
     ]
    },
    {
     "name": "stdout",
     "output_type": "stream",
     "text": [
      "100\n",
      "100\n",
      "100\n",
      "100\n",
      "100\n",
      "100\n",
      "100\n",
      "100\n",
      "100\n",
      "100\n",
      "100\n",
      "100\n",
      "100\n",
      "100\n",
      "100\n",
      "100\n",
      "100\n",
      "100\n",
      "100\n",
      "100\n"
     ]
    },
    {
     "name": "stderr",
     "output_type": "stream",
     "text": [
      "Computing batch: 183it [00:07, 22.87it/s]"
     ]
    },
    {
     "name": "stdout",
     "output_type": "stream",
     "text": [
      "100\n",
      "100\n",
      "100\n",
      "100\n",
      "100\n",
      "100\n",
      "100\n",
      "100\n",
      "100\n",
      "100\n",
      "100\n",
      "100\n",
      "100\n",
      "100\n",
      "100\n",
      "100\n",
      "100\n",
      "100\n",
      "100\n",
      "100\n"
     ]
    },
    {
     "name": "stderr",
     "output_type": "stream",
     "text": [
      "Computing batch: 189it [00:07, 22.95it/s]"
     ]
    },
    {
     "name": "stdout",
     "output_type": "stream",
     "text": [
      "100\n",
      "100\n",
      "100\n",
      "100\n",
      "100\n",
      "100\n",
      "100\n",
      "100\n",
      "100\n",
      "100\n",
      "100\n",
      "100\n",
      "100\n",
      "100\n",
      "100\n",
      "100\n",
      "100\n",
      "100\n",
      "100\n",
      "100\n"
     ]
    },
    {
     "name": "stderr",
     "output_type": "stream",
     "text": [
      "Computing batch: 192it [00:08, 23.17it/s]"
     ]
    },
    {
     "name": "stdout",
     "output_type": "stream",
     "text": [
      "100\n",
      "100\n",
      "100\n",
      "100\n",
      "100\n",
      "100\n",
      "100\n",
      "100\n",
      "100\n",
      "100\n",
      "100\n",
      "100\n",
      "100\n",
      "100\n",
      "100\n",
      "100\n",
      "100\n",
      "100\n",
      "100\n",
      "100\n"
     ]
    },
    {
     "name": "stderr",
     "output_type": "stream",
     "text": [
      "Computing batch: 198it [00:08, 23.10it/s]"
     ]
    },
    {
     "name": "stdout",
     "output_type": "stream",
     "text": [
      "100\n",
      "100\n",
      "100\n",
      "100\n",
      "100\n",
      "100\n",
      "100\n",
      "100\n",
      "100\n",
      "100\n",
      "100\n",
      "100\n",
      "100\n",
      "100\n",
      "100\n",
      "100\n",
      "100\n",
      "100\n",
      "100\n",
      "100\n"
     ]
    },
    {
     "name": "stderr",
     "output_type": "stream",
     "text": [
      "Computing batch: 204it [00:08, 23.31it/s]"
     ]
    },
    {
     "name": "stdout",
     "output_type": "stream",
     "text": [
      "100\n",
      "100\n",
      "100\n",
      "100\n",
      "100\n",
      "100\n",
      "100\n",
      "100\n",
      "100\n",
      "100\n",
      "100\n",
      "100\n",
      "100\n",
      "100\n",
      "100\n",
      "100\n",
      "100\n",
      "100\n",
      "100\n",
      "100\n"
     ]
    },
    {
     "name": "stderr",
     "output_type": "stream",
     "text": [
      "Computing batch: 207it [00:08, 23.63it/s]"
     ]
    },
    {
     "name": "stdout",
     "output_type": "stream",
     "text": [
      "100\n",
      "100\n",
      "100\n",
      "100\n",
      "100\n",
      "100\n",
      "100\n",
      "100\n",
      "100\n",
      "100\n",
      "100\n",
      "100\n",
      "100\n",
      "100\n",
      "100\n",
      "100\n",
      "100\n",
      "100\n",
      "100\n",
      "100\n"
     ]
    },
    {
     "name": "stderr",
     "output_type": "stream",
     "text": [
      "Computing batch: 213it [00:08, 24.03it/s]"
     ]
    },
    {
     "name": "stdout",
     "output_type": "stream",
     "text": [
      "100\n",
      "100\n",
      "100\n",
      "100\n",
      "100\n",
      "100\n",
      "100\n",
      "100\n",
      "100\n",
      "100\n",
      "100\n",
      "100\n",
      "100\n",
      "100\n",
      "100\n",
      "100\n",
      "100\n",
      "100\n",
      "100\n",
      "100\n",
      "100\n"
     ]
    },
    {
     "name": "stderr",
     "output_type": "stream",
     "text": [
      "Computing batch: 219it [00:09, 24.34it/s]"
     ]
    },
    {
     "name": "stdout",
     "output_type": "stream",
     "text": [
      "100\n",
      "100\n",
      "100\n",
      "100\n",
      "100\n",
      "100\n",
      "100\n",
      "100\n",
      "100\n",
      "100\n",
      "100\n",
      "100\n",
      "100\n",
      "100\n",
      "100\n",
      "100\n",
      "100\n",
      "100\n",
      "100\n"
     ]
    },
    {
     "name": "stderr",
     "output_type": "stream",
     "text": [
      "Computing batch: 222it [00:09, 23.99it/s]"
     ]
    },
    {
     "name": "stdout",
     "output_type": "stream",
     "text": [
      "100\n",
      "100\n",
      "100\n",
      "100\n",
      "100\n",
      "100\n",
      "100\n",
      "100\n",
      "100\n",
      "100\n",
      "100\n",
      "100\n",
      "100\n",
      "100\n",
      "100\n",
      "100\n",
      "100\n",
      "100\n",
      "100\n",
      "100\n"
     ]
    },
    {
     "name": "stderr",
     "output_type": "stream",
     "text": [
      "Computing batch: 228it [00:09, 24.23it/s]"
     ]
    },
    {
     "name": "stdout",
     "output_type": "stream",
     "text": [
      "100\n",
      "100\n",
      "100\n",
      "100\n",
      "100\n",
      "100\n",
      "100\n",
      "100\n",
      "100\n",
      "100\n",
      "100\n",
      "100\n",
      "100\n",
      "100\n",
      "100\n",
      "100\n",
      "100\n",
      "100\n",
      "100\n",
      "100\n"
     ]
    },
    {
     "name": "stderr",
     "output_type": "stream",
     "text": [
      "Computing batch: 234it [00:09, 24.17it/s]"
     ]
    },
    {
     "name": "stdout",
     "output_type": "stream",
     "text": [
      "100\n",
      "100\n",
      "100\n",
      "100\n",
      "100\n",
      "100\n",
      "100\n",
      "100\n",
      "100\n",
      "100\n",
      "100\n",
      "100\n",
      "100\n",
      "100\n",
      "100\n",
      "100\n",
      "100\n",
      "100\n",
      "100\n",
      "100\n"
     ]
    },
    {
     "name": "stderr",
     "output_type": "stream",
     "text": [
      "Computing batch: 237it [00:09, 23.94it/s]"
     ]
    },
    {
     "name": "stdout",
     "output_type": "stream",
     "text": [
      "100\n",
      "100\n",
      "100\n",
      "100\n",
      "100\n",
      "100\n",
      "100\n",
      "100\n",
      "100\n",
      "100\n",
      "100\n",
      "100\n",
      "100\n",
      "100\n",
      "100\n",
      "100\n",
      "100\n",
      "100\n",
      "100\n",
      "100\n"
     ]
    },
    {
     "name": "stderr",
     "output_type": "stream",
     "text": [
      "Computing batch: 243it [00:10, 24.24it/s]"
     ]
    },
    {
     "name": "stdout",
     "output_type": "stream",
     "text": [
      "100\n",
      "100\n",
      "100\n",
      "100\n",
      "100\n",
      "100\n",
      "100\n",
      "100\n",
      "100\n",
      "100\n",
      "100\n",
      "100\n",
      "100\n",
      "100\n",
      "100\n",
      "100\n",
      "100\n",
      "100\n",
      "100\n",
      "100\n"
     ]
    },
    {
     "name": "stderr",
     "output_type": "stream",
     "text": [
      "Computing batch: 249it [00:10, 23.72it/s]"
     ]
    },
    {
     "name": "stdout",
     "output_type": "stream",
     "text": [
      "100\n",
      "100\n",
      "100\n",
      "100\n",
      "100\n",
      "100\n",
      "100\n",
      "100\n",
      "100\n",
      "100\n",
      "100\n",
      "100\n",
      "100\n",
      "100\n",
      "100\n",
      "100\n",
      "100\n",
      "100\n",
      "100\n",
      "100\n"
     ]
    },
    {
     "name": "stderr",
     "output_type": "stream",
     "text": [
      "Computing batch: 252it [00:10, 23.91it/s]"
     ]
    },
    {
     "name": "stdout",
     "output_type": "stream",
     "text": [
      "100\n",
      "100\n",
      "100\n",
      "100\n",
      "100\n",
      "100\n",
      "100\n",
      "100\n",
      "100\n",
      "100\n",
      "100\n",
      "100\n",
      "100\n",
      "100\n",
      "100\n",
      "100\n",
      "100\n",
      "100\n",
      "100\n",
      "100\n"
     ]
    },
    {
     "name": "stderr",
     "output_type": "stream",
     "text": [
      "Computing batch: 258it [00:10, 24.14it/s]"
     ]
    },
    {
     "name": "stdout",
     "output_type": "stream",
     "text": [
      "100\n",
      "100\n",
      "100\n",
      "100\n",
      "100\n",
      "100\n",
      "100\n",
      "100\n",
      "100\n",
      "100\n",
      "100\n",
      "100\n",
      "100\n",
      "100\n",
      "100\n",
      "100\n",
      "100\n",
      "100\n",
      "100\n",
      "100\n"
     ]
    },
    {
     "name": "stderr",
     "output_type": "stream",
     "text": [
      "Computing batch: 264it [00:11, 24.02it/s]"
     ]
    },
    {
     "name": "stdout",
     "output_type": "stream",
     "text": [
      "100\n",
      "100\n",
      "100\n",
      "100\n",
      "100\n",
      "100\n",
      "100\n",
      "100\n",
      "100\n",
      "100\n",
      "100\n",
      "100\n",
      "100\n",
      "100\n",
      "100\n",
      "100\n",
      "100\n",
      "100\n",
      "100\n",
      "100\n"
     ]
    },
    {
     "name": "stderr",
     "output_type": "stream",
     "text": [
      "Computing batch: 267it [00:11, 23.79it/s]"
     ]
    },
    {
     "name": "stdout",
     "output_type": "stream",
     "text": [
      "100\n",
      "100\n",
      "100\n",
      "100\n",
      "100\n",
      "100\n",
      "100\n",
      "100\n",
      "100\n",
      "100\n",
      "100\n",
      "100\n",
      "100\n",
      "100\n",
      "100\n",
      "100\n",
      "100\n",
      "100\n",
      "100\n",
      "100\n"
     ]
    },
    {
     "name": "stderr",
     "output_type": "stream",
     "text": [
      "Computing batch: 273it [00:11, 23.72it/s]"
     ]
    },
    {
     "name": "stdout",
     "output_type": "stream",
     "text": [
      "100\n",
      "100\n",
      "100\n",
      "100\n",
      "100\n",
      "100\n",
      "100\n",
      "100\n",
      "100\n",
      "100\n",
      "100\n",
      "100\n",
      "100\n",
      "100\n",
      "100\n",
      "100\n",
      "100\n",
      "100\n",
      "100\n",
      "100\n"
     ]
    },
    {
     "name": "stderr",
     "output_type": "stream",
     "text": [
      "Computing batch: 279it [00:11, 23.76it/s]"
     ]
    },
    {
     "name": "stdout",
     "output_type": "stream",
     "text": [
      "100\n",
      "100\n",
      "100\n",
      "100\n",
      "100\n",
      "100\n",
      "100\n",
      "100\n",
      "100\n",
      "100\n",
      "100\n",
      "100\n",
      "100\n",
      "100\n",
      "100\n",
      "100\n",
      "100\n",
      "100\n",
      "100\n",
      "100\n"
     ]
    },
    {
     "name": "stderr",
     "output_type": "stream",
     "text": [
      "Computing batch: 282it [00:11, 23.51it/s]"
     ]
    },
    {
     "name": "stdout",
     "output_type": "stream",
     "text": [
      "100\n",
      "100\n",
      "100\n",
      "100\n",
      "100\n",
      "100\n",
      "100\n",
      "100\n",
      "100\n",
      "100\n",
      "100\n",
      "100\n",
      "100\n",
      "100\n",
      "100\n",
      "100\n",
      "100\n",
      "100\n",
      "100\n",
      "100\n"
     ]
    },
    {
     "name": "stderr",
     "output_type": "stream",
     "text": [
      "Computing batch: 288it [00:12, 23.47it/s]"
     ]
    },
    {
     "name": "stdout",
     "output_type": "stream",
     "text": [
      "100\n",
      "100\n",
      "100\n",
      "100\n",
      "100\n",
      "100\n",
      "100\n",
      "100\n",
      "100\n",
      "100\n",
      "100\n",
      "100\n",
      "100\n",
      "100\n",
      "100\n",
      "100\n",
      "100\n",
      "100\n",
      "100\n",
      "100\n"
     ]
    },
    {
     "name": "stderr",
     "output_type": "stream",
     "text": [
      "Computing batch: 294it [00:12, 23.77it/s]"
     ]
    },
    {
     "name": "stdout",
     "output_type": "stream",
     "text": [
      "100\n",
      "100\n",
      "100\n",
      "100\n",
      "100\n",
      "100\n",
      "100\n",
      "100\n",
      "100\n",
      "100\n",
      "100\n",
      "100\n",
      "100\n",
      "100\n",
      "100\n",
      "100\n",
      "100\n",
      "100\n",
      "100\n",
      "100\n"
     ]
    },
    {
     "name": "stderr",
     "output_type": "stream",
     "text": [
      "Computing batch: 297it [00:12, 23.63it/s]"
     ]
    },
    {
     "name": "stdout",
     "output_type": "stream",
     "text": [
      "100\n",
      "100\n",
      "100\n",
      "100\n",
      "100\n",
      "100\n",
      "100\n",
      "100\n",
      "100\n",
      "100\n",
      "100\n",
      "100\n",
      "100\n",
      "100\n",
      "100\n",
      "100\n",
      "100\n",
      "100\n",
      "100\n",
      "100\n"
     ]
    },
    {
     "name": "stderr",
     "output_type": "stream",
     "text": [
      "Computing batch: 303it [00:12, 23.89it/s]"
     ]
    },
    {
     "name": "stdout",
     "output_type": "stream",
     "text": [
      "100\n",
      "100\n",
      "100\n",
      "100\n",
      "100\n",
      "100\n",
      "100\n",
      "100\n",
      "100\n",
      "100\n",
      "100\n",
      "100\n",
      "100\n",
      "100\n",
      "100\n",
      "100\n",
      "100\n",
      "100\n",
      "100\n",
      "100\n"
     ]
    },
    {
     "name": "stderr",
     "output_type": "stream",
     "text": [
      "Computing batch: 309it [00:12, 24.11it/s]"
     ]
    },
    {
     "name": "stdout",
     "output_type": "stream",
     "text": [
      "100\n",
      "100\n",
      "100\n",
      "100\n",
      "100\n",
      "100\n",
      "100\n",
      "100\n",
      "100\n",
      "100\n",
      "100\n",
      "100\n",
      "100\n",
      "100\n",
      "100\n",
      "100\n",
      "100\n",
      "100\n",
      "100\n",
      "100\n"
     ]
    },
    {
     "name": "stderr",
     "output_type": "stream",
     "text": [
      "Computing batch: 312it [00:13, 24.16it/s]"
     ]
    },
    {
     "name": "stdout",
     "output_type": "stream",
     "text": [
      "100\n",
      "100\n",
      "100\n",
      "100\n",
      "100\n",
      "100\n",
      "100\n",
      "100\n",
      "100\n",
      "100\n",
      "100\n",
      "100\n",
      "100\n",
      "100\n",
      "100\n",
      "100\n",
      "100\n",
      "100\n",
      "100\n",
      "100\n"
     ]
    },
    {
     "name": "stderr",
     "output_type": "stream",
     "text": [
      "Computing batch: 318it [00:13, 23.68it/s]"
     ]
    },
    {
     "name": "stdout",
     "output_type": "stream",
     "text": [
      "100\n",
      "100\n",
      "100\n",
      "100\n",
      "100\n",
      "100\n",
      "100\n",
      "100\n",
      "100\n",
      "100\n",
      "100\n",
      "100\n",
      "100\n",
      "100\n",
      "100\n",
      "100\n",
      "100\n",
      "100\n",
      "100\n",
      "100\n"
     ]
    },
    {
     "name": "stderr",
     "output_type": "stream",
     "text": [
      "Computing batch: 324it [00:13, 23.58it/s]"
     ]
    },
    {
     "name": "stdout",
     "output_type": "stream",
     "text": [
      "100\n",
      "100\n",
      "100\n",
      "100\n",
      "100\n",
      "100\n",
      "100\n",
      "100\n",
      "100\n",
      "100\n",
      "100\n",
      "100\n",
      "100\n",
      "100\n",
      "100\n",
      "100\n",
      "100\n",
      "100\n",
      "100\n",
      "100\n"
     ]
    },
    {
     "name": "stderr",
     "output_type": "stream",
     "text": [
      "Computing batch: 327it [00:13, 23.18it/s]"
     ]
    },
    {
     "name": "stdout",
     "output_type": "stream",
     "text": [
      "100\n",
      "100\n",
      "100\n",
      "100\n",
      "100\n",
      "100\n",
      "100\n",
      "100\n",
      "100\n",
      "100\n",
      "100\n",
      "100\n",
      "100\n",
      "100\n",
      "100\n",
      "100\n",
      "100\n",
      "100\n",
      "100\n",
      "100\n"
     ]
    },
    {
     "name": "stderr",
     "output_type": "stream",
     "text": [
      "Computing batch: 333it [00:13, 23.62it/s]"
     ]
    },
    {
     "name": "stdout",
     "output_type": "stream",
     "text": [
      "100\n",
      "100\n",
      "100\n",
      "100\n",
      "100\n",
      "100\n",
      "100\n",
      "100\n",
      "100\n",
      "100\n",
      "100\n",
      "100\n",
      "100\n",
      "100\n",
      "100\n",
      "100\n",
      "100\n",
      "100\n",
      "100\n",
      "100\n"
     ]
    },
    {
     "name": "stderr",
     "output_type": "stream",
     "text": [
      "Computing batch: 339it [00:14, 23.45it/s]"
     ]
    },
    {
     "name": "stdout",
     "output_type": "stream",
     "text": [
      "100\n",
      "100\n",
      "100\n",
      "100\n",
      "100\n",
      "100\n",
      "100\n",
      "100\n",
      "100\n",
      "100\n",
      "100\n",
      "100\n",
      "100\n",
      "100\n",
      "100\n",
      "100\n",
      "100\n",
      "100\n",
      "100\n",
      "100\n"
     ]
    },
    {
     "name": "stderr",
     "output_type": "stream",
     "text": [
      "Computing batch: 345it [00:14, 23.91it/s]"
     ]
    },
    {
     "name": "stdout",
     "output_type": "stream",
     "text": [
      "100\n",
      "100\n",
      "100\n",
      "100\n",
      "100\n",
      "100\n",
      "100\n",
      "100\n",
      "100\n",
      "100\n",
      "100\n",
      "100\n",
      "100\n",
      "100\n",
      "100\n",
      "100\n",
      "100\n",
      "100\n",
      "100\n",
      "100\n",
      "100\n"
     ]
    },
    {
     "name": "stderr",
     "output_type": "stream",
     "text": [
      "Computing batch: 348it [00:14, 23.44it/s]"
     ]
    },
    {
     "name": "stdout",
     "output_type": "stream",
     "text": [
      "100\n",
      "100\n",
      "100\n",
      "100\n",
      "100\n",
      "100\n",
      "100\n",
      "100\n",
      "100\n",
      "100\n",
      "100\n",
      "100\n",
      "100\n",
      "100\n",
      "100\n",
      "100\n",
      "100\n",
      "100\n",
      "100\n"
     ]
    },
    {
     "name": "stderr",
     "output_type": "stream",
     "text": [
      "Computing batch: 354it [00:14, 23.89it/s]"
     ]
    },
    {
     "name": "stdout",
     "output_type": "stream",
     "text": [
      "100\n",
      "100\n",
      "100\n",
      "100\n",
      "100\n",
      "100\n",
      "100\n",
      "100\n",
      "100\n",
      "100\n",
      "100\n",
      "100\n",
      "100\n",
      "100\n",
      "100\n",
      "100\n",
      "100\n",
      "100\n",
      "100\n",
      "100\n"
     ]
    },
    {
     "name": "stderr",
     "output_type": "stream",
     "text": [
      "Computing batch: 357it [00:14, 23.85it/s]"
     ]
    },
    {
     "name": "stdout",
     "output_type": "stream",
     "text": [
      "100\n",
      "100\n",
      "100\n",
      "100\n",
      "100\n",
      "100\n",
      "100\n",
      "100\n",
      "100\n",
      "100\n",
      "100\n",
      "100\n",
      "100\n",
      "100\n",
      "100\n",
      "100\n",
      "100\n",
      "100\n",
      "100\n",
      "100\n"
     ]
    },
    {
     "name": "stderr",
     "output_type": "stream",
     "text": [
      "Computing batch: 363it [00:15, 23.91it/s]"
     ]
    },
    {
     "name": "stdout",
     "output_type": "stream",
     "text": [
      "100\n",
      "100\n",
      "100\n",
      "100\n",
      "100\n",
      "100\n",
      "100\n",
      "100\n",
      "100\n",
      "100\n",
      "100\n",
      "100\n",
      "100\n",
      "100\n",
      "100\n",
      "100\n",
      "100\n",
      "100\n",
      "100\n",
      "100\n"
     ]
    },
    {
     "name": "stderr",
     "output_type": "stream",
     "text": [
      "Computing batch: 369it [00:15, 23.77it/s]"
     ]
    },
    {
     "name": "stdout",
     "output_type": "stream",
     "text": [
      "100\n",
      "100\n",
      "100\n",
      "100\n",
      "100\n",
      "100\n",
      "100\n",
      "100\n",
      "100\n",
      "100\n",
      "100\n",
      "100\n",
      "100\n",
      "100\n",
      "100\n",
      "100\n",
      "100\n",
      "100\n",
      "100\n",
      "100\n"
     ]
    },
    {
     "name": "stderr",
     "output_type": "stream",
     "text": [
      "Computing batch: 372it [00:15, 23.59it/s]"
     ]
    },
    {
     "name": "stdout",
     "output_type": "stream",
     "text": [
      "100\n",
      "100\n",
      "100\n",
      "100\n",
      "100\n",
      "100\n",
      "100\n",
      "100\n",
      "100\n",
      "100\n",
      "100\n",
      "100\n",
      "100\n",
      "100\n",
      "100\n",
      "100\n",
      "100\n",
      "100\n",
      "100\n",
      "100\n"
     ]
    },
    {
     "name": "stderr",
     "output_type": "stream",
     "text": [
      "Computing batch: 378it [00:15, 23.58it/s]"
     ]
    },
    {
     "name": "stdout",
     "output_type": "stream",
     "text": [
      "100\n",
      "100\n",
      "100\n",
      "100\n",
      "100\n",
      "100\n",
      "100\n",
      "100\n",
      "100\n",
      "100\n",
      "100\n",
      "100\n",
      "100\n",
      "100\n",
      "100\n",
      "100\n",
      "100\n",
      "100\n",
      "100\n",
      "100\n"
     ]
    },
    {
     "name": "stderr",
     "output_type": "stream",
     "text": [
      "Computing batch: 384it [00:16, 23.90it/s]"
     ]
    },
    {
     "name": "stdout",
     "output_type": "stream",
     "text": [
      "100\n",
      "100\n",
      "100\n",
      "100\n",
      "100\n",
      "100\n",
      "100\n",
      "100\n",
      "100\n",
      "100\n",
      "100\n",
      "100\n",
      "100\n",
      "100\n",
      "100\n",
      "100\n",
      "100\n",
      "100\n",
      "100\n",
      "100\n"
     ]
    },
    {
     "name": "stderr",
     "output_type": "stream",
     "text": [
      "Computing batch: 387it [00:16, 23.76it/s]"
     ]
    },
    {
     "name": "stdout",
     "output_type": "stream",
     "text": [
      "100\n",
      "100\n",
      "100\n",
      "100\n",
      "100\n",
      "100\n",
      "100\n",
      "100\n",
      "100\n",
      "100\n",
      "100\n",
      "100\n",
      "100\n",
      "100\n",
      "100\n",
      "100\n",
      "100\n",
      "100\n",
      "100\n",
      "100\n"
     ]
    },
    {
     "name": "stderr",
     "output_type": "stream",
     "text": [
      "Computing batch: 393it [00:16, 23.85it/s]"
     ]
    },
    {
     "name": "stdout",
     "output_type": "stream",
     "text": [
      "100\n",
      "100\n",
      "100\n",
      "100\n",
      "100\n",
      "100\n",
      "100\n",
      "100\n",
      "100\n",
      "100\n",
      "100\n",
      "100\n",
      "100\n",
      "100\n",
      "100\n",
      "100\n",
      "100\n",
      "100\n",
      "100\n",
      "100\n"
     ]
    },
    {
     "name": "stderr",
     "output_type": "stream",
     "text": [
      "Computing batch: 399it [00:16, 24.04it/s]"
     ]
    },
    {
     "name": "stdout",
     "output_type": "stream",
     "text": [
      "100\n",
      "100\n",
      "100\n",
      "100\n",
      "100\n",
      "100\n",
      "100\n",
      "100\n",
      "100\n",
      "100\n",
      "100\n",
      "100\n",
      "100\n",
      "100\n",
      "100\n",
      "100\n",
      "100\n",
      "100\n",
      "100\n",
      "100\n"
     ]
    },
    {
     "name": "stderr",
     "output_type": "stream",
     "text": [
      "Computing batch: 402it [00:16, 23.82it/s]"
     ]
    },
    {
     "name": "stdout",
     "output_type": "stream",
     "text": [
      "100\n",
      "100\n",
      "100\n",
      "100\n",
      "100\n",
      "100\n",
      "100\n",
      "100\n",
      "100\n",
      "100\n",
      "100\n",
      "100\n",
      "100\n",
      "100\n",
      "100\n",
      "100\n",
      "100\n",
      "100\n",
      "100\n",
      "100\n"
     ]
    },
    {
     "name": "stderr",
     "output_type": "stream",
     "text": [
      "Computing batch: 408it [00:17, 23.85it/s]"
     ]
    },
    {
     "name": "stdout",
     "output_type": "stream",
     "text": [
      "100\n",
      "100\n",
      "100\n",
      "100\n",
      "100\n",
      "100\n",
      "100\n",
      "100\n",
      "100\n",
      "100\n",
      "100\n",
      "100\n",
      "100\n",
      "100\n",
      "100\n",
      "100\n",
      "100\n",
      "100\n",
      "100\n",
      "100\n"
     ]
    },
    {
     "name": "stderr",
     "output_type": "stream",
     "text": [
      "Computing batch: 414it [00:17, 24.15it/s]"
     ]
    },
    {
     "name": "stdout",
     "output_type": "stream",
     "text": [
      "100\n",
      "100\n",
      "100\n",
      "100\n",
      "100\n",
      "100\n",
      "100\n",
      "100\n",
      "100\n",
      "100\n",
      "100\n",
      "100\n",
      "100\n",
      "100\n",
      "100\n",
      "100\n",
      "100\n",
      "100\n",
      "100\n",
      "100\n"
     ]
    },
    {
     "name": "stderr",
     "output_type": "stream",
     "text": [
      "Computing batch: 417it [00:17, 23.89it/s]"
     ]
    },
    {
     "name": "stdout",
     "output_type": "stream",
     "text": [
      "100\n",
      "100\n",
      "100\n",
      "100\n",
      "100\n",
      "100\n",
      "100\n",
      "100\n",
      "100\n",
      "100\n",
      "100\n",
      "100\n",
      "100\n",
      "100\n",
      "100\n",
      "100\n",
      "100\n",
      "100\n",
      "100\n",
      "100\n"
     ]
    },
    {
     "name": "stderr",
     "output_type": "stream",
     "text": [
      "Computing batch: 423it [00:17, 23.71it/s]"
     ]
    },
    {
     "name": "stdout",
     "output_type": "stream",
     "text": [
      "100\n",
      "100\n",
      "100\n",
      "100\n",
      "100\n",
      "100\n",
      "100\n",
      "100\n",
      "100\n",
      "100\n",
      "100\n",
      "100\n",
      "100\n",
      "100\n",
      "100\n",
      "100\n",
      "100\n",
      "100\n",
      "100\n",
      "100\n"
     ]
    },
    {
     "name": "stderr",
     "output_type": "stream",
     "text": [
      "Computing batch: 429it [00:18, 24.00it/s]"
     ]
    },
    {
     "name": "stdout",
     "output_type": "stream",
     "text": [
      "100\n",
      "100\n",
      "100\n",
      "100\n",
      "100\n",
      "100\n",
      "100\n",
      "100\n",
      "100\n",
      "100\n",
      "100\n",
      "100\n",
      "100\n",
      "100\n",
      "100\n",
      "100\n",
      "100\n",
      "100\n",
      "100\n",
      "100\n"
     ]
    },
    {
     "name": "stderr",
     "output_type": "stream",
     "text": [
      "Computing batch: 432it [00:18, 23.99it/s]"
     ]
    },
    {
     "name": "stdout",
     "output_type": "stream",
     "text": [
      "100\n",
      "100\n",
      "100\n",
      "100\n",
      "100\n",
      "100\n",
      "100\n",
      "100\n",
      "100\n",
      "100\n",
      "100\n",
      "100\n",
      "100\n",
      "100\n",
      "100\n",
      "100\n",
      "100\n",
      "100\n",
      "100\n",
      "100\n"
     ]
    },
    {
     "name": "stderr",
     "output_type": "stream",
     "text": [
      "Computing batch: 438it [00:18, 23.15it/s]"
     ]
    },
    {
     "name": "stdout",
     "output_type": "stream",
     "text": [
      "100\n",
      "100\n",
      "100\n",
      "100\n",
      "100\n",
      "100\n",
      "100\n",
      "100\n",
      "100\n",
      "100\n",
      "100\n",
      "100\n",
      "100\n",
      "100\n",
      "100\n",
      "100\n",
      "100\n",
      "100\n",
      "100\n",
      "100\n"
     ]
    },
    {
     "name": "stderr",
     "output_type": "stream",
     "text": [
      "Computing batch: 444it [00:18, 23.59it/s]"
     ]
    },
    {
     "name": "stdout",
     "output_type": "stream",
     "text": [
      "100\n",
      "100\n",
      "100\n",
      "100\n",
      "100\n",
      "100\n",
      "100\n",
      "100\n",
      "100\n",
      "100\n",
      "100\n",
      "100\n",
      "100\n",
      "100\n",
      "100\n",
      "100\n",
      "100\n",
      "100\n",
      "100\n",
      "100\n"
     ]
    },
    {
     "name": "stderr",
     "output_type": "stream",
     "text": [
      "Computing batch: 447it [00:18, 23.91it/s]"
     ]
    },
    {
     "name": "stdout",
     "output_type": "stream",
     "text": [
      "100\n",
      "100\n",
      "100\n",
      "100\n",
      "100\n",
      "100\n",
      "100\n",
      "100\n",
      "100\n",
      "100\n",
      "100\n",
      "100\n",
      "100\n",
      "100\n",
      "100\n",
      "100\n",
      "100\n",
      "100\n",
      "100\n",
      "100\n"
     ]
    },
    {
     "name": "stderr",
     "output_type": "stream",
     "text": [
      "Computing batch: 453it [00:19, 23.87it/s]"
     ]
    },
    {
     "name": "stdout",
     "output_type": "stream",
     "text": [
      "100\n",
      "100\n",
      "100\n",
      "100\n",
      "100\n",
      "100\n",
      "100\n",
      "100\n",
      "100\n",
      "100\n",
      "100\n",
      "100\n",
      "100\n",
      "100\n",
      "100\n",
      "100\n",
      "100\n",
      "100\n",
      "100\n",
      "100\n"
     ]
    },
    {
     "name": "stderr",
     "output_type": "stream",
     "text": [
      "Computing batch: 459it [00:19, 24.24it/s]"
     ]
    },
    {
     "name": "stdout",
     "output_type": "stream",
     "text": [
      "100\n",
      "100\n",
      "100\n",
      "100\n",
      "100\n",
      "100\n",
      "100\n",
      "100\n",
      "100\n",
      "100\n",
      "100\n",
      "100\n",
      "100\n",
      "100\n",
      "100\n",
      "100\n",
      "100\n",
      "100\n",
      "100\n",
      "100\n"
     ]
    },
    {
     "name": "stderr",
     "output_type": "stream",
     "text": [
      "Computing batch: 462it [00:19, 23.65it/s]"
     ]
    },
    {
     "name": "stdout",
     "output_type": "stream",
     "text": [
      "100\n",
      "100\n",
      "100\n",
      "100\n",
      "100\n",
      "100\n",
      "100\n",
      "100\n",
      "100\n",
      "100\n",
      "100\n",
      "100\n",
      "100\n",
      "100\n",
      "100\n",
      "100\n",
      "100\n",
      "100\n",
      "100\n",
      "100\n"
     ]
    },
    {
     "name": "stderr",
     "output_type": "stream",
     "text": [
      "Computing batch: 468it [00:19, 23.75it/s]"
     ]
    },
    {
     "name": "stdout",
     "output_type": "stream",
     "text": [
      "100\n",
      "100\n",
      "100\n",
      "100\n",
      "100\n",
      "100\n",
      "100\n",
      "100\n",
      "100\n",
      "100\n",
      "100\n",
      "100\n",
      "100\n",
      "100\n",
      "100\n",
      "100\n",
      "100\n",
      "100\n",
      "100\n",
      "100\n"
     ]
    },
    {
     "name": "stderr",
     "output_type": "stream",
     "text": [
      "Computing batch: 474it [00:19, 23.94it/s]"
     ]
    },
    {
     "name": "stdout",
     "output_type": "stream",
     "text": [
      "100\n",
      "100\n",
      "100\n",
      "100\n",
      "100\n",
      "100\n",
      "100\n",
      "100\n",
      "100\n",
      "100\n",
      "100\n",
      "100\n",
      "100\n",
      "100\n",
      "100\n",
      "100\n",
      "100\n",
      "100\n",
      "100\n",
      "100\n"
     ]
    },
    {
     "name": "stderr",
     "output_type": "stream",
     "text": [
      "Computing batch: 477it [00:20, 23.69it/s]"
     ]
    },
    {
     "name": "stdout",
     "output_type": "stream",
     "text": [
      "100\n",
      "100\n",
      "100\n",
      "100\n",
      "100\n",
      "100\n",
      "100\n",
      "100\n",
      "100\n",
      "100\n",
      "100\n",
      "100\n",
      "100\n",
      "100\n",
      "100\n",
      "100\n",
      "100\n",
      "100\n",
      "100\n",
      "100\n"
     ]
    },
    {
     "name": "stderr",
     "output_type": "stream",
     "text": [
      "Computing batch: 483it [00:20, 23.91it/s]"
     ]
    },
    {
     "name": "stdout",
     "output_type": "stream",
     "text": [
      "100\n",
      "100\n",
      "100\n",
      "100\n",
      "100\n",
      "100\n",
      "100\n",
      "100\n",
      "100\n",
      "100\n",
      "100\n",
      "100\n",
      "100\n",
      "100\n",
      "100\n",
      "100\n",
      "100\n",
      "100\n",
      "100\n",
      "100\n",
      "100\n"
     ]
    },
    {
     "name": "stderr",
     "output_type": "stream",
     "text": [
      "Computing batch: 489it [00:20, 24.05it/s]"
     ]
    },
    {
     "name": "stdout",
     "output_type": "stream",
     "text": [
      "100\n",
      "100\n",
      "100\n",
      "100\n",
      "100\n",
      "100\n",
      "100\n",
      "100\n",
      "100\n",
      "100\n",
      "100\n",
      "100\n",
      "100\n",
      "100\n",
      "100\n",
      "100\n",
      "100\n",
      "100\n",
      "100\n"
     ]
    },
    {
     "name": "stderr",
     "output_type": "stream",
     "text": [
      "Computing batch: 492it [00:20, 23.79it/s]"
     ]
    },
    {
     "name": "stdout",
     "output_type": "stream",
     "text": [
      "100\n",
      "100\n",
      "100\n",
      "100\n",
      "100\n",
      "100\n",
      "100\n",
      "100\n",
      "100\n",
      "100\n",
      "100\n",
      "100\n",
      "100\n",
      "100\n",
      "100\n",
      "100\n",
      "100\n",
      "100\n",
      "100\n",
      "100\n"
     ]
    },
    {
     "name": "stderr",
     "output_type": "stream",
     "text": [
      "Computing batch: 498it [00:20, 23.75it/s]"
     ]
    },
    {
     "name": "stdout",
     "output_type": "stream",
     "text": [
      "100\n",
      "100\n",
      "100\n",
      "100\n",
      "100\n",
      "100\n",
      "100\n",
      "100\n",
      "100\n",
      "100\n",
      "100\n",
      "100\n",
      "100\n",
      "100\n",
      "100\n",
      "100\n",
      "100\n",
      "100\n",
      "100\n",
      "100\n"
     ]
    },
    {
     "name": "stderr",
     "output_type": "stream",
     "text": [
      "Computing batch: 504it [00:21, 24.12it/s]"
     ]
    },
    {
     "name": "stdout",
     "output_type": "stream",
     "text": [
      "100\n",
      "100\n",
      "100\n",
      "100\n",
      "100\n",
      "100\n",
      "100\n",
      "100\n",
      "100\n",
      "100\n",
      "100\n",
      "100\n",
      "100\n",
      "100\n",
      "100\n",
      "100\n",
      "100\n",
      "100\n",
      "100\n",
      "100\n"
     ]
    },
    {
     "name": "stderr",
     "output_type": "stream",
     "text": [
      "Computing batch: 507it [00:21, 23.70it/s]"
     ]
    },
    {
     "name": "stdout",
     "output_type": "stream",
     "text": [
      "100\n",
      "100\n",
      "100\n",
      "100\n",
      "100\n",
      "100\n",
      "100\n",
      "100\n",
      "100\n",
      "100\n",
      "100\n",
      "100\n",
      "100\n",
      "100\n",
      "100\n",
      "100\n",
      "100\n",
      "100\n",
      "100\n",
      "100\n"
     ]
    },
    {
     "name": "stderr",
     "output_type": "stream",
     "text": [
      "Computing batch: 513it [00:21, 23.25it/s]"
     ]
    },
    {
     "name": "stdout",
     "output_type": "stream",
     "text": [
      "100\n",
      "100\n",
      "100\n",
      "100\n",
      "100\n",
      "100\n",
      "100\n",
      "100\n",
      "100\n",
      "100\n",
      "100\n",
      "100\n",
      "100\n",
      "100\n",
      "100\n",
      "100\n",
      "100\n",
      "100\n",
      "100\n",
      "100\n"
     ]
    },
    {
     "name": "stderr",
     "output_type": "stream",
     "text": [
      "Computing batch: 519it [00:21, 23.55it/s]"
     ]
    },
    {
     "name": "stdout",
     "output_type": "stream",
     "text": [
      "100\n",
      "100\n",
      "100\n",
      "100\n",
      "100\n",
      "100\n",
      "100\n",
      "100\n",
      "100\n",
      "100\n",
      "100\n",
      "100\n",
      "100\n",
      "100\n",
      "100\n",
      "100\n",
      "100\n",
      "100\n",
      "100\n",
      "100\n"
     ]
    },
    {
     "name": "stderr",
     "output_type": "stream",
     "text": [
      "Computing batch: 522it [00:21, 23.63it/s]"
     ]
    },
    {
     "name": "stdout",
     "output_type": "stream",
     "text": [
      "100\n",
      "100\n",
      "100\n",
      "100\n",
      "100\n",
      "100\n",
      "100\n",
      "100\n",
      "100\n",
      "100\n",
      "100\n",
      "100\n",
      "100\n",
      "100\n",
      "100\n",
      "100\n",
      "100\n",
      "100\n",
      "100\n",
      "100\n"
     ]
    },
    {
     "name": "stderr",
     "output_type": "stream",
     "text": [
      "Computing batch: 528it [00:22, 24.17it/s]"
     ]
    },
    {
     "name": "stdout",
     "output_type": "stream",
     "text": [
      "100\n",
      "100\n",
      "100\n",
      "100\n",
      "100\n",
      "100\n",
      "100\n",
      "100\n",
      "100\n",
      "100\n",
      "100\n",
      "100\n",
      "100\n",
      "100\n",
      "100\n",
      "100\n",
      "100\n",
      "100\n",
      "100\n",
      "100\n"
     ]
    },
    {
     "name": "stderr",
     "output_type": "stream",
     "text": [
      "Computing batch: 534it [00:22, 23.91it/s]"
     ]
    },
    {
     "name": "stdout",
     "output_type": "stream",
     "text": [
      "100\n",
      "100\n",
      "100\n",
      "100\n",
      "100\n",
      "100\n",
      "100\n",
      "100\n",
      "100\n",
      "100\n",
      "100\n",
      "100\n",
      "100\n",
      "100\n",
      "100\n",
      "100\n",
      "100\n",
      "100\n",
      "100\n",
      "100\n"
     ]
    },
    {
     "name": "stderr",
     "output_type": "stream",
     "text": [
      "Computing batch: 537it [00:22, 23.73it/s]"
     ]
    },
    {
     "name": "stdout",
     "output_type": "stream",
     "text": [
      "100\n",
      "100\n",
      "100\n",
      "100\n",
      "100\n",
      "100\n",
      "100\n",
      "100\n",
      "100\n",
      "100\n",
      "100\n",
      "100\n",
      "100\n",
      "100\n",
      "100\n",
      "100\n",
      "100\n",
      "100\n",
      "100\n",
      "100\n"
     ]
    },
    {
     "name": "stderr",
     "output_type": "stream",
     "text": [
      "Computing batch: 543it [00:22, 23.53it/s]"
     ]
    },
    {
     "name": "stdout",
     "output_type": "stream",
     "text": [
      "100\n",
      "100\n",
      "100\n",
      "100\n",
      "100\n",
      "100\n",
      "100\n",
      "100\n",
      "100\n",
      "100\n",
      "100\n",
      "100\n",
      "100\n",
      "100\n",
      "100\n",
      "100\n",
      "100\n",
      "100\n",
      "100\n",
      "100\n"
     ]
    },
    {
     "name": "stderr",
     "output_type": "stream",
     "text": [
      "Computing batch: 549it [00:23, 23.81it/s]"
     ]
    },
    {
     "name": "stdout",
     "output_type": "stream",
     "text": [
      "100\n",
      "100\n",
      "100\n",
      "100\n",
      "100\n",
      "100\n",
      "100\n",
      "100\n",
      "100\n",
      "100\n",
      "100\n",
      "100\n",
      "100\n",
      "100\n",
      "100\n",
      "100\n",
      "100\n",
      "100\n",
      "100\n",
      "100\n"
     ]
    },
    {
     "name": "stderr",
     "output_type": "stream",
     "text": [
      "Computing batch: 552it [00:23, 23.83it/s]"
     ]
    },
    {
     "name": "stdout",
     "output_type": "stream",
     "text": [
      "100\n",
      "100\n",
      "100\n",
      "100\n",
      "100\n",
      "100\n",
      "100\n",
      "100\n",
      "100\n",
      "100\n",
      "100\n",
      "100\n",
      "100\n",
      "100\n",
      "100\n",
      "100\n",
      "100\n",
      "100\n",
      "100\n",
      "100\n"
     ]
    },
    {
     "name": "stderr",
     "output_type": "stream",
     "text": [
      "Computing batch: 558it [00:23, 24.11it/s]"
     ]
    },
    {
     "name": "stdout",
     "output_type": "stream",
     "text": [
      "100\n",
      "100\n",
      "100\n",
      "100\n",
      "100\n",
      "100\n",
      "100\n",
      "100\n",
      "100\n",
      "100\n",
      "100\n",
      "100\n",
      "100\n",
      "100\n",
      "100\n",
      "100\n",
      "100\n",
      "100\n",
      "100\n",
      "100\n"
     ]
    },
    {
     "name": "stderr",
     "output_type": "stream",
     "text": [
      "Computing batch: 564it [00:23, 24.10it/s]"
     ]
    },
    {
     "name": "stdout",
     "output_type": "stream",
     "text": [
      "100\n",
      "100\n",
      "100\n",
      "100\n",
      "100\n",
      "100\n",
      "100\n",
      "100\n",
      "100\n",
      "100\n",
      "100\n",
      "100\n",
      "100\n",
      "100\n",
      "100\n",
      "100\n",
      "100\n",
      "100\n",
      "100\n",
      "100\n"
     ]
    },
    {
     "name": "stderr",
     "output_type": "stream",
     "text": [
      "Computing batch: 567it [00:23, 23.61it/s]"
     ]
    },
    {
     "name": "stdout",
     "output_type": "stream",
     "text": [
      "100\n",
      "100\n",
      "100\n",
      "100\n",
      "100\n",
      "100\n",
      "100\n",
      "100\n",
      "100\n",
      "100\n",
      "100\n",
      "100\n",
      "100\n",
      "100\n",
      "100\n",
      "100\n",
      "100\n",
      "100\n",
      "100\n",
      "100\n"
     ]
    },
    {
     "name": "stderr",
     "output_type": "stream",
     "text": [
      "Computing batch: 573it [00:24, 24.12it/s]"
     ]
    },
    {
     "name": "stdout",
     "output_type": "stream",
     "text": [
      "100\n",
      "100\n",
      "100\n",
      "100\n",
      "100\n",
      "100\n",
      "100\n",
      "100\n",
      "100\n",
      "100\n",
      "100\n",
      "100\n",
      "100\n",
      "100\n",
      "100\n",
      "100\n",
      "100\n",
      "100\n",
      "100\n",
      "100\n"
     ]
    },
    {
     "name": "stderr",
     "output_type": "stream",
     "text": [
      "Computing batch: 579it [00:24, 24.21it/s]"
     ]
    },
    {
     "name": "stdout",
     "output_type": "stream",
     "text": [
      "100\n",
      "100\n",
      "100\n",
      "100\n",
      "100\n",
      "100\n",
      "100\n",
      "100\n",
      "100\n",
      "100\n",
      "100\n",
      "100\n",
      "100\n",
      "100\n",
      "100\n",
      "100\n",
      "100\n",
      "100\n",
      "100\n",
      "100\n"
     ]
    },
    {
     "name": "stderr",
     "output_type": "stream",
     "text": [
      "Computing batch: 582it [00:24, 23.63it/s]"
     ]
    },
    {
     "name": "stdout",
     "output_type": "stream",
     "text": [
      "100\n",
      "100\n",
      "100\n",
      "100\n",
      "100\n",
      "100\n",
      "100\n",
      "100\n",
      "100\n",
      "100\n",
      "100\n",
      "100\n",
      "100\n",
      "100\n",
      "100\n",
      "100\n",
      "100\n",
      "100\n",
      "100\n",
      "100\n"
     ]
    },
    {
     "name": "stderr",
     "output_type": "stream",
     "text": [
      "Computing batch: 588it [00:24, 23.77it/s]"
     ]
    },
    {
     "name": "stdout",
     "output_type": "stream",
     "text": [
      "100\n",
      "100\n",
      "100\n",
      "100\n",
      "100\n",
      "100\n",
      "100\n",
      "100\n",
      "100\n",
      "100\n",
      "100\n",
      "100\n",
      "100\n",
      "100\n",
      "100\n",
      "100\n",
      "100\n",
      "100\n",
      "100\n",
      "100\n"
     ]
    },
    {
     "name": "stderr",
     "output_type": "stream",
     "text": [
      "Computing batch: 594it [00:24, 23.33it/s]"
     ]
    },
    {
     "name": "stdout",
     "output_type": "stream",
     "text": [
      "100\n",
      "100\n",
      "100\n",
      "100\n",
      "100\n",
      "100\n",
      "100\n",
      "100\n",
      "100\n",
      "100\n",
      "100\n",
      "100\n",
      "100\n",
      "100\n",
      "100\n",
      "100\n",
      "100\n",
      "100\n",
      "100\n",
      "100\n"
     ]
    },
    {
     "name": "stderr",
     "output_type": "stream",
     "text": [
      "Computing batch: 597it [00:25, 23.43it/s]"
     ]
    },
    {
     "name": "stdout",
     "output_type": "stream",
     "text": [
      "100\n",
      "100\n",
      "100\n",
      "100\n",
      "100\n",
      "100\n",
      "100\n",
      "100\n",
      "100\n",
      "100\n",
      "100\n",
      "100\n",
      "100\n",
      "100\n",
      "100\n",
      "100\n",
      "100\n",
      "100\n",
      "100\n",
      "100\n"
     ]
    },
    {
     "name": "stderr",
     "output_type": "stream",
     "text": [
      "Computing batch: 602it [00:25, 23.83it/s]"
     ]
    },
    {
     "name": "stdout",
     "output_type": "stream",
     "text": [
      "100\n",
      "100\n",
      "100\n",
      "100\n",
      "100\n",
      "Top-5 Acc. : 63.72%  (1354/2125)\n",
      "Top-1 Acc. : 44.99%  (956/2125)\n"
     ]
    },
    {
     "name": "stderr",
     "output_type": "stream",
     "text": [
      "\n"
     ]
    }
   ],
   "source": [
    "correct_preds_top_5, correct_preds_top_1 = 0,0\n",
    "total_samples = 0\n",
    "with torch.no_grad():\n",
    "    for i, batch in tqdm(enumerate(train_iterator), desc=\"Computing batch\"):\n",
    "        if isinstance(batch['x'], list):\n",
    "            continue\n",
    "        for key in batch.keys():\n",
    "            if torch.is_tensor(batch[key]):\n",
    "                batch[key] = batch[key].to(parameters['device'])\n",
    "        batch = model(batch)\n",
    "        texts = clip.tokenize(batch['clip_text']).to(model.device)\n",
    "        batch['clip_text_embed'] = model.clip_model.encode_text(texts).float()\n",
    "        labels = list(map(lambda x: [action_label_to_idx[cat] for cat in x], batch['all_categories']))\n",
    "        classes_text_emb_norm = classes_text_emb / classes_text_emb.norm(dim=-1, keepdim=True)\n",
    "        motion_features_norm = batch['z'] / batch['z'].norm(dim=-1, keepdim=True)\n",
    "        scores = motion_features_norm @ classes_text_emb_norm.t()\n",
    "        similarity = (100.0 * motion_features_norm @ classes_text_emb_norm.t()).softmax(dim=-1)\n",
    "\n",
    "        total_samples += similarity.shape[0]\n",
    "        for i in range(similarity.shape[0]):\n",
    "            values, indices = similarity[i].topk(5)\n",
    "\n",
    "            # TOP-5 CHECK\n",
    "            if any([gt_cat_idx in indices for gt_cat_idx in labels[i]]):\n",
    "                correct_preds_top_5 += 1\n",
    "\n",
    "            # TOP-1 CHECK\n",
    "            values = values[:1]\n",
    "            indices = indices[:1]\n",
    "            if any([gt_cat_idx in indices for gt_cat_idx in labels[i]]):\n",
    "                correct_preds_top_1 += 1\n",
    "\n",
    "        # print(f\"Current Top-5 Acc. : {100 * correct_preds_top_5 / total_samples:.2f}%\")\n",
    "\n",
    "    print(f\"Top-5 Acc. : {100 * correct_preds_top_5 / total_samples:.2f}%  ({correct_preds_top_5}/{total_samples})\")\n",
    "    print(f\"Top-1 Acc. : {100 * correct_preds_top_1 / total_samples:.2f}%  ({correct_preds_top_1}/{total_samples})\")"
   ]
  },
  {
   "cell_type": "code",
   "execution_count": 22,
   "id": "7c9c26c4-0a63-4721-b09c-484ac24884ea",
   "metadata": {},
   "outputs": [
    {
     "name": "stdout",
     "output_type": "stream",
     "text": [
      "Top-5 Acc. : 63.72%  (1354/2125)\n",
      "Top-1 Acc. : 44.99%  (956/2125)\n"
     ]
    }
   ],
   "source": [
    "print(f\"Top-5 Acc. : {100 * correct_preds_top_5 / total_samples:.2f}%  ({correct_preds_top_5}/{total_samples})\")\n",
    "print(f\"Top-1 Acc. : {100 * correct_preds_top_1 / total_samples:.2f}%  ({correct_preds_top_1}/{total_samples})\")"
   ]
  },
  {
   "cell_type": "code",
   "execution_count": 5,
   "id": "c23688d3-1c34-4bef-87d1-67de4ddaef0f",
   "metadata": {},
   "outputs": [
    {
     "name": "stdout",
     "output_type": "stream",
     "text": [
      "Looking in indexes: https://pypi.org/simple, https://pypi.ngc.nvidia.com\n",
      "Requirement already satisfied: gdown in /coc/pskynet2/sanisetty3/miniconda3/envs/tgm3d/lib/python3.9/site-packages (4.7.1)\n",
      "Requirement already satisfied: filelock in /coc/pskynet2/sanisetty3/miniconda3/envs/tgm3d/lib/python3.9/site-packages (from gdown) (3.12.3)\n",
      "Requirement already satisfied: requests[socks] in /coc/pskynet2/sanisetty3/miniconda3/envs/tgm3d/lib/python3.9/site-packages (from gdown) (2.31.0)\n",
      "Requirement already satisfied: six in /coc/pskynet2/sanisetty3/miniconda3/envs/tgm3d/lib/python3.9/site-packages (from gdown) (1.16.0)\n",
      "Requirement already satisfied: tqdm in /coc/pskynet2/sanisetty3/miniconda3/envs/tgm3d/lib/python3.9/site-packages (from gdown) (4.66.1)\n",
      "Requirement already satisfied: beautifulsoup4 in /coc/pskynet2/sanisetty3/miniconda3/envs/tgm3d/lib/python3.9/site-packages (from gdown) (4.12.2)\n",
      "Requirement already satisfied: soupsieve>1.2 in /coc/pskynet2/sanisetty3/miniconda3/envs/tgm3d/lib/python3.9/site-packages (from beautifulsoup4->gdown) (2.5)\n",
      "Requirement already satisfied: typing-extensions>=4.7.1 in /coc/pskynet2/sanisetty3/miniconda3/envs/tgm3d/lib/python3.9/site-packages (from filelock->gdown) (4.7.1)\n",
      "Requirement already satisfied: charset-normalizer<4,>=2 in /coc/pskynet2/sanisetty3/miniconda3/envs/tgm3d/lib/python3.9/site-packages (from requests[socks]->gdown) (3.2.0)\n",
      "Requirement already satisfied: idna<4,>=2.5 in /coc/pskynet2/sanisetty3/miniconda3/envs/tgm3d/lib/python3.9/site-packages (from requests[socks]->gdown) (3.4)\n",
      "Requirement already satisfied: urllib3<3,>=1.21.1 in /coc/pskynet2/sanisetty3/miniconda3/envs/tgm3d/lib/python3.9/site-packages (from requests[socks]->gdown) (2.0.4)\n",
      "Requirement already satisfied: certifi>=2017.4.17 in /coc/pskynet2/sanisetty3/miniconda3/envs/tgm3d/lib/python3.9/site-packages (from requests[socks]->gdown) (2023.7.22)\n",
      "Requirement already satisfied: PySocks!=1.5.7,>=1.5.6 in /coc/pskynet2/sanisetty3/miniconda3/envs/tgm3d/lib/python3.9/site-packages (from requests[socks]->gdown) (1.7.1)\n",
      "Note: you may need to restart the kernel to use updated packages.\n"
     ]
    }
   ],
   "source": [
    "pip install -U --no-cache-dir gdown --pre"
   ]
  },
  {
   "cell_type": "code",
   "execution_count": 1,
   "id": "0053a346-4119-41b5-903d-003f61f8a257",
   "metadata": {},
   "outputs": [
    {
     "name": "stdout",
     "output_type": "stream",
     "text": [
      "/coc/scratch/sanisetty3/music_motion/TGM3D/music_motion\n"
     ]
    }
   ],
   "source": [
    "cd .."
   ]
  },
  {
   "cell_type": "code",
   "execution_count": 2,
   "id": "0b21133f-d6f2-4ca0-8e47-799dd8cea1e5",
   "metadata": {},
   "outputs": [
    {
     "name": "stdout",
     "output_type": "stream",
     "text": [
      "Access denied with the following error:\n",
      "\n",
      " \tToo many users have viewed or downloaded this file recently. Please\n",
      "\ttry accessing the file again later. If the file you are trying to\n",
      "\taccess is particularly large or is shared with many people, it may\n",
      "\ttake up to 24 hours to be able to view or download the file. If you\n",
      "\tstill can't access a file after 24 hours, contact your domain\n",
      "\tadministrator. \n",
      "\n",
      "You may still be able to access the file from the browser:\n",
      "\n",
      "\t https://drive.google.com/uc?id=1Akf0WgAwuH2fvlWbvNpif4XRqXlpznh9 \n",
      "\n"
     ]
    }
   ],
   "source": [
    "!gdown 1Akf0WgAwuH2fvlWbvNpif4XRqXlpznh9"
   ]
  },
  {
   "cell_type": "code",
   "execution_count": null,
   "id": "6dccbd26-d3d5-46f8-8426-f55f8d91f6c0",
   "metadata": {},
   "outputs": [],
   "source": []
  }
 ],
 "metadata": {
  "kernelspec": {
   "display_name": "Python 3 (ipykernel)",
   "language": "python",
   "name": "python3"
  },
  "language_info": {
   "codemirror_mode": {
    "name": "ipython",
    "version": 3
   },
   "file_extension": ".py",
   "mimetype": "text/x-python",
   "name": "python",
   "nbconvert_exporter": "python",
   "pygments_lexer": "ipython3",
   "version": "3.9.17"
  }
 },
 "nbformat": 4,
 "nbformat_minor": 5
}
