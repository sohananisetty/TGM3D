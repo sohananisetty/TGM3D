{
 "cells": [
  {
   "cell_type": "code",
   "execution_count": 1,
   "id": "1bc1bc2a-0711-4b8d-ad3b-80ae634b5ab3",
   "metadata": {},
   "outputs": [
    {
     "name": "stdout",
     "output_type": "stream",
     "text": [
      "Using device: cuda\n",
      "\n",
      "NVIDIA GeForce RTX 2080 Ti\n",
      "Memory Usage:\n",
      "Allocated: 0.0 GB\n",
      "Cached:    0.0 GB\n"
     ]
    }
   ],
   "source": [
    "# setting device on GPU if available, else CPU`\n",
    "import torch\n",
    "device = torch.device('cuda' if torch.cuda.is_available() else 'cpu')\n",
    "print('Using device:', device)\n",
    "print()\n",
    "\n",
    "#Additional Info when using cuda\n",
    "if device.type == 'cuda':\n",
    "    print(torch.cuda.get_device_name(0))\n",
    "    print('Memory Usage:')\n",
    "    print('Allocated:', round(torch.cuda.memory_allocated(0)/1024**3,1), 'GB')\n",
    "    print('Cached:   ', round(torch.cuda.memory_reserved(0)/1024**3,1), 'GB')\n"
   ]
  },
  {
   "cell_type": "code",
   "execution_count": 2,
   "id": "e0b3bcac-0d66-43d5-87a0-00a46af4adb8",
   "metadata": {},
   "outputs": [],
   "source": [
    "%load_ext autoreload\n",
    "%autoreload 2\n",
    "%matplotlib inline"
   ]
  },
  {
   "cell_type": "code",
   "execution_count": 3,
   "id": "9e5a5540-2afa-425e-9340-b44dad2cc614",
   "metadata": {},
   "outputs": [
    {
     "name": "stderr",
     "output_type": "stream",
     "text": [
      "/srv/share2/sanisetty3/miniconda3/envs/tgm3d/lib/python3.9/site-packages/tqdm/auto.py:21: TqdmWarning: IProgress not found. Please update jupyter and ipywidgets. See https://ipywidgets.readthedocs.io/en/stable/user_install.html\n",
      "  from .autonotebook import tqdm as notebook_tqdm\n"
     ]
    }
   ],
   "source": [
    "import math\n",
    "import os\n",
    "import warnings\n",
    "from dataclasses import dataclass\n",
    "from typing import Optional, Tuple\n",
    "\n",
    "import torch\n",
    "from torch import Tensor, device, dtype, nn\n",
    "import torch.utils.checkpoint\n",
    "from torch import nn\n",
    "from torch.nn import CrossEntropyLoss, MSELoss\n",
    "import torch.nn.functional as F\n",
    "\n",
    "from transformers.activations import ACT2FN\n",
    "from transformers.file_utils import (\n",
    "    ModelOutput,\n",
    "    add_code_sample_docstrings,\n",
    "    add_start_docstrings,\n",
    "    add_start_docstrings_to_model_forward,\n",
    "    replace_return_docstrings,\n",
    ")\n",
    "from transformers.modeling_outputs import (\n",
    "    BaseModelOutputWithPastAndCrossAttentions,\n",
    "    BaseModelOutputWithPoolingAndCrossAttentions,\n",
    "    CausalLMOutputWithCrossAttentions,\n",
    "    MaskedLMOutput,\n",
    "    MultipleChoiceModelOutput,\n",
    "    NextSentencePredictorOutput,\n",
    "    QuestionAnsweringModelOutput,\n",
    "    SequenceClassifierOutput,\n",
    "    TokenClassifierOutput,\n",
    ")\n",
    "from transformers.modeling_utils import (\n",
    "    PreTrainedModel,\n",
    "    apply_chunking_to_forward,\n",
    "    find_pruneable_heads_and_indices,\n",
    "    prune_linear_layer,\n",
    ")\n",
    "from transformers.utils import logging\n",
    "from transformers.models.bert.configuration_bert import BertConfig\n",
    "import transformers"
   ]
  },
  {
   "cell_type": "code",
   "execution_count": 13,
   "id": "5d9e9aac-8824-4130-b5c6-e37c18a1be28",
   "metadata": {},
   "outputs": [],
   "source": [
    "ckpt = torch.load(\"/srv/hays-lab/scratch/sanisetty3/music_motion/TGM3D/checkpoints/conformer_768_1024_affine_varlen/vqvae_motion.pt\", map_location = \"cpu\")"
   ]
  },
  {
   "cell_type": "code",
   "execution_count": 14,
   "id": "e4d8c16c-8d61-403d-816b-3e454ee298ee",
   "metadata": {},
   "outputs": [
    {
     "data": {
      "text/plain": [
       "dict_keys(['model', 'optim', 'steps', 'total_loss'])"
      ]
     },
     "execution_count": 14,
     "metadata": {},
     "output_type": "execute_result"
    }
   ],
   "source": [
    "ckpt.keys()"
   ]
  },
  {
   "cell_type": "code",
   "execution_count": 15,
   "id": "932e1fb3-9995-4f6f-b3cc-ced87ba5e41d",
   "metadata": {},
   "outputs": [
    {
     "data": {
      "text/plain": [
       "tensor([200000.])"
      ]
     },
     "execution_count": 15,
     "metadata": {},
     "output_type": "execute_result"
    }
   ],
   "source": [
    "ckpt[\"steps\"]"
   ]
  },
  {
   "cell_type": "code",
   "execution_count": 16,
   "id": "01cf2be6-a272-4cd8-b1bd-1a7d5af5e9a9",
   "metadata": {},
   "outputs": [
    {
     "data": {
      "text/plain": [
       "tensor(0.3532)"
      ]
     },
     "execution_count": 16,
     "metadata": {},
     "output_type": "execute_result"
    }
   ],
   "source": [
    "ckpt[\"total_loss\"]"
   ]
  },
  {
   "cell_type": "code",
   "execution_count": 4,
   "id": "f74a75c1-f8e8-4133-91a1-c3469b92a62a",
   "metadata": {},
   "outputs": [
    {
     "name": "stderr",
     "output_type": "stream",
     "text": [
      "Some weights of the model checkpoint at bert-base-uncased were not used when initializing BertForMaskedLM: ['cls.seq_relationship.weight', 'bert.pooler.dense.bias', 'bert.pooler.dense.weight', 'cls.seq_relationship.bias']\n",
      "- This IS expected if you are initializing BertForMaskedLM from the checkpoint of a model trained on another task or with another architecture (e.g. initializing a BertForSequenceClassification model from a BertForPreTraining model).\n",
      "- This IS NOT expected if you are initializing BertForMaskedLM from the checkpoint of a model that you expect to be exactly identical (initializing a BertForSequenceClassification model from a BertForSequenceClassification model).\n"
     ]
    }
   ],
   "source": [
    "from transformers import AutoTokenizer, BertForMaskedLM\n",
    "\n",
    "import torch\n",
    "\n",
    "tokenizer = AutoTokenizer.from_pretrained(\"bert-base-uncased\")\n",
    "\n",
    "model = BertForMaskedLM.from_pretrained(\"bert-base-uncased\")"
   ]
  },
  {
   "cell_type": "code",
   "execution_count": 105,
   "id": "7d645672-29b0-4f2e-9e76-33cc5c4b6f46",
   "metadata": {},
   "outputs": [],
   "source": [
    "config = BertConfig.from_pretrained(\"bert-base-cased\")"
   ]
  },
  {
   "cell_type": "code",
   "execution_count": 106,
   "id": "214788b2-5d00-4436-a376-4be701cbfafd",
   "metadata": {},
   "outputs": [
    {
     "data": {
      "text/plain": [
       "BertConfig {\n",
       "  \"architectures\": [\n",
       "    \"BertForMaskedLM\"\n",
       "  ],\n",
       "  \"attention_probs_dropout_prob\": 0.1,\n",
       "  \"classifier_dropout\": null,\n",
       "  \"gradient_checkpointing\": false,\n",
       "  \"hidden_act\": \"gelu\",\n",
       "  \"hidden_dropout_prob\": 0.1,\n",
       "  \"hidden_size\": 768,\n",
       "  \"initializer_range\": 0.02,\n",
       "  \"intermediate_size\": 3072,\n",
       "  \"layer_norm_eps\": 1e-12,\n",
       "  \"max_position_embeddings\": 512,\n",
       "  \"model_type\": \"bert\",\n",
       "  \"num_attention_heads\": 12,\n",
       "  \"num_hidden_layers\": 12,\n",
       "  \"pad_token_id\": 0,\n",
       "  \"position_embedding_type\": \"absolute\",\n",
       "  \"transformers_version\": \"4.33.1\",\n",
       "  \"type_vocab_size\": 2,\n",
       "  \"use_cache\": true,\n",
       "  \"vocab_size\": 28996\n",
       "}"
      ]
     },
     "execution_count": 106,
     "metadata": {},
     "output_type": "execute_result"
    }
   ],
   "source": [
    "config"
   ]
  },
  {
   "cell_type": "code",
   "execution_count": 122,
   "id": "5ace3ef8-cdb9-4764-80bc-227f71a51814",
   "metadata": {},
   "outputs": [
    {
     "data": {
      "text/plain": [
       "103"
      ]
     },
     "execution_count": 122,
     "metadata": {},
     "output_type": "execute_result"
    }
   ],
   "source": [
    "tokenizer.mask_token_id"
   ]
  },
  {
   "cell_type": "code",
   "execution_count": 134,
   "id": "74d0a83a-6bb0-46f9-94d1-8ce13cb8541d",
   "metadata": {},
   "outputs": [],
   "source": [
    "inputs = tokenizer([\"The capital of France is [MASK].\" , \"The capital [MASK] is a monster door in atlanta \"], return_tensors=\"pt\" , padding = True)"
   ]
  },
  {
   "cell_type": "code",
   "execution_count": 135,
   "id": "20452f22-a6fa-486b-886e-39387a877a9a",
   "metadata": {},
   "outputs": [
    {
     "data": {
      "text/plain": [
       "dict_keys(['input_ids', 'token_type_ids', 'attention_mask'])"
      ]
     },
     "execution_count": 135,
     "metadata": {},
     "output_type": "execute_result"
    }
   ],
   "source": [
    "inputs.keys()"
   ]
  },
  {
   "cell_type": "code",
   "execution_count": 121,
   "id": "30862f19-b736-46e1-afec-3b263344325c",
   "metadata": {
    "scrolled": true
   },
   "outputs": [
    {
     "data": {
      "text/plain": [
       "tensor([[ 101, 1996, 3007, 1997, 2605, 2003,  103, 1012,  102,    0,    0],\n",
       "        [ 101, 1996, 3007,  103, 2003, 1037, 6071, 2341, 1999, 5865,  102]])"
      ]
     },
     "execution_count": 121,
     "metadata": {},
     "output_type": "execute_result"
    }
   ],
   "source": [
    "inputs[\"input_ids\"]"
   ]
  },
  {
   "cell_type": "code",
   "execution_count": 43,
   "id": "10110e5e-7472-4344-877d-4492c53e9989",
   "metadata": {},
   "outputs": [
    {
     "data": {
      "text/plain": [
       "tensor([[1, 1, 1, 1, 1, 1, 1, 1, 1]])"
      ]
     },
     "execution_count": 43,
     "metadata": {},
     "output_type": "execute_result"
    }
   ],
   "source": [
    "inputs[\"attention_mask\"]"
   ]
  },
  {
   "cell_type": "code",
   "execution_count": 37,
   "id": "02cca9be-42ea-4b85-a297-d7b46af5af46",
   "metadata": {},
   "outputs": [],
   "source": [
    "text_proj = nn.Linear(model.config.hidden_size, 768) "
   ]
  },
  {
   "cell_type": "code",
   "execution_count": 34,
   "id": "9b77ae1e-3706-466c-8c5d-1c6379c4ede7",
   "metadata": {},
   "outputs": [],
   "source": [
    "text_output = model.bert(inputs[\"input_ids\"], attention_mask = inputs[\"attention_mask\"],                      \n",
    "                                return_dict = True)            \n",
    "text_embeds = text_output.last_hidden_state"
   ]
  },
  {
   "cell_type": "code",
   "execution_count": 38,
   "id": "6d91656c-de4e-42b4-95c3-7650a69a56d4",
   "metadata": {},
   "outputs": [],
   "source": [
    "text_feat = F.normalize(text_proj(text_embeds[:,0,:]),dim=-1)       "
   ]
  },
  {
   "cell_type": "code",
   "execution_count": 39,
   "id": "690c4b8f-5ba0-411d-a1d2-3dc3ff5f2140",
   "metadata": {},
   "outputs": [
    {
     "data": {
      "text/plain": [
       "torch.Size([1, 768])"
      ]
     },
     "execution_count": 39,
     "metadata": {},
     "output_type": "execute_result"
    }
   ],
   "source": [
    "text_feat.shape"
   ]
  },
  {
   "cell_type": "code",
   "execution_count": 40,
   "id": "6784a1b4-cf15-45e7-b15a-d88a9d6fb1d6",
   "metadata": {},
   "outputs": [],
   "source": [
    "cls_token = (torch.zeros(1, 1, 768))"
   ]
  },
  {
   "cell_type": "code",
   "execution_count": 41,
   "id": "327b8cfe-d4eb-4a69-9ec7-88dd9b8bb6d4",
   "metadata": {},
   "outputs": [],
   "source": [
    "cls_tokens = cls_token.expand(4, -1, -1)"
   ]
  },
  {
   "cell_type": "code",
   "execution_count": 107,
   "id": "73d129a2-eb1f-4948-9020-ef19bce518fa",
   "metadata": {},
   "outputs": [],
   "source": [
    "from torch.nn import CrossEntropyLoss"
   ]
  },
  {
   "cell_type": "code",
   "execution_count": null,
   "id": "9ebbc244-02ab-4db2-8f6a-3ae2ce4749cb",
   "metadata": {},
   "outputs": [],
   "source": []
  },
  {
   "cell_type": "code",
   "execution_count": null,
   "id": "331fb368-0bcd-4879-86ec-2b3f99690f25",
   "metadata": {},
   "outputs": [],
   "source": []
  },
  {
   "cell_type": "code",
   "execution_count": 51,
   "id": "127fe538-95f0-4bd7-a511-f4e5a594a4d5",
   "metadata": {},
   "outputs": [],
   "source": [
    "from transformers import T5ForSequenceClassification, T5EncoderModel, T5Tokenizer\n"
   ]
  },
  {
   "cell_type": "code",
   "execution_count": 49,
   "id": "d55790d7-a8a3-4aee-98d4-f670209090f1",
   "metadata": {},
   "outputs": [],
   "source": [
    "t5 = T5EncoderModel.from_pretrained(\"google/t5-v1_1-base\")"
   ]
  },
  {
   "cell_type": "code",
   "execution_count": 52,
   "id": "a372faa9-bb39-48b4-af99-0cd210eb62a4",
   "metadata": {},
   "outputs": [
    {
     "name": "stderr",
     "output_type": "stream",
     "text": [
      "You are using the default legacy behaviour of the <class 'transformers.models.t5.tokenization_t5.T5Tokenizer'>. If you see this, DO NOT PANIC! This is expected, and simply means that the `legacy` (previous) behavior will be used so nothing changes for you. If you want to use the new behaviour, set `legacy=False`. This should only be set if you understand what it means, and thouroughly read the reason why this was added as explained in https://github.com/huggingface/transformers/pull/24565\n"
     ]
    }
   ],
   "source": [
    "t5_tokenizer = T5Tokenizer.from_pretrained(\"google/t5-v1_1-base\")"
   ]
  },
  {
   "cell_type": "code",
   "execution_count": null,
   "id": "17eee1b8-4ef8-49e1-8292-0e0e53364aa5",
   "metadata": {},
   "outputs": [],
   "source": []
  },
  {
   "cell_type": "code",
   "execution_count": 78,
   "id": "a9e5d5fb-786b-4e12-8cff-50c4d655dd29",
   "metadata": {},
   "outputs": [],
   "source": []
  },
  {
   "cell_type": "markdown",
   "id": "27b733ff-c7c1-4dac-9f80-57f755acc3c7",
   "metadata": {},
   "source": [
    "## ALBEF Motion"
   ]
  },
  {
   "cell_type": "code",
   "execution_count": 72,
   "id": "9b12c626-e359-440f-b11e-e6add8a837e3",
   "metadata": {},
   "outputs": [],
   "source": [
    "from transformers import AutoTokenizer, BertForMaskedLM\n",
    "from transformers.models.bert.configuration_bert import BertConfig\n",
    "import torch\n",
    "from core.datasets.motion_bert_dataset import BERTPretrainMotionDataset, MotionCollator\n",
    "from core.datasets.dataset_loading_utils import load_dataset_bert\n",
    "from core.datasets.dataset_loading_utils import load_dataset_bert\n",
    "from core.datasets.motion_bert_dataset import BERTMotionDataset, DATALoader, TokenizerParams, mask_for_mlm\n",
    "from core.models.BERT import BERT, BERTParams\n",
    "from core.optimizer import get_optimizer\n",
    "from torch.utils.data import DataLoader\n",
    "from configs.config import get_cfg_defaults\n",
    "import transformers"
   ]
  },
  {
   "cell_type": "code",
   "execution_count": 73,
   "id": "edcc2138-e61c-4ee5-aa12-12e4a8cfaa84",
   "metadata": {},
   "outputs": [
    {
     "name": "stdout",
     "output_type": "stream",
     "text": [
      "loading config from: /srv/hays-lab/scratch/sanisetty3/music_motion/TGM3D/checkpoints/bert_12_768/bert_12_768.yaml\n"
     ]
    }
   ],
   "source": [
    "path = \"/srv/hays-lab/scratch/sanisetty3/music_motion/TGM3D/checkpoints/bert_12_768/bert_12_768.yaml\"\n",
    "cfg = get_cfg_defaults()\n",
    "print(\"loading config from:\", path)\n",
    "cfg.merge_from_file(path)\n",
    "cfg.freeze()"
   ]
  },
  {
   "cell_type": "code",
   "execution_count": 74,
   "id": "10b73c4a-e49b-4415-a627-04f4d0b40d26",
   "metadata": {},
   "outputs": [
    {
     "name": "stderr",
     "output_type": "stream",
     "text": [
      "100%|███████████████████████████████████████████████████████████████████████████| 4384/4384 [00:03<00:00, 1210.30it/s]"
     ]
    },
    {
     "name": "stdout",
     "output_type": "stream",
     "text": [
      "Total number of motions 4198\n"
     ]
    },
    {
     "name": "stderr",
     "output_type": "stream",
     "text": [
      "\n"
     ]
    }
   ],
   "source": [
    "train_ds, sampler_train, weights_train = load_dataset_bert(\n",
    "                dataset_names=[\"t2m\"],\n",
    "                args=cfg,\n",
    "                split=\"test\",\n",
    "                weight_scale=[1],\n",
    "            )"
   ]
  },
  {
   "cell_type": "code",
   "execution_count": null,
   "id": "322b7b2e-b295-44bf-859e-8063e5ae14fc",
   "metadata": {},
   "outputs": [],
   "source": []
  },
  {
   "cell_type": "code",
   "execution_count": null,
   "id": "ac4006c4-9912-40ae-a113-2b18d10dabf9",
   "metadata": {},
   "outputs": [],
   "source": [
    "from transformers import AutoTokenizer, BertForMaskedLM, BertPreTrainedModel\n"
   ]
  },
  {
   "cell_type": "code",
   "execution_count": 75,
   "id": "4df6201d-b234-40ff-a9f1-b6121eada8cd",
   "metadata": {},
   "outputs": [],
   "source": [
    "dl = DATALoader(\n",
    "            train_ds,\n",
    "            batch_size=4,\n",
    "            shuffle=False,\n",
    "        )"
   ]
  },
  {
   "cell_type": "code",
   "execution_count": 76,
   "id": "d052e9ca-6545-4944-90a8-0db81df4e899",
   "metadata": {},
   "outputs": [],
   "source": [
    "for batch in dl:\n",
    "    break"
   ]
  },
  {
   "cell_type": "code",
   "execution_count": null,
   "id": "9c69fe85-13c2-448b-add4-8e7db6d865fc",
   "metadata": {},
   "outputs": [],
   "source": []
  },
  {
   "cell_type": "code",
   "execution_count": 79,
   "id": "c52542db-b663-4fbf-88c1-c96c8a8031cb",
   "metadata": {},
   "outputs": [],
   "source": [
    "bcfg =BertConfig.from_pretrained(\"./checkpoints/bert_12_768/bert_config.json\")\n",
    "model = BertForMaskedLM(bcfg)"
   ]
  },
  {
   "cell_type": "code",
   "execution_count": 88,
   "id": "718b2ba9-004e-4a13-947f-da765fd5ac51",
   "metadata": {},
   "outputs": [],
   "source": [
    "input_ids = batch[\"input_ids\"]\n",
    "input_ids = input_ids.clone()\n",
    "labels = input_ids.clone()\n",
    "\n",
    "probability_matrix = torch.full(labels.shape, 0.15)                    \n",
    "input_ids, labels = mask_for_mlm(input_ids, targets=labels,probability_matrix = probability_matrix) "
   ]
  },
  {
   "cell_type": "code",
   "execution_count": null,
   "id": "ca04070f-318e-47bd-831b-19d3254339a7",
   "metadata": {},
   "outputs": [],
   "source": []
  },
  {
   "cell_type": "code",
   "execution_count": 83,
   "id": "b664afde-2021-4eb6-a8fb-e2d81279329f",
   "metadata": {},
   "outputs": [
    {
     "data": {
      "text/plain": [
       "torch.Size([4, 51])"
      ]
     },
     "execution_count": 83,
     "metadata": {},
     "output_type": "execute_result"
    }
   ],
   "source": [
    "batch[\"attention_mask\"].shape"
   ]
  },
  {
   "cell_type": "code",
   "execution_count": 98,
   "id": "4899a816-5c22-498e-8e9e-89bdbd6c23d9",
   "metadata": {},
   "outputs": [
    {
     "data": {
      "text/plain": [
       "Embedding(1027, 768, padding_idx=1025)"
      ]
     },
     "execution_count": 98,
     "metadata": {},
     "output_type": "execute_result"
    }
   ],
   "source": [
    "model.bert.embeddings.word_embeddings"
   ]
  },
  {
   "cell_type": "code",
   "execution_count": 92,
   "id": "27cec8f8-53ba-4de4-9313-ddd15eac127f",
   "metadata": {},
   "outputs": [],
   "source": [
    "mlm_output = model.bert(input_ids = input_ids, \n",
    "   attention_mask = batch[\"attention_mask\"],\n",
    "   # encoder_hidden_states = image_embeds,\n",
    "   # encoder_attention_mask = image_atts,      \n",
    "   return_dict = True,\n",
    "   # labels = labels,   \n",
    "   # soft_labels = F.softmax(logits_m,dim=-1),\n",
    "   # alpha = alpha\n",
    "  )                           "
   ]
  },
  {
   "cell_type": "code",
   "execution_count": 96,
   "id": "e136a390-96bb-491d-ae1d-29121b8723a2",
   "metadata": {},
   "outputs": [
    {
     "data": {
      "text/plain": [
       "torch.Size([4, 51, 768])"
      ]
     },
     "execution_count": 96,
     "metadata": {},
     "output_type": "execute_result"
    }
   ],
   "source": [
    "mlm_output[\"last_hidden_state\"]"
   ]
  },
  {
   "cell_type": "code",
   "execution_count": null,
   "id": "99d8b671-998f-4239-80fb-0b7451792471",
   "metadata": {},
   "outputs": [],
   "source": []
  },
  {
   "cell_type": "code",
   "execution_count": null,
   "id": "c2f3ef26-9df8-4b0d-b68c-9d6b766d6ddf",
   "metadata": {},
   "outputs": [],
   "source": [
    "pwd"
   ]
  },
  {
   "cell_type": "code",
   "execution_count": null,
   "id": "9417b4af-d962-4be7-a7de-dafc9b3e32c8",
   "metadata": {},
   "outputs": [],
   "source": []
  }
 ],
 "metadata": {
  "kernelspec": {
   "display_name": "Python 3 (ipykernel)",
   "language": "python",
   "name": "python3"
  },
  "language_info": {
   "codemirror_mode": {
    "name": "ipython",
    "version": 3
   },
   "file_extension": ".py",
   "mimetype": "text/x-python",
   "name": "python",
   "nbconvert_exporter": "python",
   "pygments_lexer": "ipython3",
   "version": "3.9.17"
  }
 },
 "nbformat": 4,
 "nbformat_minor": 5
}
