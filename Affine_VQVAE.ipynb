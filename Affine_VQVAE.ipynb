{
 "cells": [
  {
   "cell_type": "code",
   "execution_count": 1,
   "id": "b34652c1",
   "metadata": {},
   "outputs": [
    {
     "name": "stdout",
     "output_type": "stream",
     "text": [
      "Using device: cuda\n",
      "\n",
      "NVIDIA GeForce RTX 2080 Ti\n",
      "Memory Usage:\n",
      "Allocated: 0.0 GB\n",
      "Cached:    0.0 GB\n"
     ]
    }
   ],
   "source": [
    "# setting device on GPU if available, else CPU\n",
    "import torch\n",
    "device = torch.device('cuda' if torch.cuda.is_available() else 'cpu')\n",
    "print('Using device:', device)\n",
    "print()\n",
    "\n",
    "#Additional Info when using cuda\n",
    "if device.type == 'cuda':\n",
    "    print(torch.cuda.get_device_name(0))\n",
    "    print('Memory Usage:')\n",
    "    print('Allocated:', round(torch.cuda.memory_allocated(0)/1024**3,1), 'GB')\n",
    "    print('Cached:   ', round(torch.cuda.memory_reserved(0)/1024**3,1), 'GB')\n"
   ]
  },
  {
   "cell_type": "code",
   "execution_count": 2,
   "id": "10cb40fa",
   "metadata": {},
   "outputs": [
    {
     "name": "stdout",
     "output_type": "stream",
     "text": [
      "/bin/bash: nvcc: command not found\r\n"
     ]
    }
   ],
   "source": [
    "!nvcc --version"
   ]
  },
  {
   "cell_type": "code",
   "execution_count": 3,
   "id": "c1738c68",
   "metadata": {},
   "outputs": [
    {
     "data": {
      "text/plain": [
       "'/coc/scratch/sanisetty3/music_motion/TGM3D'"
      ]
     },
     "execution_count": 3,
     "metadata": {},
     "output_type": "execute_result"
    }
   ],
   "source": [
    "pwd"
   ]
  },
  {
   "cell_type": "code",
   "execution_count": 4,
   "id": "4b835508",
   "metadata": {},
   "outputs": [],
   "source": [
    "%load_ext autoreload\n",
    "%autoreload 2\n",
    "%matplotlib inline"
   ]
  },
  {
   "cell_type": "code",
   "execution_count": null,
   "id": "085c9379",
   "metadata": {},
   "outputs": [],
   "source": []
  },
  {
   "cell_type": "code",
   "execution_count": 5,
   "id": "13870fe6",
   "metadata": {},
   "outputs": [],
   "source": [
    "import wandb\n",
    "\n",
    "import torch\n",
    "import torch.nn.functional as F\n",
    "import torch.nn as nn\n",
    "from torch.utils.data import DataLoader\n",
    "\n",
    "from torch.utils import data\n",
    "\n",
    "\n",
    "import copy\n",
    "import os\n",
    "import random\n",
    "import cv2\n",
    "import numpy as np\n",
    "from PIL import Image\n",
    "import pandas as pd\n",
    "import matplotlib.pyplot as plt\n",
    "from glob import glob\n",
    "import functools\n",
    "from tqdm import tqdm\n",
    "from datetime import datetime\n",
    "import numpy as np\n",
    "# from core.datasets.vqa_motion_dataset import VQMotionDataset,DATALoader,VQVarLenMotionDataset,MotionCollator\n",
    "from einops import rearrange, reduce, pack, unpack\n",
    "import sys"
   ]
  },
  {
   "cell_type": "code",
   "execution_count": null,
   "id": "96fcc03d",
   "metadata": {},
   "outputs": [],
   "source": []
  },
  {
   "cell_type": "code",
   "execution_count": 6,
   "id": "39b795d9",
   "metadata": {},
   "outputs": [],
   "source": [
    "from typing import Optional, List, Dict, Tuple"
   ]
  },
  {
   "cell_type": "code",
   "execution_count": null,
   "id": "e73bbdf8",
   "metadata": {},
   "outputs": [],
   "source": []
  },
  {
   "cell_type": "code",
   "execution_count": null,
   "id": "ccc282ec",
   "metadata": {},
   "outputs": [],
   "source": []
  },
  {
   "cell_type": "code",
   "execution_count": null,
   "id": "9187b7f2",
   "metadata": {
    "scrolled": true
   },
   "outputs": [],
   "source": []
  },
  {
   "cell_type": "code",
   "execution_count": 7,
   "id": "9e4d41a7",
   "metadata": {},
   "outputs": [],
   "source": [
    "from configs.config import cfg, get_cfg_defaults\n",
    "from core.datasets.dataset_loading_utils import load_dataset\n",
    "from core.datasets.vq_dataset import DATALoader\n",
    "from utils.vis_utils import plot_3d_global\n"
   ]
  },
  {
   "cell_type": "code",
   "execution_count": 8,
   "id": "61fb6cd6",
   "metadata": {},
   "outputs": [],
   "source": [
    "cfg = get_cfg_defaults()"
   ]
  },
  {
   "cell_type": "code",
   "execution_count": 9,
   "id": "c81d9478",
   "metadata": {},
   "outputs": [],
   "source": [
    "cfg.merge_from_file(\"/srv/hays-lab/scratch/sanisetty3/music_motion/TGM3D/checkpoints/convq_256_1024_affine/convq_256_1024_affine.yaml\")"
   ]
  },
  {
   "cell_type": "code",
   "execution_count": null,
   "id": "9f6894ff",
   "metadata": {},
   "outputs": [],
   "source": []
  },
  {
   "cell_type": "markdown",
   "id": "8cedbb8d",
   "metadata": {},
   "source": [
    "## Dataloader"
   ]
  },
  {
   "cell_type": "code",
   "execution_count": 10,
   "id": "324cba91",
   "metadata": {},
   "outputs": [
    {
     "name": "stderr",
     "output_type": "stream",
     "text": [
      "100%|██████████████████████████████████████████████████████████████████████████| 7/7 [00:00<00:00, 1085.96it/s]\n"
     ]
    },
    {
     "name": "stdout",
     "output_type": "stream",
     "text": [
      "Total number of motions 6\n"
     ]
    },
    {
     "name": "stderr",
     "output_type": "stream",
     "text": [
      "100%|███████████████████████████████████████████████████████████████████████████| 8/8 [00:00<00:00, 505.89it/s]\n"
     ]
    },
    {
     "name": "stdout",
     "output_type": "stream",
     "text": [
      "Total number of motions 8\n"
     ]
    },
    {
     "name": "stderr",
     "output_type": "stream",
     "text": [
      "100%|███████████████████████████████████████████████████████████████████████████| 7/7 [00:00<00:00, 268.75it/s]"
     ]
    },
    {
     "name": "stdout",
     "output_type": "stream",
     "text": [
      "Total number of motions 7\n"
     ]
    },
    {
     "name": "stderr",
     "output_type": "stream",
     "text": [
      "\n"
     ]
    }
   ],
   "source": [
    "render_ds, sampler_val, weights_val = load_dataset(\n",
    "                [\"t2m\", \"aist\", \"cm\"],cfg, \"render\"\n",
    "            )"
   ]
  },
  {
   "cell_type": "code",
   "execution_count": 11,
   "id": "ad21dc9e",
   "metadata": {},
   "outputs": [],
   "source": [
    "render_dl = DATALoader(\n",
    "    \n",
    "            render_ds, batch_size=1, shuffle=False\n",
    "        )"
   ]
  },
  {
   "cell_type": "code",
   "execution_count": 12,
   "id": "ab489b4d",
   "metadata": {},
   "outputs": [
    {
     "name": "stdout",
     "output_type": "stream",
     "text": [
      "['00_000048']\n"
     ]
    }
   ],
   "source": [
    "batch = (next(iter(render_dl)))\n",
    "    \n",
    "print(batch[\"names\"])"
   ]
  },
  {
   "cell_type": "code",
   "execution_count": 13,
   "id": "8abff0c2",
   "metadata": {},
   "outputs": [
    {
     "data": {
      "text/plain": [
       "torch.Size([1, 80, 271])"
      ]
     },
     "execution_count": 13,
     "metadata": {},
     "output_type": "execute_result"
    }
   ],
   "source": [
    "batch[\"motion\"].shape"
   ]
  },
  {
   "cell_type": "code",
   "execution_count": 14,
   "id": "f5660bcf",
   "metadata": {},
   "outputs": [],
   "source": [
    "from utils.vis_utils.render_final import Renderer"
   ]
  },
  {
   "cell_type": "code",
   "execution_count": null,
   "id": "322586f9",
   "metadata": {},
   "outputs": [],
   "source": []
  },
  {
   "cell_type": "code",
   "execution_count": 15,
   "id": "0b2fe913",
   "metadata": {},
   "outputs": [],
   "source": [
    "renderer = Renderer()"
   ]
  },
  {
   "cell_type": "code",
   "execution_count": null,
   "id": "75f2cff0",
   "metadata": {},
   "outputs": [],
   "source": []
  },
  {
   "cell_type": "code",
   "execution_count": null,
   "id": "03128665",
   "metadata": {},
   "outputs": [],
   "source": []
  },
  {
   "cell_type": "code",
   "execution_count": null,
   "id": "dac1fa25",
   "metadata": {},
   "outputs": [],
   "source": []
  },
  {
   "cell_type": "code",
   "execution_count": 16,
   "id": "aca8e7de",
   "metadata": {},
   "outputs": [],
   "source": [
    "renderer.render(render_ds.datasets[0]\n",
    "                    .inv_transform(batch[\"motion\"])\n",
    "                    .squeeze()\n",
    "                    .float(), \"test\" , 0 , \"/srv/hays-lab/scratch/sanisetty3/music_motion/TGM3D/renders\")"
   ]
  },
  {
   "cell_type": "code",
   "execution_count": null,
   "id": "911ed848",
   "metadata": {},
   "outputs": [],
   "source": []
  },
  {
   "cell_type": "code",
   "execution_count": null,
   "id": "1b79c70d",
   "metadata": {},
   "outputs": [],
   "source": []
  },
  {
   "cell_type": "markdown",
   "id": "5f77375c",
   "metadata": {},
   "source": [
    "## HML save txt"
   ]
  },
  {
   "cell_type": "code",
   "execution_count": 167,
   "id": "32bfb23d",
   "metadata": {},
   "outputs": [],
   "source": []
  },
  {
   "cell_type": "code",
   "execution_count": null,
   "id": "874b1d54",
   "metadata": {},
   "outputs": [],
   "source": []
  },
  {
   "cell_type": "code",
   "execution_count": 168,
   "id": "57b06d10",
   "metadata": {},
   "outputs": [],
   "source": [
    "for i in ind.flatten().tolist():\n",
    "    new_dict[f\"{i}\"] +=1"
   ]
  },
  {
   "cell_type": "code",
   "execution_count": 169,
   "id": "00082ebf",
   "metadata": {},
   "outputs": [
    {
     "data": {
      "text/plain": [
       "{'0': 0,\n",
       " '1': 0,\n",
       " '2': 0,\n",
       " '3': 0,\n",
       " '4': 2,\n",
       " '5': 0,\n",
       " '6': 0,\n",
       " '7': 0,\n",
       " '8': 0,\n",
       " '9': 0,\n",
       " '10': 0,\n",
       " '11': 0,\n",
       " '12': 0,\n",
       " '13': 0,\n",
       " '14': 0,\n",
       " '15': 0,\n",
       " '16': 0,\n",
       " '17': 0,\n",
       " '18': 0,\n",
       " '19': 0,\n",
       " '20': 1,\n",
       " '21': 0,\n",
       " '22': 0,\n",
       " '23': 1,\n",
       " '24': 0,\n",
       " '25': 0,\n",
       " '26': 0,\n",
       " '27': 0,\n",
       " '28': 0,\n",
       " '29': 0,\n",
       " '30': 0,\n",
       " '31': 0,\n",
       " '32': 0,\n",
       " '33': 0,\n",
       " '34': 0,\n",
       " '35': 0,\n",
       " '36': 0,\n",
       " '37': 0,\n",
       " '38': 0,\n",
       " '39': 0,\n",
       " '40': 0,\n",
       " '41': 0,\n",
       " '42': 0,\n",
       " '43': 2,\n",
       " '44': 0,\n",
       " '45': 0,\n",
       " '46': 0,\n",
       " '47': 0,\n",
       " '48': 0,\n",
       " '49': 0,\n",
       " '50': 0,\n",
       " '51': 0,\n",
       " '52': 2,\n",
       " '53': 0,\n",
       " '54': 0,\n",
       " '55': 0,\n",
       " '56': 0,\n",
       " '57': 0,\n",
       " '58': 0,\n",
       " '59': 0,\n",
       " '60': 0,\n",
       " '61': 0,\n",
       " '62': 0,\n",
       " '63': 0,\n",
       " '64': 0,\n",
       " '65': 0,\n",
       " '66': 0,\n",
       " '67': 0,\n",
       " '68': 1,\n",
       " '69': 0,\n",
       " '70': 0,\n",
       " '71': 0,\n",
       " '72': 0,\n",
       " '73': 0,\n",
       " '74': 0,\n",
       " '75': 0,\n",
       " '76': 0,\n",
       " '77': 0,\n",
       " '78': 0,\n",
       " '79': 0,\n",
       " '80': 0,\n",
       " '81': 0,\n",
       " '82': 0,\n",
       " '83': 0,\n",
       " '84': 0,\n",
       " '85': 0,\n",
       " '86': 0,\n",
       " '87': 0,\n",
       " '88': 0,\n",
       " '89': 0,\n",
       " '90': 0,\n",
       " '91': 0,\n",
       " '92': 0,\n",
       " '93': 0,\n",
       " '94': 0,\n",
       " '95': 0,\n",
       " '96': 0,\n",
       " '97': 1,\n",
       " '98': 0,\n",
       " '99': 0,\n",
       " '100': 0,\n",
       " '101': 0,\n",
       " '102': 0,\n",
       " '103': 0,\n",
       " '104': 0,\n",
       " '105': 0,\n",
       " '106': 0,\n",
       " '107': 0,\n",
       " '108': 0,\n",
       " '109': 1,\n",
       " '110': 0,\n",
       " '111': 0,\n",
       " '112': 0,\n",
       " '113': 1,\n",
       " '114': 0,\n",
       " '115': 0,\n",
       " '116': 0,\n",
       " '117': 0,\n",
       " '118': 0,\n",
       " '119': 0,\n",
       " '120': 0,\n",
       " '121': 0,\n",
       " '122': 0,\n",
       " '123': 0,\n",
       " '124': 0,\n",
       " '125': 0,\n",
       " '126': 0,\n",
       " '127': 0,\n",
       " '128': 0,\n",
       " '129': 0,\n",
       " '130': 0,\n",
       " '131': 0,\n",
       " '132': 0,\n",
       " '133': 0,\n",
       " '134': 1,\n",
       " '135': 0,\n",
       " '136': 0,\n",
       " '137': 0,\n",
       " '138': 1,\n",
       " '139': 0,\n",
       " '140': 1,\n",
       " '141': 0,\n",
       " '142': 0,\n",
       " '143': 0,\n",
       " '144': 0,\n",
       " '145': 0,\n",
       " '146': 0,\n",
       " '147': 0,\n",
       " '148': 1,\n",
       " '149': 0,\n",
       " '150': 0,\n",
       " '151': 0,\n",
       " '152': 0,\n",
       " '153': 0,\n",
       " '154': 0,\n",
       " '155': 1,\n",
       " '156': 0,\n",
       " '157': 0,\n",
       " '158': 0,\n",
       " '159': 0,\n",
       " '160': 0,\n",
       " '161': 0,\n",
       " '162': 0,\n",
       " '163': 0,\n",
       " '164': 0,\n",
       " '165': 0,\n",
       " '166': 0,\n",
       " '167': 0,\n",
       " '168': 0,\n",
       " '169': 0,\n",
       " '170': 0,\n",
       " '171': 0,\n",
       " '172': 0,\n",
       " '173': 0,\n",
       " '174': 0,\n",
       " '175': 1,\n",
       " '176': 0,\n",
       " '177': 0,\n",
       " '178': 0,\n",
       " '179': 0,\n",
       " '180': 0,\n",
       " '181': 0,\n",
       " '182': 0,\n",
       " '183': 0,\n",
       " '184': 0,\n",
       " '185': 0,\n",
       " '186': 0,\n",
       " '187': 1,\n",
       " '188': 0,\n",
       " '189': 0,\n",
       " '190': 0,\n",
       " '191': 0,\n",
       " '192': 0,\n",
       " '193': 0,\n",
       " '194': 0,\n",
       " '195': 0,\n",
       " '196': 0,\n",
       " '197': 0,\n",
       " '198': 0,\n",
       " '199': 0,\n",
       " '200': 0,\n",
       " '201': 0,\n",
       " '202': 0,\n",
       " '203': 0,\n",
       " '204': 0,\n",
       " '205': 0,\n",
       " '206': 0,\n",
       " '207': 0,\n",
       " '208': 0,\n",
       " '209': 0,\n",
       " '210': 0,\n",
       " '211': 0,\n",
       " '212': 0,\n",
       " '213': 0,\n",
       " '214': 0,\n",
       " '215': 0,\n",
       " '216': 0,\n",
       " '217': 0,\n",
       " '218': 1,\n",
       " '219': 0,\n",
       " '220': 0,\n",
       " '221': 0,\n",
       " '222': 0,\n",
       " '223': 0,\n",
       " '224': 0,\n",
       " '225': 1,\n",
       " '226': 0,\n",
       " '227': 0,\n",
       " '228': 0,\n",
       " '229': 1,\n",
       " '230': 0,\n",
       " '231': 0,\n",
       " '232': 0,\n",
       " '233': 0,\n",
       " '234': 1,\n",
       " '235': 0,\n",
       " '236': 1,\n",
       " '237': 0,\n",
       " '238': 0,\n",
       " '239': 0,\n",
       " '240': 0,\n",
       " '241': 0,\n",
       " '242': 0,\n",
       " '243': 0,\n",
       " '244': 0,\n",
       " '245': 0,\n",
       " '246': 0,\n",
       " '247': 0,\n",
       " '248': 0,\n",
       " '249': 1,\n",
       " '250': 0,\n",
       " '251': 0,\n",
       " '252': 0,\n",
       " '253': 1,\n",
       " '254': 0,\n",
       " '255': 0,\n",
       " '256': 0,\n",
       " '257': 0,\n",
       " '258': 0,\n",
       " '259': 0,\n",
       " '260': 0,\n",
       " '261': 1,\n",
       " '262': 0,\n",
       " '263': 0,\n",
       " '264': 0,\n",
       " '265': 0,\n",
       " '266': 0,\n",
       " '267': 0,\n",
       " '268': 1,\n",
       " '269': 0,\n",
       " '270': 0,\n",
       " '271': 0,\n",
       " '272': 0,\n",
       " '273': 1,\n",
       " '274': 0,\n",
       " '275': 0,\n",
       " '276': 1,\n",
       " '277': 0,\n",
       " '278': 0,\n",
       " '279': 0,\n",
       " '280': 0,\n",
       " '281': 0,\n",
       " '282': 0,\n",
       " '283': 0,\n",
       " '284': 0,\n",
       " '285': 0,\n",
       " '286': 0,\n",
       " '287': 0,\n",
       " '288': 0,\n",
       " '289': 0,\n",
       " '290': 0,\n",
       " '291': 0,\n",
       " '292': 0,\n",
       " '293': 0,\n",
       " '294': 0,\n",
       " '295': 0,\n",
       " '296': 0,\n",
       " '297': 0,\n",
       " '298': 0,\n",
       " '299': 0,\n",
       " '300': 0,\n",
       " '301': 0,\n",
       " '302': 0,\n",
       " '303': 0,\n",
       " '304': 1,\n",
       " '305': 0,\n",
       " '306': 0,\n",
       " '307': 0,\n",
       " '308': 0,\n",
       " '309': 0,\n",
       " '310': 0,\n",
       " '311': 0,\n",
       " '312': 0,\n",
       " '313': 0,\n",
       " '314': 0,\n",
       " '315': 0,\n",
       " '316': 1,\n",
       " '317': 0,\n",
       " '318': 0,\n",
       " '319': 0,\n",
       " '320': 0,\n",
       " '321': 0,\n",
       " '322': 0,\n",
       " '323': 0,\n",
       " '324': 0,\n",
       " '325': 1,\n",
       " '326': 0,\n",
       " '327': 0,\n",
       " '328': 0,\n",
       " '329': 0,\n",
       " '330': 0,\n",
       " '331': 1,\n",
       " '332': 0,\n",
       " '333': 0,\n",
       " '334': 0,\n",
       " '335': 0,\n",
       " '336': 1,\n",
       " '337': 0,\n",
       " '338': 1,\n",
       " '339': 0,\n",
       " '340': 0,\n",
       " '341': 0,\n",
       " '342': 0,\n",
       " '343': 0,\n",
       " '344': 0,\n",
       " '345': 0,\n",
       " '346': 0,\n",
       " '347': 0,\n",
       " '348': 0,\n",
       " '349': 0,\n",
       " '350': 0,\n",
       " '351': 0,\n",
       " '352': 0,\n",
       " '353': 0,\n",
       " '354': 0,\n",
       " '355': 0,\n",
       " '356': 0,\n",
       " '357': 1,\n",
       " '358': 0,\n",
       " '359': 0,\n",
       " '360': 0,\n",
       " '361': 1,\n",
       " '362': 0,\n",
       " '363': 0,\n",
       " '364': 0,\n",
       " '365': 0,\n",
       " '366': 0,\n",
       " '367': 0,\n",
       " '368': 0,\n",
       " '369': 0,\n",
       " '370': 1,\n",
       " '371': 0,\n",
       " '372': 0,\n",
       " '373': 0,\n",
       " '374': 0,\n",
       " '375': 0,\n",
       " '376': 0,\n",
       " '377': 0,\n",
       " '378': 0,\n",
       " '379': 0,\n",
       " '380': 0,\n",
       " '381': 0,\n",
       " '382': 1,\n",
       " '383': 0,\n",
       " '384': 0,\n",
       " '385': 1,\n",
       " '386': 0,\n",
       " '387': 0,\n",
       " '388': 0,\n",
       " '389': 0,\n",
       " '390': 0,\n",
       " '391': 0,\n",
       " '392': 0,\n",
       " '393': 0,\n",
       " '394': 0,\n",
       " '395': 0,\n",
       " '396': 0,\n",
       " '397': 0,\n",
       " '398': 0,\n",
       " '399': 0,\n",
       " '400': 1,\n",
       " '401': 0,\n",
       " '402': 0,\n",
       " '403': 1,\n",
       " '404': 0,\n",
       " '405': 0,\n",
       " '406': 0,\n",
       " '407': 0,\n",
       " '408': 0,\n",
       " '409': 0,\n",
       " '410': 0,\n",
       " '411': 1,\n",
       " '412': 0,\n",
       " '413': 0,\n",
       " '414': 0,\n",
       " '415': 0,\n",
       " '416': 0,\n",
       " '417': 0,\n",
       " '418': 0,\n",
       " '419': 1,\n",
       " '420': 0,\n",
       " '421': 0,\n",
       " '422': 0,\n",
       " '423': 0,\n",
       " '424': 0,\n",
       " '425': 0,\n",
       " '426': 0,\n",
       " '427': 0,\n",
       " '428': 0,\n",
       " '429': 0,\n",
       " '430': 0,\n",
       " '431': 0,\n",
       " '432': 1,\n",
       " '433': 0,\n",
       " '434': 1,\n",
       " '435': 0,\n",
       " '436': 0,\n",
       " '437': 0,\n",
       " '438': 0,\n",
       " '439': 0,\n",
       " '440': 0,\n",
       " '441': 0,\n",
       " '442': 0,\n",
       " '443': 0,\n",
       " '444': 0,\n",
       " '445': 0,\n",
       " '446': 0,\n",
       " '447': 0,\n",
       " '448': 0,\n",
       " '449': 0,\n",
       " '450': 0,\n",
       " '451': 1,\n",
       " '452': 0,\n",
       " '453': 0,\n",
       " '454': 0,\n",
       " '455': 0,\n",
       " '456': 0,\n",
       " '457': 1,\n",
       " '458': 0,\n",
       " '459': 0,\n",
       " '460': 0,\n",
       " '461': 0,\n",
       " '462': 0,\n",
       " '463': 0,\n",
       " '464': 0,\n",
       " '465': 0,\n",
       " '466': 0,\n",
       " '467': 1,\n",
       " '468': 0,\n",
       " '469': 0,\n",
       " '470': 0,\n",
       " '471': 0,\n",
       " '472': 0,\n",
       " '473': 1,\n",
       " '474': 0,\n",
       " '475': 0,\n",
       " '476': 0,\n",
       " '477': 1,\n",
       " '478': 0,\n",
       " '479': 0,\n",
       " '480': 0,\n",
       " '481': 0,\n",
       " '482': 0,\n",
       " '483': 0,\n",
       " '484': 1,\n",
       " '485': 0,\n",
       " '486': 0,\n",
       " '487': 0,\n",
       " '488': 0,\n",
       " '489': 0,\n",
       " '490': 0,\n",
       " '491': 0,\n",
       " '492': 0,\n",
       " '493': 0,\n",
       " '494': 0,\n",
       " '495': 0,\n",
       " '496': 0,\n",
       " '497': 0,\n",
       " '498': 0,\n",
       " '499': 0,\n",
       " '500': 0,\n",
       " '501': 0,\n",
       " '502': 0,\n",
       " '503': 1,\n",
       " '504': 0,\n",
       " '505': 0,\n",
       " '506': 1,\n",
       " '507': 1,\n",
       " '508': 0,\n",
       " '509': 0,\n",
       " '510': 0,\n",
       " '511': 0,\n",
       " '512': 0,\n",
       " '513': 1,\n",
       " '514': 0,\n",
       " '515': 0,\n",
       " '516': 0,\n",
       " '517': 0,\n",
       " '518': 0,\n",
       " '519': 0,\n",
       " '520': 0,\n",
       " '521': 0,\n",
       " '522': 1,\n",
       " '523': 0,\n",
       " '524': 0,\n",
       " '525': 0,\n",
       " '526': 1,\n",
       " '527': 0,\n",
       " '528': 1,\n",
       " '529': 0,\n",
       " '530': 0,\n",
       " '531': 1,\n",
       " '532': 0,\n",
       " '533': 0,\n",
       " '534': 0,\n",
       " '535': 0,\n",
       " '536': 1,\n",
       " '537': 0,\n",
       " '538': 0,\n",
       " '539': 0,\n",
       " '540': 0,\n",
       " '541': 0,\n",
       " '542': 0,\n",
       " '543': 0,\n",
       " '544': 0,\n",
       " '545': 0,\n",
       " '546': 0,\n",
       " '547': 0,\n",
       " '548': 0,\n",
       " '549': 1,\n",
       " '550': 0,\n",
       " '551': 0,\n",
       " '552': 0,\n",
       " '553': 0,\n",
       " '554': 0,\n",
       " '555': 0,\n",
       " '556': 0,\n",
       " '557': 0,\n",
       " '558': 1,\n",
       " '559': 0,\n",
       " '560': 0,\n",
       " '561': 0,\n",
       " '562': 0,\n",
       " '563': 0,\n",
       " '564': 0,\n",
       " '565': 0,\n",
       " '566': 0,\n",
       " '567': 0,\n",
       " '568': 0,\n",
       " '569': 0,\n",
       " '570': 0,\n",
       " '571': 0,\n",
       " '572': 0,\n",
       " '573': 0,\n",
       " '574': 0,\n",
       " '575': 0,\n",
       " '576': 0,\n",
       " '577': 0,\n",
       " '578': 0,\n",
       " '579': 0,\n",
       " '580': 0,\n",
       " '581': 0,\n",
       " '582': 0,\n",
       " '583': 0,\n",
       " '584': 1,\n",
       " '585': 0,\n",
       " '586': 0,\n",
       " '587': 0,\n",
       " '588': 0,\n",
       " '589': 0,\n",
       " '590': 0,\n",
       " '591': 0,\n",
       " '592': 0,\n",
       " '593': 0,\n",
       " '594': 0,\n",
       " '595': 0,\n",
       " '596': 0,\n",
       " '597': 0,\n",
       " '598': 0,\n",
       " '599': 0,\n",
       " '600': 0,\n",
       " '601': 0,\n",
       " '602': 1,\n",
       " '603': 0,\n",
       " '604': 0,\n",
       " '605': 0,\n",
       " '606': 0,\n",
       " '607': 0,\n",
       " '608': 0,\n",
       " '609': 0,\n",
       " '610': 0,\n",
       " '611': 0,\n",
       " '612': 0,\n",
       " '613': 0,\n",
       " '614': 0,\n",
       " '615': 0,\n",
       " '616': 0,\n",
       " '617': 0,\n",
       " '618': 0,\n",
       " '619': 1,\n",
       " '620': 0,\n",
       " '621': 1,\n",
       " '622': 0,\n",
       " '623': 0,\n",
       " '624': 0,\n",
       " '625': 0,\n",
       " '626': 0,\n",
       " '627': 1,\n",
       " '628': 0,\n",
       " '629': 0,\n",
       " '630': 0,\n",
       " '631': 0,\n",
       " '632': 0,\n",
       " '633': 0,\n",
       " '634': 0,\n",
       " '635': 0,\n",
       " '636': 0,\n",
       " '637': 0,\n",
       " '638': 0,\n",
       " '639': 0,\n",
       " '640': 0,\n",
       " '641': 1,\n",
       " '642': 0,\n",
       " '643': 0,\n",
       " '644': 0,\n",
       " '645': 0,\n",
       " '646': 1,\n",
       " '647': 0,\n",
       " '648': 0,\n",
       " '649': 0,\n",
       " '650': 0,\n",
       " '651': 0,\n",
       " '652': 0,\n",
       " '653': 0,\n",
       " '654': 0,\n",
       " '655': 0,\n",
       " '656': 1,\n",
       " '657': 0,\n",
       " '658': 0,\n",
       " '659': 1,\n",
       " '660': 0,\n",
       " '661': 0,\n",
       " '662': 2,\n",
       " '663': 0,\n",
       " '664': 0,\n",
       " '665': 0,\n",
       " '666': 0,\n",
       " '667': 0,\n",
       " '668': 0,\n",
       " '669': 0,\n",
       " '670': 0,\n",
       " '671': 0,\n",
       " '672': 0,\n",
       " '673': 0,\n",
       " '674': 0,\n",
       " '675': 0,\n",
       " '676': 0,\n",
       " '677': 0,\n",
       " '678': 1,\n",
       " '679': 0,\n",
       " '680': 0,\n",
       " '681': 0,\n",
       " '682': 1,\n",
       " '683': 0,\n",
       " '684': 0,\n",
       " '685': 0,\n",
       " '686': 0,\n",
       " '687': 1,\n",
       " '688': 0,\n",
       " '689': 0,\n",
       " '690': 0,\n",
       " '691': 0,\n",
       " '692': 0,\n",
       " '693': 0,\n",
       " '694': 0,\n",
       " '695': 0,\n",
       " '696': 0,\n",
       " '697': 0,\n",
       " '698': 0,\n",
       " '699': 0,\n",
       " '700': 1,\n",
       " '701': 0,\n",
       " '702': 0,\n",
       " '703': 0,\n",
       " '704': 0,\n",
       " '705': 0,\n",
       " '706': 1,\n",
       " '707': 0,\n",
       " '708': 0,\n",
       " '709': 0,\n",
       " '710': 0,\n",
       " '711': 0,\n",
       " '712': 1,\n",
       " '713': 0,\n",
       " '714': 0,\n",
       " '715': 0,\n",
       " '716': 0,\n",
       " '717': 0,\n",
       " '718': 0,\n",
       " '719': 0,\n",
       " '720': 2,\n",
       " '721': 0,\n",
       " '722': 0,\n",
       " '723': 0,\n",
       " '724': 1,\n",
       " '725': 0,\n",
       " '726': 0,\n",
       " '727': 0,\n",
       " '728': 1,\n",
       " '729': 0,\n",
       " '730': 1,\n",
       " '731': 0,\n",
       " '732': 0,\n",
       " '733': 0,\n",
       " '734': 0,\n",
       " '735': 0,\n",
       " '736': 0,\n",
       " '737': 0,\n",
       " '738': 0,\n",
       " '739': 0,\n",
       " '740': 0,\n",
       " '741': 0,\n",
       " '742': 0,\n",
       " '743': 0,\n",
       " '744': 0,\n",
       " '745': 0,\n",
       " '746': 0,\n",
       " '747': 0,\n",
       " '748': 0,\n",
       " '749': 0,\n",
       " '750': 0,\n",
       " '751': 0,\n",
       " '752': 0,\n",
       " '753': 0,\n",
       " '754': 1,\n",
       " '755': 0,\n",
       " '756': 0,\n",
       " '757': 0,\n",
       " '758': 0,\n",
       " '759': 1,\n",
       " '760': 0,\n",
       " '761': 0,\n",
       " '762': 0,\n",
       " '763': 0,\n",
       " '764': 0,\n",
       " '765': 0,\n",
       " '766': 0,\n",
       " '767': 0,\n",
       " '768': 0,\n",
       " '769': 0,\n",
       " '770': 1,\n",
       " '771': 0,\n",
       " '772': 2,\n",
       " '773': 0,\n",
       " '774': 0,\n",
       " '775': 0,\n",
       " '776': 0,\n",
       " '777': 0,\n",
       " '778': 0,\n",
       " '779': 0,\n",
       " '780': 0,\n",
       " '781': 0,\n",
       " '782': 0,\n",
       " '783': 0,\n",
       " '784': 0,\n",
       " '785': 0,\n",
       " '786': 0,\n",
       " '787': 0,\n",
       " '788': 0,\n",
       " '789': 0,\n",
       " '790': 0,\n",
       " '791': 0,\n",
       " '792': 0,\n",
       " '793': 0,\n",
       " '794': 0,\n",
       " '795': 0,\n",
       " '796': 0,\n",
       " '797': 1,\n",
       " '798': 0,\n",
       " '799': 1,\n",
       " '800': 0,\n",
       " '801': 0,\n",
       " '802': 0,\n",
       " '803': 0,\n",
       " '804': 0,\n",
       " '805': 0,\n",
       " '806': 0,\n",
       " '807': 0,\n",
       " '808': 1,\n",
       " '809': 0,\n",
       " '810': 0,\n",
       " '811': 0,\n",
       " '812': 0,\n",
       " '813': 0,\n",
       " '814': 0,\n",
       " '815': 0,\n",
       " '816': 0,\n",
       " '817': 0,\n",
       " '818': 0,\n",
       " '819': 0,\n",
       " '820': 0,\n",
       " '821': 0,\n",
       " '822': 0,\n",
       " '823': 0,\n",
       " '824': 0,\n",
       " '825': 0,\n",
       " '826': 0,\n",
       " '827': 0,\n",
       " '828': 0,\n",
       " '829': 0,\n",
       " '830': 0,\n",
       " '831': 0,\n",
       " '832': 0,\n",
       " '833': 0,\n",
       " '834': 0,\n",
       " '835': 0,\n",
       " '836': 0,\n",
       " '837': 0,\n",
       " '838': 0,\n",
       " '839': 1,\n",
       " '840': 0,\n",
       " '841': 0,\n",
       " '842': 0,\n",
       " '843': 0,\n",
       " '844': 0,\n",
       " '845': 0,\n",
       " '846': 0,\n",
       " '847': 0,\n",
       " '848': 1,\n",
       " '849': 1,\n",
       " '850': 0,\n",
       " '851': 0,\n",
       " '852': 0,\n",
       " '853': 0,\n",
       " '854': 0,\n",
       " '855': 0,\n",
       " '856': 1,\n",
       " '857': 0,\n",
       " '858': 0,\n",
       " '859': 0,\n",
       " '860': 0,\n",
       " '861': 0,\n",
       " '862': 0,\n",
       " '863': 1,\n",
       " '864': 0,\n",
       " '865': 0,\n",
       " '866': 0,\n",
       " '867': 0,\n",
       " '868': 0,\n",
       " '869': 0,\n",
       " '870': 1,\n",
       " '871': 0,\n",
       " '872': 0,\n",
       " '873': 0,\n",
       " '874': 0,\n",
       " '875': 0,\n",
       " '876': 0,\n",
       " '877': 0,\n",
       " '878': 0,\n",
       " '879': 0,\n",
       " '880': 0,\n",
       " '881': 0,\n",
       " '882': 0,\n",
       " '883': 0,\n",
       " '884': 0,\n",
       " '885': 0,\n",
       " '886': 1,\n",
       " '887': 1,\n",
       " '888': 0,\n",
       " '889': 0,\n",
       " '890': 0,\n",
       " '891': 0,\n",
       " '892': 0,\n",
       " '893': 0,\n",
       " '894': 0,\n",
       " '895': 0,\n",
       " '896': 0,\n",
       " '897': 0,\n",
       " '898': 0,\n",
       " '899': 0,\n",
       " '900': 0,\n",
       " '901': 0,\n",
       " '902': 0,\n",
       " '903': 1,\n",
       " '904': 0,\n",
       " '905': 0,\n",
       " '906': 0,\n",
       " '907': 1,\n",
       " '908': 0,\n",
       " '909': 0,\n",
       " '910': 0,\n",
       " '911': 0,\n",
       " '912': 1,\n",
       " '913': 0,\n",
       " '914': 0,\n",
       " '915': 0,\n",
       " '916': 0,\n",
       " '917': 0,\n",
       " '918': 0,\n",
       " '919': 0,\n",
       " '920': 0,\n",
       " '921': 0,\n",
       " '922': 0,\n",
       " '923': 0,\n",
       " '924': 0,\n",
       " '925': 1,\n",
       " '926': 0,\n",
       " '927': 0,\n",
       " '928': 0,\n",
       " '929': 0,\n",
       " '930': 0,\n",
       " '931': 0,\n",
       " '932': 1,\n",
       " '933': 0,\n",
       " '934': 0,\n",
       " '935': 0,\n",
       " '936': 0,\n",
       " '937': 0,\n",
       " '938': 0,\n",
       " '939': 0,\n",
       " '940': 0,\n",
       " '941': 1,\n",
       " '942': 0,\n",
       " '943': 1,\n",
       " '944': 1,\n",
       " '945': 0,\n",
       " '946': 0,\n",
       " '947': 0,\n",
       " '948': 0,\n",
       " '949': 0,\n",
       " '950': 0,\n",
       " '951': 0,\n",
       " '952': 0,\n",
       " '953': 1,\n",
       " '954': 0,\n",
       " '955': 0,\n",
       " '956': 0,\n",
       " '957': 0,\n",
       " '958': 0,\n",
       " '959': 0,\n",
       " '960': 0,\n",
       " '961': 0,\n",
       " '962': 0,\n",
       " '963': 0,\n",
       " '964': 0,\n",
       " '965': 0,\n",
       " '966': 0,\n",
       " '967': 0,\n",
       " '968': 0,\n",
       " '969': 0,\n",
       " '970': 0,\n",
       " '971': 0,\n",
       " '972': 0,\n",
       " '973': 0,\n",
       " '974': 0,\n",
       " '975': 0,\n",
       " '976': 0,\n",
       " '977': 0,\n",
       " '978': 0,\n",
       " '979': 0,\n",
       " '980': 0,\n",
       " '981': 0,\n",
       " '982': 0,\n",
       " '983': 0,\n",
       " '984': 0,\n",
       " '985': 1,\n",
       " '986': 0,\n",
       " '987': 0,\n",
       " '988': 0,\n",
       " '989': 0,\n",
       " '990': 0,\n",
       " '991': 0,\n",
       " '992': 0,\n",
       " '993': 0,\n",
       " '994': 0,\n",
       " '995': 1,\n",
       " '996': 0,\n",
       " '997': 0,\n",
       " '998': 0,\n",
       " '999': 0,\n",
       " ...}"
      ]
     },
     "execution_count": 169,
     "metadata": {},
     "output_type": "execute_result"
    }
   ],
   "source": [
    "[v for k,v in ]"
   ]
  },
  {
   "cell_type": "code",
   "execution_count": null,
   "id": "25c5c18d",
   "metadata": {},
   "outputs": [],
   "source": []
  },
  {
   "cell_type": "code",
   "execution_count": 141,
   "id": "740a61f2",
   "metadata": {},
   "outputs": [
    {
     "data": {
      "text/plain": [
       "-66"
      ]
     },
     "execution_count": 141,
     "metadata": {},
     "output_type": "execute_result"
    }
   ],
   "source": [
    "22*9-22*12"
   ]
  },
  {
   "cell_type": "code",
   "execution_count": 98,
   "id": "25dadaa4",
   "metadata": {},
   "outputs": [],
   "source": [
    "hml_paths = sorted(glob(\"/srv/hays-lab/scratch/sanisetty3/music_motion/HumanML3D/HumanML3D_SMPL/new_joints_vec/*.npy\"))\n"
   ]
  },
  {
   "cell_type": "code",
   "execution_count": 99,
   "id": "71d13f5f",
   "metadata": {},
   "outputs": [],
   "source": [
    "og_hml_train = []\n",
    "f = open(\"/srv/hays-lab/scratch/sanisetty3/music_motion/HumanML3D/HumanML3D/train.txt\", \"r\")\n",
    "for l in f:\n",
    "    og_hml_train.append(l.rstrip()[-6:])\n",
    "    \n",
    "og_hml_train = np.unique(og_hml_train)\n",
    "    \n",
    "og_hml_test = []\n",
    "f = open(\"/srv/hays-lab/scratch/sanisetty3/music_motion/HumanML3D/HumanML3D/test.txt\", \"r\")\n",
    "for l in f:\n",
    "    og_hml_test.append(l.rstrip()[-6:])\n",
    "    \n",
    "og_hml_test = np.unique(og_hml_test)\n",
    "\n",
    "    \n",
    "og_hml_val = []\n",
    "f = open(\"/srv/hays-lab/scratch/sanisetty3/music_motion/HumanML3D/HumanML3D/val.txt\", \"r\")\n",
    "for l in f:\n",
    "    og_hml_val.append(l.rstrip()[-6:])\n",
    "\n",
    "og_hml_val = np.unique(og_hml_val)\n"
   ]
  },
  {
   "cell_type": "code",
   "execution_count": 100,
   "id": "e4788699",
   "metadata": {},
   "outputs": [
    {
     "data": {
      "text/plain": [
       "14614"
      ]
     },
     "execution_count": 100,
     "metadata": {},
     "output_type": "execute_result"
    }
   ],
   "source": [
    "len(og_hml_train) + len(og_hml_test) + len(og_hml_val)"
   ]
  },
  {
   "cell_type": "code",
   "execution_count": 101,
   "id": "905d4df9",
   "metadata": {},
   "outputs": [
    {
     "data": {
      "text/plain": [
       "15227"
      ]
     },
     "execution_count": 101,
     "metadata": {},
     "output_type": "execute_result"
    }
   ],
   "source": [
    "new_hml = sorted(np.unique([os.path.basename(path).split(\"_\")[-1].split(\".\")[0] for path in hml_paths]))\n",
    "len(new_hml)"
   ]
  },
  {
   "cell_type": "code",
   "execution_count": 102,
   "id": "e89e1265",
   "metadata": {},
   "outputs": [],
   "source": [
    "train_names = sorted(list(set(new_hml).intersection(og_hml_train)))\n",
    "test_names = sorted(list(set(new_hml).intersection(og_hml_test)))\n",
    "val_names = sorted(list(set(new_hml).intersection(og_hml_val)))\n",
    "additional_hml_names = sorted(list(set(new_hml) ^ (set(list(train_names) + list(test_names) + list(val_names)))))"
   ]
  },
  {
   "cell_type": "code",
   "execution_count": 103,
   "id": "9150be4c",
   "metadata": {},
   "outputs": [
    {
     "data": {
      "text/plain": [
       "15227"
      ]
     },
     "execution_count": 103,
     "metadata": {},
     "output_type": "execute_result"
    }
   ],
   "source": [
    "len(train_names) + len(test_names) + len(val_names)  + len(additional_hml_names)"
   ]
  },
  {
   "cell_type": "code",
   "execution_count": 104,
   "id": "73933e75",
   "metadata": {},
   "outputs": [],
   "source": [
    "all_train  =  sorted([os.path.basename(path).split(\".\")[0] for path in hml_paths if os.path.basename(path).split(\"_\")[-1].split(\".\")[0] in train_names])\n",
    "all_test  =  sorted([os.path.basename(path).split(\".\")[0] for path in hml_paths if os.path.basename(path).split(\"_\")[-1].split(\".\")[0] in test_names])\n",
    "all_val  =  sorted([os.path.basename(path).split(\".\")[0] for path in hml_paths if os.path.basename(path).split(\"_\")[-1].split(\".\")[0] in val_names])\n",
    "additional_hml_names  =  sorted([os.path.basename(path).split(\".\")[0] for path in hml_paths if os.path.basename(path).split(\"_\")[-1].split(\".\")[0] in additional_hml_names])"
   ]
  },
  {
   "cell_type": "code",
   "execution_count": 105,
   "id": "13c9012a",
   "metadata": {},
   "outputs": [
    {
     "data": {
      "text/plain": [
       "45629"
      ]
     },
     "execution_count": 105,
     "metadata": {},
     "output_type": "execute_result"
    }
   ],
   "source": [
    "len(all_train) + len(all_test) + len(all_val) + len(additional_hml_names)"
   ]
  },
  {
   "cell_type": "code",
   "execution_count": 106,
   "id": "75d93ec5",
   "metadata": {},
   "outputs": [],
   "source": [
    "all_train = sorted(all_train + additional_hml_names[:5000])\n",
    "all_test = sorted(all_test + additional_hml_names[5000:])"
   ]
  },
  {
   "cell_type": "code",
   "execution_count": 92,
   "id": "e0a3153b",
   "metadata": {},
   "outputs": [
    {
     "data": {
      "text/plain": [
       "45629"
      ]
     },
     "execution_count": 92,
     "metadata": {},
     "output_type": "execute_result"
    }
   ],
   "source": [
    "# with open(\"/srv/hays-lab/scratch/sanisetty3/music_motion/HumanML3D/HumanML3D_SMPL/train.txt\" , 'w') as f:\n",
    "#     for line in all_train:\n",
    "#         f.write(line + \"\\n\") "
   ]
  },
  {
   "cell_type": "code",
   "execution_count": null,
   "id": "1509e80b",
   "metadata": {},
   "outputs": [],
   "source": []
  },
  {
   "cell_type": "markdown",
   "id": "07314f01",
   "metadata": {},
   "source": [
    "## Save CM"
   ]
  },
  {
   "cell_type": "code",
   "execution_count": 18,
   "id": "7921e626",
   "metadata": {},
   "outputs": [
    {
     "data": {
      "text/plain": [
       "108"
      ]
     },
     "execution_count": 18,
     "metadata": {},
     "output_type": "execute_result"
    }
   ],
   "source": [
    "cm_paths  = sorted(glob(\"/srv/hays-lab/scratch/sanisetty3/music_motion/Choreomaster_SMPL/new_joints_vec/*npy\"))\n",
    "len(cm_paths)"
   ]
  },
  {
   "cell_type": "code",
   "execution_count": 7,
   "id": "3214adb9",
   "metadata": {},
   "outputs": [
    {
     "data": {
      "text/plain": [
       "36"
      ]
     },
     "execution_count": 7,
     "metadata": {},
     "output_type": "execute_result"
    }
   ],
   "source": [
    "cm_names = sorted(np.unique([os.path.basename(path).split(\"_\")[-1].split(\".\")[0] for path in cm_paths]))\n",
    "len(cm_names)"
   ]
  },
  {
   "cell_type": "code",
   "execution_count": 11,
   "id": "99c04be7",
   "metadata": {},
   "outputs": [],
   "source": [
    "train_names , test_names, val_names, _  = np.split(np.random.permutation((cm_names)) , [29 ,33 ,36])"
   ]
  },
  {
   "cell_type": "code",
   "execution_count": 17,
   "id": "8ec9094c",
   "metadata": {},
   "outputs": [
    {
     "data": {
      "text/plain": [
       "29"
      ]
     },
     "execution_count": 17,
     "metadata": {},
     "output_type": "execute_result"
    }
   ],
   "source": [
    "len(train_names)"
   ]
  },
  {
   "cell_type": "code",
   "execution_count": 14,
   "id": "0835a756",
   "metadata": {},
   "outputs": [],
   "source": [
    "all_train  =  sorted([os.path.basename(path).split(\".\")[0] for path in cm_paths if os.path.basename(path).split(\"_\")[-1].split(\".\")[0] in train_names])\n",
    "all_test  =  sorted([os.path.basename(path).split(\".\")[0] for path in cm_paths if os.path.basename(path).split(\"_\")[-1].split(\".\")[0] in test_names])\n",
    "all_val  =  sorted([os.path.basename(path).split(\".\")[0] for path in cm_paths if os.path.basename(path).split(\"_\")[-1].split(\".\")[0] in val_names])\n",
    "all_ = sorted(all_train + all_test + all_val )"
   ]
  },
  {
   "cell_type": "code",
   "execution_count": 16,
   "id": "2b026b17",
   "metadata": {},
   "outputs": [
    {
     "data": {
      "text/plain": [
       "108"
      ]
     },
     "execution_count": 16,
     "metadata": {},
     "output_type": "execute_result"
    }
   ],
   "source": [
    "len(all_)"
   ]
  },
  {
   "cell_type": "code",
   "execution_count": 22,
   "id": "ef4435bb",
   "metadata": {},
   "outputs": [],
   "source": [
    "with open(\"/srv/hays-lab/scratch/sanisetty3/music_motion/Choreomaster_SMPL/test.txt\" , 'w') as f:\n",
    "    for line in all_test:\n",
    "        f.write(line + \"\\n\") "
   ]
  },
  {
   "cell_type": "code",
   "execution_count": 89,
   "id": "cdbe888b",
   "metadata": {},
   "outputs": [],
   "source": []
  },
  {
   "cell_type": "markdown",
   "id": "01eead9c",
   "metadata": {},
   "source": [
    "## Save AIST"
   ]
  },
  {
   "cell_type": "code",
   "execution_count": 23,
   "id": "471fc1f5",
   "metadata": {},
   "outputs": [],
   "source": [
    "aist_paths = sorted(glob(\"/srv/hays-lab/scratch/sanisetty3/music_motion/AIST_SMPL/new_joints_vec/*.npy\"))\n"
   ]
  },
  {
   "cell_type": "code",
   "execution_count": 24,
   "id": "8bbbdafa",
   "metadata": {},
   "outputs": [],
   "source": [
    "# [os.remove(p) for p in aist_paths if \"_M_\" in p]"
   ]
  },
  {
   "cell_type": "code",
   "execution_count": 25,
   "id": "90425439",
   "metadata": {},
   "outputs": [
    {
     "data": {
      "text/plain": [
       "4087"
      ]
     },
     "execution_count": 25,
     "metadata": {},
     "output_type": "execute_result"
    }
   ],
   "source": [
    "len(aist_paths)"
   ]
  },
  {
   "cell_type": "code",
   "execution_count": null,
   "id": "1e7a171e",
   "metadata": {},
   "outputs": [],
   "source": []
  },
  {
   "cell_type": "code",
   "execution_count": 38,
   "id": "4358fa6f",
   "metadata": {},
   "outputs": [],
   "source": [
    "anno_dir = \"/srv/share/datasets/AIST/aist_plusplus_final/\"\n",
    "\n",
    "seq_names = []\n",
    "seq_names += np.loadtxt(\n",
    "    os.path.join(\"/srv/share/datasets/AIST/aist_plusplus_final/splits/all.txt\"), dtype=str\n",
    ").tolist()\n",
    "ignore_list = np.loadtxt(\n",
    "os.path.join(anno_dir, \"ignore_list.txt\"), dtype=str\n",
    ").tolist()\n",
    "seq_names = [name for name in seq_names if name not in ignore_list]\n"
   ]
  },
  {
   "cell_type": "code",
   "execution_count": 39,
   "id": "f084e9c6",
   "metadata": {},
   "outputs": [
    {
     "data": {
      "text/plain": [
       "1363"
      ]
     },
     "execution_count": 39,
     "metadata": {},
     "output_type": "execute_result"
    }
   ],
   "source": [
    "len(seq_names)"
   ]
  },
  {
   "cell_type": "code",
   "execution_count": 40,
   "id": "6b977cf7",
   "metadata": {},
   "outputs": [
    {
     "data": {
      "text/plain": [
       "4087"
      ]
     },
     "execution_count": 40,
     "metadata": {},
     "output_type": "execute_result"
    }
   ],
   "source": [
    "all_perm  =  sorted([os.path.basename(path).split(\".\")[0] for path in aist_paths if os.path.basename(path).split(\".\")[0][-26:] in seq_names])\n",
    "len(all_perm)"
   ]
  },
  {
   "cell_type": "code",
   "execution_count": null,
   "id": "6c56cc57",
   "metadata": {},
   "outputs": [],
   "source": []
  },
  {
   "cell_type": "code",
   "execution_count": 41,
   "id": "ff425444",
   "metadata": {},
   "outputs": [],
   "source": [
    "with open(\"/srv/hays-lab/scratch/sanisetty3/music_motion/AIST_SMPL/all.txt\" , 'w') as f:\n",
    "    for line in all_perm:\n",
    "        f.write(line + \"\\n\") "
   ]
  },
  {
   "cell_type": "code",
   "execution_count": null,
   "id": "3fef8b64",
   "metadata": {},
   "outputs": [],
   "source": []
  },
  {
   "cell_type": "raw",
   "id": "085393e6",
   "metadata": {},
   "source": []
  },
  {
   "cell_type": "code",
   "execution_count": 94,
   "id": "1a6376dd",
   "metadata": {},
   "outputs": [],
   "source": []
  },
  {
   "cell_type": "code",
   "execution_count": 63,
   "id": "0b926d13",
   "metadata": {},
   "outputs": [],
   "source": []
  },
  {
   "cell_type": "code",
   "execution_count": null,
   "id": "1f4b81c2",
   "metadata": {},
   "outputs": [],
   "source": []
  }
 ],
 "metadata": {
  "kernelspec": {
   "display_name": "Python [conda env:tgm3d]",
   "language": "python",
   "name": "conda-env-tgm3d-py"
  },
  "language_info": {
   "codemirror_mode": {
    "name": "ipython",
    "version": 3
   },
   "file_extension": ".py",
   "mimetype": "text/x-python",
   "name": "python",
   "nbconvert_exporter": "python",
   "pygments_lexer": "ipython3",
   "version": "3.9.17"
  }
 },
 "nbformat": 4,
 "nbformat_minor": 5
}
