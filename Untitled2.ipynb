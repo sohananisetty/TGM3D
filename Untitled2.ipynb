{
 "cells": [
  {
   "cell_type": "code",
   "execution_count": 1,
   "id": "2a8fe3e4-d6a6-4d6a-9ad9-c3366d664887",
   "metadata": {},
   "outputs": [
    {
     "name": "stdout",
     "output_type": "stream",
     "text": [
      "Using device: cuda\n",
      "\n",
      "NVIDIA GeForce RTX 2080 Ti\n",
      "Memory Usage:\n",
      "Allocated: 0.0 GB\n",
      "Cached:    0.0 GB\n"
     ]
    },
    {
     "data": {
      "text/plain": [
       "''"
      ]
     },
     "execution_count": 1,
     "metadata": {},
     "output_type": "execute_result"
    }
   ],
   "source": [
    "# setting device on GPU if available, else CPU\n",
    "import torch\n",
    "device = torch.device('cuda' if torch.cuda.is_available() else 'cpu')\n",
    "print('Using device:', device)\n",
    "print()\n",
    "\n",
    "#Additional Info when using cuda\n",
    "if device.type == 'cuda':\n",
    "    print(torch.cuda.get_device_name(0))\n",
    "    print('Memory Usage:')\n",
    "    print('Allocated:', round(torch.cuda.memory_allocated(0)/1024**3,1), 'GB')\n",
    "    print('Cached:   ', round(torch.cuda.memory_reserved(0)/1024**3,1), 'GB')\n",
    "\"\""
   ]
  },
  {
   "cell_type": "code",
   "execution_count": 1,
   "id": "2edbfe36-71e6-42c0-8140-b65655fdc39c",
   "metadata": {},
   "outputs": [],
   "source": [
    "%load_ext autoreload\n",
    "%autoreload 2\n",
    "%matplotlib inline"
   ]
  },
  {
   "cell_type": "code",
   "execution_count": 2,
   "id": "b9294986-febd-43fa-80ef-9fa69e45899c",
   "metadata": {},
   "outputs": [
    {
     "name": "stderr",
     "output_type": "stream",
     "text": [
      "/srv/share2/sanisetty3/miniconda3/envs/tgm3d/lib/python3.9/site-packages/tqdm/auto.py:21: TqdmWarning: IProgress not found. Please update jupyter and ipywidgets. See https://ipywidgets.readthedocs.io/en/stable/user_install.html\n",
      "  from .autonotebook import tqdm as notebook_tqdm\n"
     ]
    }
   ],
   "source": [
    "import os\n",
    "import random\n",
    "from typing import Callable, Dict, List, Optional, Tuple\n",
    "\n",
    "import numpy as np\n",
    "import torch\n",
    "from torch.utils import data\n",
    "from tqdm import tqdm\n",
    "\n",
    "from torch.utils.data import DataLoader\n",
    "import torch\n",
    "import transformers"
   ]
  },
  {
   "cell_type": "code",
   "execution_count": 3,
   "id": "fe04867a-b38e-46af-8df9-ac071680f141",
   "metadata": {},
   "outputs": [],
   "source": [
    "from configs.config import get_cfg_defaults\n",
    "from core.datasets.dataset_loading_utils import load_dataset\n",
    "from core.datasets.vq_dataset import DATALoader\n",
    "from utils.vis_utils import plot_3d_global\n",
    "from core.models.conformer_vqvae import ConformerVQMotionModel, Encoder\n",
    "from torch.utils import data\n",
    "from core.datasets.vq_dataset import DATALoader, MotionCollator\n",
    "from einops import pack, rearrange, reduce, repeat, unpack\n",
    "\n",
    "def pack_one(t, pattern):\n",
    "    return pack([t], pattern)\n"
   ]
  },
  {
   "cell_type": "code",
   "execution_count": 4,
   "id": "0bb81034-2c76-48f0-ad58-fb8fd3d2f9b9",
   "metadata": {},
   "outputs": [],
   "source": [
    "from core.models.BERT import BERT, BERTLM, BERTParams\n",
    "from core.datasets.motion_bert_dataset import BERTMotionDataset\n",
    "def cycle(dl):\n",
    "    while True:\n",
    "        for data in dl:\n",
    "            yield data\n"
   ]
  },
  {
   "cell_type": "code",
   "execution_count": 5,
   "id": "198a553b-ecc8-4af2-b20e-ac4c2e43ea1c",
   "metadata": {},
   "outputs": [],
   "source": [
    "params = BERTParams()\n",
    "bert = BERT(params)\n",
    "# Initialize the BERT Language Model, with BERT model\n",
    "model = BERTLM(bert, 1024).cuda()"
   ]
  },
  {
   "cell_type": "code",
   "execution_count": 8,
   "id": "1369d708-3ab7-453d-a25d-65faafdea0c0",
   "metadata": {},
   "outputs": [
    {
     "name": "stderr",
     "output_type": "stream",
     "text": [
      "100%|██████████████████████████████████████████████████████████████████████████████████████████████████████████████████████████| 4384/4384 [00:02<00:00, 1606.85it/s]"
     ]
    },
    {
     "name": "stdout",
     "output_type": "stream",
     "text": [
      "Total number of motions 4384\n"
     ]
    },
    {
     "name": "stderr",
     "output_type": "stream",
     "text": [
      "\n"
     ]
    }
   ],
   "source": [
    "train_dataset = BERTMotionDataset(\n",
    "            \"t2m\",\n",
    "            \"/srv/hays-lab/scratch/sanisetty3/music_motion/HumanMotionIndices/\",\n",
    "            split=\"test\",\n",
    "        )"
   ]
  },
  {
   "cell_type": "code",
   "execution_count": 17,
   "id": "1aea87c6-7a31-424c-a75f-1683c5623b70",
   "metadata": {},
   "outputs": [],
   "source": [
    "dl = DataLoader(train_dataset, batch_size=2, num_workers=0)\n",
    "dl_iter = cycle(dl)"
   ]
  },
  {
   "cell_type": "code",
   "execution_count": 18,
   "id": "f6e3ad4a-3206-41ad-8a41-99d975fc89b1",
   "metadata": {},
   "outputs": [],
   "source": [
    "data = next(dl_iter)"
   ]
  },
  {
   "cell_type": "code",
   "execution_count": 19,
   "id": "609f322b-515d-4ee0-88bf-edd75a579dc8",
   "metadata": {},
   "outputs": [
    {
     "data": {
      "text/plain": [
       "array([591, 611, 242, 370, 845, 193, 591, 888, 736, 839, 699, 153, 193,\n",
       "       922, 591, 197, 699, 845, 360,  33, 888, 552, 358, 148,  53, 360,\n",
       "       142, 591, 197, 699, 946, 360, 591, 888, 897, 897, 699, 447, 193,\n",
       "       177, 591, 197,  74, 148, 999, 674, 142, 552, 627, 699])"
      ]
     },
     "execution_count": 19,
     "metadata": {},
     "output_type": "execute_result"
    }
   ],
   "source": [
    "train_dataset.data[0]"
   ]
  },
  {
   "cell_type": "code",
   "execution_count": 20,
   "id": "8491faa4-e679-4ed8-a468-ee45d3f7624d",
   "metadata": {},
   "outputs": [
    {
     "data": {
      "text/plain": [
       "torch.Size([2, 512])"
      ]
     },
     "execution_count": 20,
     "metadata": {},
     "output_type": "execute_result"
    }
   ],
   "source": [
    "data[\"bert_input\"].shape"
   ]
  },
  {
   "cell_type": "code",
   "execution_count": 24,
   "id": "807cce56-fb17-4fd1-83d5-39ab5af8d004",
   "metadata": {},
   "outputs": [
    {
     "data": {
      "text/plain": [
       "tensor([[25, 43],\n",
       "        [ 8,  8]])"
      ]
     },
     "execution_count": 24,
     "metadata": {},
     "output_type": "execute_result"
    }
   ],
   "source": [
    "data[\"motion_lengths\"]"
   ]
  },
  {
   "cell_type": "code",
   "execution_count": null,
   "id": "ff7093c7-7ce6-4c23-a86a-bd52f83e42f8",
   "metadata": {},
   "outputs": [],
   "source": []
  },
  {
   "cell_type": "code",
   "execution_count": null,
   "id": "4d087b22-bc12-4afc-9400-2da8dfc67fd1",
   "metadata": {},
   "outputs": [],
   "source": []
  },
  {
   "cell_type": "code",
   "execution_count": 22,
   "id": "e149ebd2-0c35-45a1-b10b-55e37674d3b6",
   "metadata": {},
   "outputs": [],
   "source": [
    "next_sent_output, mask_lm_output = model.forward(\n",
    "                    data[\"bert_input\"].cuda(), data[\"segment_label\"].cuda()\n",
    "                )"
   ]
  },
  {
   "cell_type": "code",
   "execution_count": null,
   "id": "03a9dd6f-192c-459b-b7c9-147fa2e2cef8",
   "metadata": {},
   "outputs": [],
   "source": []
  },
  {
   "cell_type": "code",
   "execution_count": null,
   "id": "9ee574d6-24f2-47c1-898e-5a726c77dff6",
   "metadata": {},
   "outputs": [],
   "source": []
  }
 ],
 "metadata": {
  "kernelspec": {
   "display_name": "Python 3 (ipykernel)",
   "language": "python",
   "name": "python3"
  },
  "language_info": {
   "codemirror_mode": {
    "name": "ipython",
    "version": 3
   },
   "file_extension": ".py",
   "mimetype": "text/x-python",
   "name": "python",
   "nbconvert_exporter": "python",
   "pygments_lexer": "ipython3",
   "version": "3.9.17"
  }
 },
 "nbformat": 4,
 "nbformat_minor": 5
}
